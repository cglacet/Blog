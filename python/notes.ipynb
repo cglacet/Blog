{
 "cells": [
  {
   "cell_type": "markdown",
   "metadata": {},
   "source": [
    "<a id='begining'></a>\n",
    "[< go back to home](https://github.com/cglacet/Blog#my-publicationsnotes-on-various-subjects)\n",
    "\n",
    "# One step closer to using Python properly\n",
    "\n",
    "**Interactive version** here (it may take a few seconds to load): \n",
    "[![Binder](https://mybinder.org/badge_logo.svg)][interactive]\n",
    "\n",
    "Using the interactive version is strongly advised as you'll be able to add your own test along the way without having to rewrite all the code. Don't worry, your changes do not affect how others will see the file, your changes are visible only to you. \n",
    "\n",
    "\n",
    "## Content\n",
    "\n",
    "I'm always trying to improve my knowledge of python because it's my favorite language, that's the main reason why I'm writting this notes. Feel free to [contact me][mail] or to open an issue if you have any question or if you find something wrong/innacurate/outdated or even if you think I should look at a particular subject.\n",
    "\n",
    "This article presents some python features that everyone should try using, but also covers more fundamental computer science questions on the way. I'll try to be as educational as possible but this is intended for people that already have basic knowledge in computer science. What I think are the prerequisite:\n",
    "\n",
    "* types, typing (static typing and dynamic type checking)\n",
    "* control structures if, for, while\n",
    "* complexity analysis: being able to compute asymptotic complexities (for simple examples).\n",
    "* computer architecture: in particular memory management,  \n",
    "* ...\n",
    "\n",
    "\n",
    "In most cases I'll present a problem, give a first implementation and progressively add python flavor to it. In some cases examples will come from code I saw on [Stackoverflow][stackoverflow] or [Exercism.io][exercism], sometimes the example will be a code of mine and in many cases the examples will be purely fictional. If by any chance you see a code you wrote here and you want it to be removed then you can [contact me][mail]. I'll always try to go as deep as I can in the explanations every piece of code will be an excuse to discuss implementation details and fundamental aspects.\n",
    "\n",
    "Everytime you see the python logo somewhere, this means there is a link to the documentation of that particular function/method/class:\n",
    "\n",
    "> **str.lower()** [<img src=\"images/py.png\" style=\"display: inline; margin: 0 4px;\" />][strlower]\n",
    "\n",
    "Finally I'll answer the question **\"Why is this all in one page?\"** before you ask, it's because I find it so much easier to search for a topic in a single page using CTRL+F (or ⌘+F) instead of having to rely on a navigation system that would eventually fail.\n",
    "\n",
    "Note that everything is more or less in arbitrary order (even though I'll try to maintain a complexity order, but this is mostly subjective), you can use the following indexes if you are looking for a specific subject.\n",
    "\n",
    "## Topics Index\n",
    "\n",
    "* **Built-in functions** [enumerate()](#enumerate_1), [map()](#map_1)\n",
    "* **Built-in types** [range()](#range_1), [set()](#set_1), [tuple()](#type_tuple_1)\n",
    "* **Itertools module** [takewhile()](#takewhile_1)\n",
    "* **Asynchronous modules (coming next)** [async-await](#async-await), [asyncio](#asyncio)\n",
    "* **Other modules** [timeit](#timeit_1)\n",
    "\n",
    "## Paradigms/design patterns index\n",
    "\n",
    "* [**Immutability**](#Immutability)\n",
    "\n",
    "\n",
    "## Problems Index\n",
    "\n",
    "* [**Statistics on population**](#Statistics-on-population)\n",
    "* [**Finding vowels in a string**](#Finding-vowels-and-their-position-in-a-string)\n",
    "\n",
    "\n",
    "[exercism]: https://exercism.io\n",
    "[stackoverflow]: https://stackoverflow.com/questions/tagged/python\n",
    "[mail]: mailto:christian.glacet+python@gmail.com\n",
    "[strlower]: https://docs.python.org/3/library/stdtypes.html#str.lower\n",
    "[interactive]: https://mybinder.org/v2/gh/cglacet/Blog/master?filepath=python%2Fnotes.ipynb"
   ]
  },
  {
   "cell_type": "markdown",
   "metadata": {},
   "source": [
    "# Statistics on population\n",
    "\n",
    "**Topics** Object Oriented Programming (OOP); Lists/Generators/Iterators ; ploting (coming next)\n",
    "\n",
    "**Problem definition** Implement a population class that will act as a list of people (name/age). We will supose that we have different kind of users for our API, but we will focus on one particular user that is only interested in making statisticall analysis over our populations ages. \n",
    "\n",
    "**Constraints we will try to uphold are** performances, reusability and of course producing clean code. \n",
    "\n",
    "\n",
    "## Our first Python class — Person\n",
    "\n",
    "Lets start by defining a `Person` type that we will not modify and use for the rest of the section."
   ]
  },
  {
   "cell_type": "code",
   "execution_count": 1,
   "metadata": {},
   "outputs": [
    {
     "name": "stdout",
     "output_type": "stream",
     "text": [
      "Christian is 32 years old.\n"
     ]
    }
   ],
   "source": [
    "from datetime import datetime\n",
    "\n",
    "date_fmt = \"%d/%m/%Y\"\n",
    "\n",
    "class Person:\n",
    "    def __init__(self, name, birth_date):\n",
    "        self.name = name\n",
    "        self.birth = birth_date\n",
    "\n",
    "    def age(self):\n",
    "        return (datetime.today() - self.birth).days//365\n",
    "    \n",
    "    def __str__(self):\n",
    "        return f\"{self.name} is {self.age()} years old.\"\n",
    "    \n",
    "birth = datetime.strptime(\"31/07/1986\", date_fmt)\n",
    "chris = Person(\"Christian\", birth)\n",
    "print(chris)"
   ]
  },
  {
   "cell_type": "markdown",
   "metadata": {},
   "source": [
    "Several things are maybe a bit unusual compared to other languages:\n",
    "\n",
    "1. The constructor will not be called explicitely.\n",
    "2. We rarely interfere in the instanciation (therefore we rarely redefine the default constructor).\n",
    "3. Attributes can be added to any existing instance, by anyone, at any time.\n",
    "\n",
    "To understand that better here is (roughly) what's going on under the hood when you call `Person(name, birth_date)`:"
   ]
  },
  {
   "cell_type": "code",
   "execution_count": 2,
   "metadata": {},
   "outputs": [
    {
     "name": "stdout",
     "output_type": "stream",
     "text": [
      "Christian is 32 years old.\n"
     ]
    }
   ],
   "source": [
    "# Simulate how a call to `Person(*args)` work:\n",
    "def new_person(*args):\n",
    "    # A) a new instance is created using the static method __new__\n",
    "    instance = Person.__new__(Person, *args)\n",
    "    # B) the instance is initialized (set attributes)\n",
    "    instance.__init__(*args)\n",
    "    # C) the initialized instance is returned to the caller\n",
    "    return instance\n",
    "\n",
    "# This is equivalent to calling `Person(\"Christian\", birth)`:\n",
    "chris = new_person(\"Christian\", birth)\n",
    "print(chris)"
   ]
  },
  {
   "cell_type": "markdown",
   "metadata": {},
   "source": [
    "What does that says: \n",
    "\n",
    "1. `Person.__new__` is the constructor of `Person`, in our case this constructor is unmodified and therefore inherited from the parent class `object` (note that in python 3 when you write `class Person` what it really means is `class Person(object)`, not having to explicitely state that we inherit from `object` is just [syntactic sugar][syntactic sugar]). Like in every inheritance case since `Person` doesn't redefine the constructor (neither overriding/overloading it) the inherited one will be used (ie. `object.__new__`).\n",
    "2. Redefining `__new__` is somehting that you will rarely have to do as most of the time you don't need any control on how to instanciate new object of a given type. Exception could be when creating metaclasses, but we will talk about that later).\n",
    "\n",
    "Now concerning point 3., here is a code that might surprise you depending on what language you come from:\n",
    "\n",
    "[syntactic sugar]: https://www.wikiwand.com/en/Syntactic_sugar"
   ]
  },
  {
   "cell_type": "code",
   "execution_count": 3,
   "metadata": {},
   "outputs": [
    {
     "name": "stdout",
     "output_type": "stream",
     "text": [
      "Christian has no last name.\n",
      "Glacet\n"
     ]
    },
    {
     "ename": "AttributeError",
     "evalue": "'Person' object has no attribute 'last_name'",
     "output_type": "error",
     "traceback": [
      "\u001b[0;31m---------------------------------------------------------\u001b[0m",
      "\u001b[0;31mAttributeError\u001b[0m          Traceback (most recent call last)",
      "\u001b[0;32m<ipython-input-3-49a7f3535ce0>\u001b[0m in \u001b[0;36m<module>\u001b[0;34m\u001b[0m\n\u001b[1;32m      9\u001b[0m \u001b[0mchris\u001b[0m\u001b[0;34m.\u001b[0m\u001b[0mlast_name\u001b[0m \u001b[0;34m=\u001b[0m \u001b[0;34m\"Glacet\"\u001b[0m\u001b[0;34m\u001b[0m\u001b[0m\n\u001b[1;32m     10\u001b[0m \u001b[0mprint\u001b[0m\u001b[0;34m(\u001b[0m\u001b[0mchris\u001b[0m\u001b[0;34m.\u001b[0m\u001b[0mlast_name\u001b[0m\u001b[0;34m)\u001b[0m\u001b[0;34m\u001b[0m\u001b[0m\n\u001b[0;32m---> 11\u001b[0;31m \u001b[0mprint\u001b[0m\u001b[0;34m(\u001b[0m\u001b[0mtom\u001b[0m\u001b[0;34m.\u001b[0m\u001b[0mlast_name\u001b[0m\u001b[0;34m)\u001b[0m\u001b[0;34m\u001b[0m\u001b[0m\n\u001b[0m",
      "\u001b[0;31mAttributeError\u001b[0m: 'Person' object has no attribute 'last_name'"
     ]
    }
   ],
   "source": [
    "# We will try to access an undefined attribute `last_name`\n",
    "try:\n",
    "    print(chris.last_name)\n",
    "except:\n",
    "    print(chris.name, \"has no last name.\")\n",
    "\n",
    "tom = Person(\"Thomas\", birth)\n",
    "\n",
    "chris.last_name = \"Glacet\"\n",
    "print(chris.last_name)\n",
    "print(tom.last_name)"
   ]
  },
  {
   "cell_type": "markdown",
   "metadata": {},
   "source": [
    "The `last_name` attribute is attached to the `chris` instance, other instances like `tom` are not aware of this and still raise an exception when trying to access this attribute: `AttributeError` is raised.\n",
    "\n",
    "In python you can add attributes to existing instances, it's a choice that is probably related to [duck typing][duck typing wiki]. Since adding attributes to an instances doesn't supress any capability from it we can do it safely. This construction is what allow us to write the `__init__` method. Otherwise we wouldn't be able to add attributes to `self` inside this method like we did in `Person`:\n",
    "\n",
    "```python\n",
    "class Person:\n",
    "    # This adds attributes to self:\n",
    "    def __init__(self, name, birth_date):\n",
    "        # at that point, the instance as \"no attribute\" (none of ours)\n",
    "        self.name = name\n",
    "        # now it has a `name` attribute\n",
    "        self.birth = birth_date\n",
    "        # now it has both `name` and `birth_date`\n",
    "```\n",
    "\n",
    "Since python call sucessively `__new__` and `__init__` every time `Person()` is called, all instances will have both attributes `name` and `birth_date`, that's the reason why we will assume everywhere else that these two exist. For example in the `__str__` method:\n",
    "\n",
    "\n",
    "```python\n",
    "    def __str__(self):\n",
    "        return f\"{self.name} is {self.age()} years old.\"\n",
    "```\n",
    "\n",
    "Note that this method is a special method that every class can define, it can be called in three different ways:\n",
    "\n",
    "\n",
    "[duck typing wiki]: https://www.wikiwand.com/de/Duck-Typing"
   ]
  },
  {
   "cell_type": "code",
   "execution_count": 12,
   "metadata": {},
   "outputs": [
    {
     "name": "stdout",
     "output_type": "stream",
     "text": [
      "Christian is 32 years old.\n",
      "Christian is 32 years old.\n"
     ]
    },
    {
     "data": {
      "text/plain": [
       "True"
      ]
     },
     "execution_count": 12,
     "metadata": {},
     "output_type": "execute_result"
    }
   ],
   "source": [
    "text_1 = chris.__str__()     # Explicitely (rarely useful)\n",
    "text_2 = str(chris)          # Indirectly by using str()\n",
    "text_3 = f\"{chris}\"          # Implicitely in formated strings\n",
    "text_4 = \"{}\".format(chris)  # Implicitely in formated strings (2nd form)\n",
    "\n",
    "print(chris)                 # print also calls str() on non-strings objects you pass to it\n",
    "print(text_1)                # will print the same exact thing\n",
    "\n",
    "text_1 == text_2 and text_2 == text_3 and text_3 == text_4"
   ]
  },
  {
   "cell_type": "markdown",
   "metadata": {},
   "source": [
    "**Remark** we know we can add attributes to existing instances in python, but you can also:\n",
    "\n",
    "* bind new method to existing classes ;\n",
    "* and even bind new method to existing instances: [how do to that?][binding instance methods] ;\n",
    "\n",
    "But this is not really something you should use unless more classic approach are not sufficient (inheritance, class decorators, ...).\n",
    "\n",
    "\n",
    "[binding instance methods]: https://stackoverflow.com/a/2982/1720199"
   ]
  },
  {
   "cell_type": "markdown",
   "metadata": {},
   "source": [
    "## Our second Python class — Population\n",
    "\n",
    "We will start with the following class definition for `Population`:"
   ]
  },
  {
   "cell_type": "code",
   "execution_count": 13,
   "metadata": {},
   "outputs": [
    {
     "name": "stdout",
     "output_type": "stream",
     "text": [
      "This population contains 5 people:\n",
      "\t- Person 0 is 61 years old.\n",
      "\t- Person 1 is 67 years old.\n",
      "\t- Person 2 is 7 years old.\n",
      "\t- Person 3 is 41 years old.\n",
      "\t- Person 4 is 81 years old.\n"
     ]
    }
   ],
   "source": [
    "from datetime import timedelta\n",
    "import random\n",
    "\n",
    "random.seed(0)\n",
    "\n",
    "class Population:\n",
    "    def __init__(self, people=None):\n",
    "        self.people = people or []\n",
    "    \n",
    "    def append(self, person):\n",
    "        self.people.append(person)\n",
    "        return self\n",
    "    \n",
    "    def __iadd__(self, person):\n",
    "        return self.append(person)\n",
    "        \n",
    "    def __str__(self):\n",
    "        text = f\"This population contains {len(self.people)} people:\"\n",
    "        for person in self.people:\n",
    "            text += f\"\\n\\t- {str(person)}\"\n",
    "        return text\n",
    "    \n",
    "def random_population(n=10):\n",
    "    today = datetime.today()\n",
    "    people = Population()\n",
    "    for index in range(n):\n",
    "        weeks = random.randint(50, 5000)\n",
    "        birth = datetime.today() - timedelta(weeks=weeks)\n",
    "        people.append(Person(f\"Person {index}\", birth))\n",
    "    return people\n",
    "        \n",
    "        \n",
    "my_people = random_population(5)\n",
    "print(my_people)"
   ]
  },
  {
   "cell_type": "markdown",
   "metadata": {},
   "source": [
    "Now, imagine that you have some cases where you just want the ages of a population, for statistics. You will need that accessible in several places and you don't want to write a for loop every time you need it. One way to do that is to write a function that you'll call everytime you need that particular information about your population:"
   ]
  },
  {
   "cell_type": "code",
   "execution_count": 14,
   "metadata": {},
   "outputs": [],
   "source": [
    "def population_ages(population):\n",
    "    ages = []\n",
    "    for person in population.people:\n",
    "        ages.append(person.age())\n",
    "    return ages"
   ]
  },
  {
   "cell_type": "markdown",
   "metadata": {},
   "source": [
    "Which in this case would return:"
   ]
  },
  {
   "cell_type": "code",
   "execution_count": 15,
   "metadata": {},
   "outputs": [
    {
     "data": {
      "text/plain": [
       "[61, 67, 7, 41, 81]"
      ]
     },
     "execution_count": 15,
     "metadata": {},
     "output_type": "execute_result"
    }
   ],
   "source": [
    "population_ages(my_people)"
   ]
  },
  {
   "cell_type": "markdown",
   "metadata": {},
   "source": [
    "This is the expected result but what if sometimes you only need to find the maximum age from your population. You could use this list and then iterate over it to find the `max` inside it. But this could be improved in two ways, since you woulc:\n",
    "\n",
    "1. iterate over a list of size |my_people| twice. Once in `population_ages` and once to compute the max.\n",
    "2. have two lists of size |my_people| in memory: `my_people` and the return value from `population_ages`.\n",
    "\n",
    "Many languages come with a nice solution to this using **generators**: \n",
    "\n",
    "> Generator is a special routine that can be used to control the iteration behaviour of a loop. In fact, all generators are iterators. A generator is very similar to a function that returns an array, in that a generator has parameters, can be called, and generates a sequence of values. However, instead of building an array containing all the values and returning them all at once, a generator yields the values one at a time, which requires less memory and allows the caller to get started processing the first few values immediately.\n",
    ">\n",
    "> [Wikipedia — generator][generator]\n",
    "\n",
    "Simplified version: \"A generator gives you values one by one instead of all together encaspulated in a sequence\". In python this can be achieved using the `yield` keyword inside a function. For example: \n",
    "\n",
    "[generator]: https://www.wikiwand.com/en/Generator_(computer_programming)"
   ]
  },
  {
   "cell_type": "code",
   "execution_count": 16,
   "metadata": {},
   "outputs": [],
   "source": [
    "def my_first_generator():\n",
    "    yield \"Hello\"\n",
    "    yield \"beautiful\"\n",
    "    yield \"world!\""
   ]
  },
  {
   "cell_type": "markdown",
   "metadata": {},
   "source": [
    "This generator can then be used extactly like iterators in any other language you know. In python there is a special module, named `itertools`, made to help you with iterators: **itertools module** \n",
    "<a id='itertools_1'></a>\n",
    "[<img src=\"images/py.png\" style=\"display: inline; margin: 0 4px;\" />][itertools]\n",
    "\n",
    "[itertools]: https://docs.python.org/3.7/library/itertools.html"
   ]
  },
  {
   "cell_type": "code",
   "execution_count": 17,
   "metadata": {},
   "outputs": [
    {
     "name": "stdout",
     "output_type": "stream",
     "text": [
      "Hello\n"
     ]
    }
   ],
   "source": [
    "it = my_first_generator()\n",
    "print(next(it))"
   ]
  },
  {
   "cell_type": "markdown",
   "metadata": {},
   "source": [
    "Or implicitely using iteration control struture, like a `for`:"
   ]
  },
  {
   "cell_type": "code",
   "execution_count": 18,
   "metadata": {},
   "outputs": [
    {
     "name": "stdout",
     "output_type": "stream",
     "text": [
      "beautiful\n",
      "world!\n"
     ]
    }
   ],
   "source": [
    "for value in it:\n",
    "    print(value)"
   ]
  },
  {
   "cell_type": "markdown",
   "metadata": {},
   "source": [
    "Of course `yield` can be used as any other instruction, for example it can be used inside a `while`:"
   ]
  },
  {
   "cell_type": "code",
   "execution_count": 19,
   "metadata": {},
   "outputs": [],
   "source": [
    "def generate_numbers():\n",
    "    number = 0\n",
    "    while True:\n",
    "        yield number\n",
    "        number += 1"
   ]
  },
  {
   "cell_type": "markdown",
   "metadata": {},
   "source": [
    "This generates an infinite number of values, or rather an unbonded number of values. Here are two equivalent ways of iterating over this infinite generator by adding a control:\n",
    "\n",
    "**itertools.takewhile(predicate, iterable)**\n",
    "<a id='takewhile_1'></a>\n",
    "[<img src=\"images/py.png\" style=\"display: inline; margin: 0 4px;\" />][itertools.takewhile]\n",
    "\n",
    "[itertools.takewhile]: https://docs.python.org/3.7/library/itertools.html#itertools.takewhile"
   ]
  },
  {
   "cell_type": "code",
   "execution_count": 20,
   "metadata": {},
   "outputs": [
    {
     "name": "stdout",
     "output_type": "stream",
     "text": [
      "0 1 2 3 4 \n",
      "0 1 2 3 4 \n"
     ]
    }
   ],
   "source": [
    "import itertools\n",
    "\n",
    "limit = 4\n",
    "\n",
    "for value in generate_numbers():\n",
    "    if value > limit:\n",
    "        break\n",
    "    print(value, end=\" \")\n",
    "print()\n",
    "    \n",
    "# Or equivalently:\n",
    "def leq(x):\n",
    "    return x <= limit\n",
    "\n",
    "for value in itertools.takewhile(leq, generate_numbers()):\n",
    "    print(value, end=\" \")\n",
    "print()"
   ]
  },
  {
   "cell_type": "markdown",
   "metadata": {},
   "source": [
    "In our case we can build a generator that will yield ages from a population:"
   ]
  },
  {
   "cell_type": "code",
   "execution_count": 21,
   "metadata": {},
   "outputs": [],
   "source": [
    "def population_ages(population):\n",
    "    for person in population.people:\n",
    "        yield person.age()"
   ]
  },
  {
   "cell_type": "markdown",
   "metadata": {},
   "source": [
    "Which returns:"
   ]
  },
  {
   "cell_type": "code",
   "execution_count": 22,
   "metadata": {},
   "outputs": [
    {
     "data": {
      "text/plain": [
       "<generator object population_ages at 0x10f3f7048>"
      ]
     },
     "execution_count": 22,
     "metadata": {},
     "output_type": "execute_result"
    }
   ],
   "source": [
    "population_ages(my_people)"
   ]
  },
  {
   "cell_type": "markdown",
   "metadata": {},
   "source": [
    "As observed before, this generator allows us to do (almost) everything we would do with lists, for example, many built-in functions that take `list` as argument also take `generator`, in fact they take a more abstract type called [`iterable`][iterable ABC]. An example of such a function is `map`.\n",
    "\n",
    "**map(function, iterable, ...)** \n",
    "<a id='map_1'></a>\n",
    "[<img src=\"images/py.png\" style=\"display: inline; margin: 0 4px;\" />][map function]\n",
    "\n",
    "As the documentations says, this returns an iterator that applies `function` to every item of `iterable`, yielding the results. It's very common to see lambda function passed as the first parameter to `map`, that usually the case when the function is extremely simple (\"adding one\" for example). In python, lambda functions are simply defined this way: `lambda <params>: <return value>`. Here is an example using our `population_ages` generator and some `map` functions:\n",
    "\n",
    "[map function]: https://docs.python.org/3.7/library/functions.html#map\n",
    "[iterable ABC]: https://docs.python.org/3.7/library/collections.abc.html#collections.abc.Iterable"
   ]
  },
  {
   "cell_type": "code",
   "execution_count": 23,
   "metadata": {},
   "outputs": [
    {
     "name": "stdout",
     "output_type": "stream",
     "text": [
      "Ages: 61, 67, 7, 41, 81, \n",
      "Next year people will have ages: 62, 68, 8, 42, 82, \n",
      "Next year people will have ages: 62, 68, 8, 42, 82\n",
      "Max age is 81\n"
     ]
    },
    {
     "ename": "TypeError",
     "evalue": "object of type 'generator' has no len()",
     "output_type": "error",
     "traceback": [
      "\u001b[0;31m---------------------------------------------------------\u001b[0m",
      "\u001b[0;31mTypeError\u001b[0m               Traceback (most recent call last)",
      "\u001b[0;32m<ipython-input-23-75157a51687d>\u001b[0m in \u001b[0;36m<module>\u001b[0;34m\u001b[0m\n\u001b[1;32m     19\u001b[0m \u001b[0;34m\u001b[0m\u001b[0m\n\u001b[1;32m     20\u001b[0m \u001b[0;31m# On the other hand, you can't know the size of an iterable (that's the main drawback):\u001b[0m\u001b[0;34m\u001b[0m\u001b[0;34m\u001b[0m\u001b[0m\n\u001b[0;32m---> 21\u001b[0;31m \u001b[0mprint\u001b[0m\u001b[0;34m(\u001b[0m\u001b[0mlen\u001b[0m\u001b[0;34m(\u001b[0m\u001b[0mpopulation_ages\u001b[0m\u001b[0;34m(\u001b[0m\u001b[0mmy_people\u001b[0m\u001b[0;34m)\u001b[0m\u001b[0;34m)\u001b[0m\u001b[0;34m)\u001b[0m\u001b[0;34m\u001b[0m\u001b[0m\n\u001b[0m",
      "\u001b[0;31mTypeError\u001b[0m: object of type 'generator' has no len()"
     ]
    }
   ],
   "source": [
    "# We can iterate over the generator (=> it's iterable):\n",
    "print(\"Ages:\", end=\" \")\n",
    "for age in population_ages(my_people):\n",
    "    print(age, end=\", \")\n",
    "print()\n",
    "\n",
    "# Therefore we can use map() on it:\n",
    "print(\"Next year people will have ages:\", end=\" \")\n",
    "for age_str in map(lambda x: x+1, population_ages(my_people)):\n",
    "    print(age_str, end=\", \")\n",
    "print()\n",
    "\n",
    "# We can chain functions on iterables:\n",
    "next_ages = \", \".join(map(str, map(lambda x: x+1, population_ages(my_people))))\n",
    "print(\"Next year people will have ages:\", next_ages)\n",
    "\n",
    "# And of course you can apply max on it:\n",
    "print(f\"Max age is {max(population_ages(my_people))}\")\n",
    "\n",
    "# On the other hand, you can't know the size of an iterable (that's the main drawback):\n",
    "print(len(population_ages(my_people)))"
   ]
  },
  {
   "cell_type": "markdown",
   "metadata": {},
   "source": [
    "Note that if our client want to have a list instead of the generator (going back to the old version), he can simply do the following: "
   ]
  },
  {
   "cell_type": "code",
   "execution_count": 24,
   "metadata": {},
   "outputs": [
    {
     "data": {
      "text/plain": [
       "[61, 67, 7, 41, 81]"
      ]
     },
     "execution_count": 24,
     "metadata": {},
     "output_type": "execute_result"
    }
   ],
   "source": [
    "list(population_ages(my_people)) # list() also takes any iterable as argument"
   ]
  },
  {
   "cell_type": "markdown",
   "metadata": {},
   "source": [
    "If we look at the `map` function signature: `map(function, iterable, ...)` we can notice these `...` that's used in python's documentation to say that it take from 1 to any number of iterable. You'll often see another notation, like in `zip(*iterables)` this means from 0 to any number of iterable. This means that map can for example take 2 iterables as parameter:"
   ]
  },
  {
   "cell_type": "code",
   "execution_count": 25,
   "metadata": {},
   "outputs": [
    {
     "name": "stdout",
     "output_type": "stream",
     "text": [
      "from age 61 to age 62.\n",
      "from age 67 to age 68.\n",
      "from age 7 to age 8.\n",
      "from age 41 to age 42.\n",
      "from age 81 to age 82.\n"
     ]
    }
   ],
   "source": [
    "population_next_ages = map(lambda x: x+1, population_ages(my_people))\n",
    "\n",
    "def aging_text(from_age, to_age):\n",
    "    return f\"from age {from_age} to age {to_age}.\"\n",
    "\n",
    "for text in map(aging_text, population_ages(my_people), population_next_ages):\n",
    "    print(text)"
   ]
  },
  {
   "cell_type": "markdown",
   "metadata": {},
   "source": [
    "All iterables passed to `map` will be iterated through simultaneously and values will be used as inputs for the `function`. For example with an input `map(f, [1, 2], [3, 4])`, the returned iterator will procude `f(1, 3)` then `f(2, 4)` and will finally stop. \n",
    "\n",
    "In the case where one iterable is longer than the other, `map(f, [1, 2], [3, 4, 5])`, the maping will stop as soon as the first iterable is consumed, here it would return the same as before: `f(1, 3)` then `f(2, 4)`."
   ]
  },
  {
   "cell_type": "markdown",
   "metadata": {},
   "source": [
    "Lets go back to the `Population` class, even if we keep adding functionalities to it over the time, it can be described as a list of people to which we will attach other kinds of information (for example a population `name`). When we iterate over people from a population, it's a bit frustrating to have to write something like `for person in population.people:`. We can make our class act as a `list`:"
   ]
  },
  {
   "cell_type": "code",
   "execution_count": 26,
   "metadata": {},
   "outputs": [
    {
     "name": "stdout",
     "output_type": "stream",
     "text": [
      "This population contains 5 people:\n",
      "\t- Person 0 is 77 years old.\n",
      "\t- Person 1 is 64 years old.\n",
      "\t- Person 0 is 48 years old.\n",
      "\t- Person 1 is 75 years old.\n",
      "\t- Person 2 is 57 years old.\n"
     ]
    }
   ],
   "source": [
    "class Population(list):\n",
    "\n",
    "    def ages(self):\n",
    "        for person in self:\n",
    "            yield person.age()\n",
    "    \n",
    "    # We need to redefine that, otherwise it would return a list: \n",
    "    def __add__(self, other):\n",
    "        # As `list.__add__` do something that look like:\n",
    "        #   return [*self, *other]\n",
    "        # If we want a Population, we need to return that intead: \n",
    "        return Population([*self, *other])\n",
    "        \n",
    "    def __str__(self):\n",
    "        text = f\"This population contains {len(self)} people:\"\n",
    "        for person in self:\n",
    "            text += f\"\\n\\t- {str(person)}\"\n",
    "        return text\n",
    "    \n",
    "\n",
    "my_people = random_population(2)\n",
    "some_other_people = random_population(3)\n",
    "\n",
    "union_of_people = my_people + some_other_people\n",
    "print(union_of_people)"
   ]
  },
  {
   "cell_type": "markdown",
   "metadata": {},
   "source": [
    "This is very practical, but in some occurences you'll need more control about what you want to offer. If you don't want **ALL** features that lists offers but you sill want to have the same methods, you'll need to implement something that not only a delegation (like we did the 1st time) neither a simple inheritance. The best solution you can have in this case would be to do both! Python offers a list of [abstract classes][collection.abc] you can inherit from to give you the guidlines on how to implement you class (ie., [template method][template method]). In our case you would need to inherit from `collections.abc.MutableSequence` and delegate the work to list when we want to:\n",
    "\n",
    "[collection.abc]: https://docs.python.org/3.5/library/collections.abc.html\n",
    "[template method]: https://www.wikiwand.com/en/Template_method_pattern"
   ]
  },
  {
   "cell_type": "code",
   "execution_count": 27,
   "metadata": {},
   "outputs": [
    {
     "ename": "TypeError",
     "evalue": "Can't instantiate abstract class Population with abstract methods __delitem__, __getitem__, __len__, __setitem__, insert",
     "output_type": "error",
     "traceback": [
      "\u001b[0;31m---------------------------------------------------------\u001b[0m",
      "\u001b[0;31mTypeError\u001b[0m               Traceback (most recent call last)",
      "\u001b[0;32m<ipython-input-27-ce54d847c464>\u001b[0m in \u001b[0;36m<module>\u001b[0;34m\u001b[0m\n\u001b[1;32m      4\u001b[0m     \u001b[0;32mpass\u001b[0m\u001b[0;34m\u001b[0m\u001b[0m\n\u001b[1;32m      5\u001b[0m \u001b[0;34m\u001b[0m\u001b[0m\n\u001b[0;32m----> 6\u001b[0;31m \u001b[0mp\u001b[0m \u001b[0;34m=\u001b[0m \u001b[0mPopulation\u001b[0m\u001b[0;34m(\u001b[0m\u001b[0;34m)\u001b[0m\u001b[0;34m\u001b[0m\u001b[0m\n\u001b[0m",
      "\u001b[0;31mTypeError\u001b[0m: Can't instantiate abstract class Population with abstract methods __delitem__, __getitem__, __len__, __setitem__, insert"
     ]
    }
   ],
   "source": [
    "import collections\n",
    "\n",
    "class Population(collections.abc.MutableSequence):\n",
    "    pass\n",
    "\n",
    "p = Population()"
   ]
  },
  {
   "cell_type": "markdown",
   "metadata": {},
   "source": [
    "That exception tells you what you need to implement, I wont implement those and I'll let this as an exercise."
   ]
  },
  {
   "cell_type": "markdown",
   "metadata": {},
   "source": [
    "---- \n",
    "[< back to index](#Topics-Index)  — [next topic (async-await) >](#Async-Await)\n",
    "\n",
    "# Finding vowels and their positions in a string\n",
    "\n",
    "**Topics** list/tuple/set ; Immutability ; Performance measures tools ; Complexity analysis\n",
    "\n",
    "**Problem definition** The goal of this function is to show, for every vowel in an input string, both the wovel and the index at which it was found in the string."
   ]
  },
  {
   "cell_type": "code",
   "execution_count": 46,
   "metadata": {},
   "outputs": [],
   "source": [
    "user_input = \"Some user input.\"\n",
    "vowels = \"aeiouAEIOU\""
   ]
  },
  {
   "cell_type": "code",
   "execution_count": 47,
   "metadata": {},
   "outputs": [
    {
     "name": "stdout",
     "output_type": "stream",
     "text": [
      "o 1 - e 3 - u 5 - e 7 - i 10 - u 13 - "
     ]
    }
   ],
   "source": [
    "position = 0\n",
    "for char in user_input:\n",
    "    if char in vowels:\n",
    "        print(char, position, end=\" - \")\n",
    "    position += 1"
   ]
  },
  {
   "cell_type": "markdown",
   "metadata": {},
   "source": [
    "**enumerate(iterable, start=0)** \n",
    "<a id='enumerate_1'></a>\n",
    "[<img src=\"images/py.png\" style=\"display: inline; margin: 0 4px;\" />][enumerate]\n",
    "\n",
    "This code can be improved to be a bit more pythonic, using `enumerate` can save you from keeping track of the position by hand:\n",
    "\n",
    "\n",
    "[enumerate]: https://docs.python.org/3.5/library/functions.html#enumerate"
   ]
  },
  {
   "cell_type": "code",
   "execution_count": 48,
   "metadata": {},
   "outputs": [
    {
     "name": "stdout",
     "output_type": "stream",
     "text": [
      "o 1 - e 3 - u 5 - e 7 - i 10 - u 13 - "
     ]
    }
   ],
   "source": [
    "for position, char in enumerate(user_input):\n",
    "    if char in vowels :\n",
    "        print(char, position, end=\" - \")"
   ]
  },
  {
   "cell_type": "markdown",
   "metadata": {},
   "source": [
    "**class set([iterable])** <a id='set_1'></a>\n",
    "[<img src=\"images/py.png\" style=\"display: inline; margin: 0 4px;\" />][set]\n",
    "\n",
    "Another improvement can be made, this time we can improve performances. Time cost of checking `char in vowels` is proportional to the size of the string `vowels`. On the other hand you can change the type of `vowels` from `string` to `set`, checking if an item is part of a set is done in constant time:\n",
    "\n",
    "[set]: https://docs.python.org/3/library/stdtypes.html#set-types-set-frozenset"
   ]
  },
  {
   "cell_type": "code",
   "execution_count": 50,
   "metadata": {},
   "outputs": [
    {
     "name": "stdout",
     "output_type": "stream",
     "text": [
      "o 1 - e 3 - u 5 - e 7 - i 10 - u 13 - "
     ]
    }
   ],
   "source": [
    "vowels = set(vowels)\n",
    "for pos, char in enumerate(user_input):\n",
    "    if char in vowels:\n",
    "        print(char, pos, end=\" - \")"
   ]
  },
  {
   "cell_type": "markdown",
   "metadata": {},
   "source": [
    "Sets are a very common type and you are probably already very used to it. One remark though is that `set()` can not take any iterable as parameter."
   ]
  },
  {
   "cell_type": "code",
   "execution_count": 52,
   "metadata": {},
   "outputs": [
    {
     "ename": "TypeError",
     "evalue": "unhashable type: 'list'",
     "output_type": "error",
     "traceback": [
      "\u001b[0;31m---------------------------------------------------------\u001b[0m",
      "\u001b[0;31mTypeError\u001b[0m               Traceback (most recent call last)",
      "\u001b[0;32m<ipython-input-52-ea16244b3429>\u001b[0m in \u001b[0;36m<module>\u001b[0;34m\u001b[0m\n\u001b[0;32m----> 1\u001b[0;31m \u001b[0mitems\u001b[0m \u001b[0;34m=\u001b[0m \u001b[0mset\u001b[0m\u001b[0;34m(\u001b[0m\u001b[0;34m[\u001b[0m\u001b[0;34m[\u001b[0m\u001b[0;36m1\u001b[0m\u001b[0;34m,\u001b[0m \u001b[0;36m2\u001b[0m\u001b[0;34m,\u001b[0m \u001b[0;36m3\u001b[0m\u001b[0;34m]\u001b[0m\u001b[0;34m,\u001b[0m \u001b[0;34m[\u001b[0m\u001b[0;36m4\u001b[0m\u001b[0;34m,\u001b[0m \u001b[0;36m5\u001b[0m\u001b[0;34m]\u001b[0m\u001b[0;34m]\u001b[0m\u001b[0;34m)\u001b[0m\u001b[0;34m\u001b[0m\u001b[0m\n\u001b[0m",
      "\u001b[0;31mTypeError\u001b[0m: unhashable type: 'list'"
     ]
    }
   ],
   "source": [
    "items = set([[1, 2, 3], [4, 5]])"
   ]
  },
  {
   "cell_type": "markdown",
   "metadata": {},
   "source": [
    "This error is raised because both lists `[1, 2, 3]` and `[4, 5]` are unhashable. In fact, any [`list`][pydoclist] is unhashable. This is how hashable is defined in Python's documentation:\n",
    "\n",
    "> An object is hashable if it has a hash value which never changes during its lifetime, [[...]][term-hashable]\n",
    "\n",
    "Basically, a hashable object must (at least) be immutable (I dedicated a section to explaining what [**immutable?**](#Immutability) means). Python have some hashable types ([`text sequence`][text sequence], [`numerics`][numerics], ...) and some unhashable types like `list`. On the other hand, in this specific case we could change our lists to tuples to have a set of sequences. Note that if your favorite set or map objects do not throw this error, [this could be a problem][identity mutability]. \n",
    "\n",
    "[text sequence]: https://docs.python.org/3/library/stdtypes.html#text-sequence-type-str\n",
    "[numerics]: https://docs.python.org/3/library/stdtypes.html#numeric-types-int-float-complex\n",
    "[pydoclist]: https://docs.python.org/3/library/stdtypes.html#list\n",
    "[term-hashable]: https://docs.python.org/3/glossary.html#term-hashable\n",
    "[identity mutability]: https://www.yegor256.com/2014/06/09/objects-should-be-immutable.html#avoiding-identity-mutability"
   ]
  },
  {
   "cell_type": "markdown",
   "metadata": {},
   "source": [
    "**class tuple([iterable])** \n",
    "<a id='type_tuple_1'></a>\n",
    "[<img src=\"images/py.png\" style=\"display: inline; margin: 0 4px;\" />][tuple]\n",
    "\n",
    "Tuples can roughly be seen as immutable lists. In python, lists tend to be prefered when inner items all share the same type, whereas tuples can be, and usually are, used when items are not of homogeneous type. The only case where tuples are used even on homogeneous items is when a hashable type is needed. Which is precisely the case here: \n",
    "\n",
    "\n",
    "[tuple]: https://docs.python.org/3/library/stdtypes.html#tuple"
   ]
  },
  {
   "cell_type": "code",
   "execution_count": 53,
   "metadata": {},
   "outputs": [
    {
     "data": {
      "text/plain": [
       "True"
      ]
     },
     "execution_count": 53,
     "metadata": {},
     "output_type": "execute_result"
    }
   ],
   "source": [
    "item_a = (1, 2, 3)\n",
    "item_b = (4, 5)\n",
    "items = set([item_a, item_b])\n",
    "(1, 2, 3) in items"
   ]
  },
  {
   "cell_type": "markdown",
   "metadata": {},
   "source": [
    "Note that since sets items are immutable, if `(1, 2, 3) in items` evaluates to `True` then it will *ALWAYS* be evaluated to `True` (unless it is removed from the `items` set of course)."
   ]
  },
  {
   "cell_type": "markdown",
   "metadata": {},
   "source": [
    "As always immutability comes with benefits, mainly: *it is safe to use as you know nothing will ever modify your objects*. But it also has its down sides, mainly: *people are usually not used to it* and *in some cases it's less performant*. Just to make sure we agree on what immutability is, I'll talk a little bit about it in the next section (or you can just [skip it](#Immutable-sequence-implementation) if you already know what immutability implies)."
   ]
  },
  {
   "cell_type": "markdown",
   "metadata": {},
   "source": [
    "# Immutability\n",
    "\n",
    "`$ define immutable`\n",
    "\n",
    "> In object-oriented and functional programming, an immutable object (unchangeable object) is an object whose state cannot be modified after it is created. This is in contrast to a mutable object (changeable object), which can be modified after it is created.\n",
    "\n",
    "Eventhough this definition is extremely simple and clear, understanding all the implications of immutability takes some time and practice. You must already be used to immutable objects since most modern languages use immutable objects for simple objects (string, numbers, booleans, ...). Here is an interesting discussion you can read if you want to understand [\"Why are Python strings immutable?\"][why string immutable].\n",
    "\n",
    "It's very easy to check if a type is mutable or immutable and the technique would be the same for every language. For example, we can check that tuples are immutable in python:\n",
    "\n",
    "\n",
    "[why string immutable]: https://stackoverflow.com/questions/8680080/why-are-python-strings-immutable-best-practices-for-using-them"
   ]
  },
  {
   "cell_type": "code",
   "execution_count": 54,
   "metadata": {},
   "outputs": [
    {
     "data": {
      "text/plain": [
       "(1, 2, 3)"
      ]
     },
     "execution_count": 54,
     "metadata": {},
     "output_type": "execute_result"
    }
   ],
   "source": [
    "a = (1, 2, 3)\n",
    "b = a\n",
    "b += (4, 5, 6)\n",
    "a"
   ]
  },
  {
   "cell_type": "markdown",
   "metadata": {},
   "source": [
    "Whereas lists can be mutated:"
   ]
  },
  {
   "cell_type": "code",
   "execution_count": 55,
   "metadata": {},
   "outputs": [
    {
     "data": {
      "text/plain": [
       "[1, 2, 3, 4, 5, 6]"
      ]
     },
     "execution_count": 55,
     "metadata": {},
     "output_type": "execute_result"
    }
   ],
   "source": [
    "a = [1, 2, 3]\n",
    "b = a\n",
    "b += [4, 5, 6]\n",
    "a"
   ]
  },
  {
   "cell_type": "markdown",
   "metadata": {},
   "source": [
    "We can go a bit further to obvserve a concrete implication of this fact. Lets build an library that offers to print the `vowels` from an `user_input`. We know that people will tend to forgot uppercase version of their vowels so we also decide that we will add these automatically for them.\n",
    "\n",
    "We will present our code first, then we will show how the user can experience bugs.\n",
    "\n",
    "### The library\n",
    "\n",
    "We couldn't decide whether we wanted `vowels` to be a list or a tuple, so we decided to delegate that decision to our client and implement both versions:"
   ]
  },
  {
   "cell_type": "code",
   "execution_count": 56,
   "metadata": {},
   "outputs": [],
   "source": [
    "def print_using_wovel_list(user_input, vowels):\n",
    "    print(\"List:\", end=\" \\t \")\n",
    "    vowels += list(c.upper() for c in vowels)\n",
    "    for c in user_input:\n",
    "        if c in vowels:\n",
    "            print(c, end=\" \")\n",
    "    print()\n",
    "            \n",
    "def print_using_wovel_tuple(user_input, vowels):\n",
    "    print(\"Tuple:\", end=\" \\t \")\n",
    "    vowels += tuple(c.upper() for c in vowels)\n",
    "    for c in user_input:\n",
    "        if c in vowels:\n",
    "            print(c, end=\" \")\n",
    "    print()"
   ]
  },
  {
   "cell_type": "markdown",
   "metadata": {},
   "source": [
    "### The client\n",
    "\n",
    "Lets now see how our client will use these two functions. The client simply wants to:\n",
    "\n",
    "1. define some vowels\n",
    "2. print the vowels from an `user_input`\n",
    "3. remove the first vowels defined in 1.\n",
    "4. print the vowels from an `user_input` again\n",
    "\n",
    "The client want to make this with both lists and tuples. For a `user_input` set to `\"I AM an input, are YOU?\"`, his expected result is to have (for 2. and 4.) the following outputs (for both list and tuple versions):\n",
    "\n",
    "```python\n",
    "I A a i u a e O U     # All vowels from `user_input`\n",
    "I i u e O U           # Same without a's or A's\n",
    "```\n"
   ]
  },
  {
   "cell_type": "code",
   "execution_count": 57,
   "metadata": {},
   "outputs": [
    {
     "name": "stdout",
     "output_type": "stream",
     "text": [
      "List: \t vowels are ['a', 'e', 'i', 'o', 'u']\n",
      "Tuple: \t vowels are ('a', 'e', 'i', 'o', 'u')\n",
      "-----\n",
      "List: \t I A a i u a e O U \n",
      "Tuple: \t I A a i u a e O U \n",
      "-----\n",
      "List: \t removing vowel a\n",
      "Tuple: \t removing vowel a\n",
      "-----\n",
      "List: \t I A i u e O U \n",
      "Tuple: \t I i u e O U \n"
     ]
    }
   ],
   "source": [
    "user_input = \"I AM an input, are YOU?\"\n",
    "lower_vowel_l = list(\"aeiou\")\n",
    "lower_vowel_t = tuple(\"aeiou\")\n",
    "\n",
    "print(\"List: \\t vowels are\", lower_vowel_l)\n",
    "print(\"Tuple: \\t vowels are\", lower_vowel_t)\n",
    "\n",
    "print(\"-----\")\n",
    "\n",
    "print_using_wovel_list(user_input, lower_vowel_l)\n",
    "print_using_wovel_tuple(user_input, lower_vowel_t)\n",
    "\n",
    "print(\"-----\")\n",
    "print(\"List: \\t removing vowel\", lower_vowel_l[0])\n",
    "print(\"Tuple: \\t removing vowel\", lower_vowel_t[0])\n",
    "lower_vowel_l.pop(0)\n",
    "lower_vowel_t = lower_vowel_t[1:]\n",
    "\n",
    "print(\"-----\")\n",
    "print_using_wovel_list(user_input, lower_vowel_l)\n",
    "print_using_wovel_tuple(user_input, lower_vowel_t)"
   ]
  },
  {
   "cell_type": "markdown",
   "metadata": {},
   "source": [
    "We can see here that the second output is different for lists and tuples, the tuple result is the expected one whereas the list result contains an unwanted `A`. The client can't have any idea where that bug comes from in his code, for good a reason since **the bug doesn't come from his code, but from ours**.\n",
    "\n",
    "The error we made is to modify the clients input `vowels` inside `print_using_wovel_list`. When working with mutable objects, **there are things we can do** (raising no exceptions) **but that we shouldn't be doing**. For example, like in this case, when handed an object we should never modify it in place (mutate it), never. You could ask whats the problem then, once we know we shouldn't do it we should just be careful with that. But are you sure we will **always** remember that? Maybe you will, but eventually someone wont. And when it happens, not only that it will create bugs but it will create very hard to find bugs. We will have an object that will change form without us noticing it. Debugging this will basically mean observing the faulty object until we find the place where its mutated.\n",
    "\n",
    "### Should we use immutable objects?\n",
    "\n",
    "**Having immutable objects is the guarantee for us that this will NEVER happen**, and never is really important because that what allow us to have no fear and focus on the important stuff instead of wondering how things could eventually turn bad. Immutability is an insurance to make your code safer, to give you control over your instances' values (in particular when instances are accessed concurently, we will see an example of that in the [async-await](#async-await) section). At that point you're probably asking yourself why isn't everyone using immutable objects everywhere? The main reason is performances issues, depending on what you want to do with your objects, making them immutable can have a big cost. Like always, when picking a data structure you need to chose it carefully depending on what you plan to do with it.\n",
    "\n",
    "\n",
    "Here is a python example in which using tuples instead of lists is very costly. In this example we will use a very useful function (generator) called `range` together with `timeit`.\n",
    "\n",
    "**class range(stop) — class range(start, stop[, step])** \n",
    "<a id='range_1'></a>\n",
    "[<img src=\"images/py.png\" style=\"display: inline; margin: 0 4px;\" />][range]\n",
    "\n",
    "**timeit.timeit(stmt='pass', setup='pass', timer=<default timer>, number=1000000, globals=None)**\n",
    "<a id='timeit_1'></a>\n",
    "[<img src=\"images/py.png\" style=\"display: inline; margin: 0 4px;\" />][timeit]\n",
    "    \n",
    "\n",
    "*The `timeit` function will not be used directly here as Jupyter offers a tool that interact better with our notebook here, but the principle is the same.*\n",
    "\n",
    "[range]: https://docs.python.org/3.5/library/stdtypes.html#range\n",
    "[timeit]: https://docs.python.org/3.5/library/timeit.html"
   ]
  },
  {
   "cell_type": "code",
   "execution_count": 58,
   "metadata": {},
   "outputs": [
    {
     "name": "stdout",
     "output_type": "stream",
     "text": [
      "List: \n",
      "1.09 ms ± 22.1 µs per loop (mean ± std. dev. of 5 runs, 1000 loops each)\n",
      "\n",
      "Tuple: \n",
      "154 ms ± 1.23 ms per loop (mean ± std. dev. of 5 runs, 10 loops each)\n"
     ]
    }
   ],
   "source": [
    "import timeit\n",
    "\n",
    "n = 10000\n",
    "\n",
    "def list_test_case():\n",
    "    acc = []\n",
    "    for x in range(n):\n",
    "        acc += [x]\n",
    "    return acc\n",
    "\n",
    "def tuple_test_case():\n",
    "    acc = ()\n",
    "    for x in range(n):\n",
    "        acc = acc + (x,)\n",
    "    return acc\n",
    "\n",
    "print(\"List: \")\n",
    "%timeit -r 5 list_test_case()\n",
    "\n",
    "print(\"\\nTuple: \")\n",
    "%timeit -r 5 tuple_test_case()"
   ]
  },
  {
   "cell_type": "markdown",
   "metadata": {},
   "source": [
    "On the flip side, a use case in which using tuples (or \"any\" immutable object) has almost no cost is when dealing with a \"few\" number of arbitrary sized updates. This is for example well suited to maitaining a global state that reacts on calls from an API or a evel slowers calls from a humain interacting with you application. That's the reason why libraries like [React Native.js][react-native] are using immutable [states][react-native state]. Here is what a python utility for updating states could look like in two cases, where the application state is either a `list` or a `tuple`: \n",
    "\n",
    "[react-native]: https://facebook.github.io/react-native/\n",
    "[react-native state]: https://facebook.github.io/react-native/docs/state.html"
   ]
  },
  {
   "cell_type": "code",
   "execution_count": 59,
   "metadata": {},
   "outputs": [
    {
     "name": "stdout",
     "output_type": "stream",
     "text": [
      "List: updating state\n",
      "41.8 µs ± 770 ns per loop (mean ± std. dev. of 5 runs, 10000 loops each)\n",
      "\n",
      "Tuple: updating state\n",
      "48.6 µs ± 860 ns per loop (mean ± std. dev. of 5 runs, 10000 loops each)\n"
     ]
    }
   ],
   "source": [
    "n = 1000\n",
    "\n",
    "def list_state_update(prev_state, update_state_with):\n",
    "    prev_state = list(prev_state)\n",
    "    update_state_with = list(update_state_with)\n",
    "    prev_state += update_state_with\n",
    "    return prev_state\n",
    "\n",
    "def tuple_state_update(prev_state, update_state_with):\n",
    "    prev_state = tuple(prev_state)\n",
    "    update_state_with = tuple(update_state_with)\n",
    "    return prev_state + update_state_with\n",
    "\n",
    "prev_state = range(n)\n",
    "update_state_with = range(n, 2*n)\n",
    "\n",
    "print(\"List: updating state\")\n",
    "%timeit -r 5 list_state_update(prev_state, update_state_with)\n",
    "\n",
    "print(\"\\nTuple: updating state\")\n",
    "%timeit -r 5 tuple_state_update(prev_state, update_state_with)"
   ]
  },
  {
   "cell_type": "markdown",
   "metadata": {},
   "source": [
    "### Concluding remarks\n",
    "\n",
    "Notice how these two pieces of code almost take the same time to execute. When that's the case there is no real argument against using immutable objects, the only disavantage being that \"_people are sometimes not used to immutability_\". But the good thing is, they can't screw up even if they don't know what they are doing.\n",
    "\n",
    "A final remark on this could be a quote from Oracle:\n",
    "\n",
    "> Programmers are often reluctant to employ immutable objects, because they worry about the cost of creating a new object as opposed to updating an object in place. The impact of object creation is often overestimated, and can be offset by some of the efficiencies associated with immutable objects. These include decreased overhead due to garbage collection, and the elimination of code needed to protect mutable objects from corruption.\n",
    "\n",
    "\n",
    "We are also here to talk about python, not only abstract concepts, so, how is immutability achievable in python? The language itself doesn't garantee immutability of all objects as we now know, so can we really do it? We will try to answer these question by implementing a class that produces (sort of) immutable sequences and we will analyse the performances of different solutions."
   ]
  },
  {
   "cell_type": "markdown",
   "metadata": {},
   "source": [
    "# Immutable sequence implementation\n",
    "\n",
    "As an exercise we will implement a `Tuple` class built on top of the existing `list` class. We will only do this for the example, therfore we won't implement all methods from `list` but just some to demonstrate the basic idea.\n",
    "\n",
    "We will use python's \"[**\\_\\_magic_methods\\_\\_**][magic methods]\" which can roughly be described this way:\n",
    "\n",
    "> The so-called magic methods have nothing to do with wizardry. You have already seen them in previous chapters of our tutorial. They are special methods with fixed names. They are the methods with this clumsy syntax, i.e. the double underscores at the beginning and the end. They are also hard to talk about. How do you pronounce or say a method name like `__init__`? *\"Underscore underscore init underscore underscore\"* sounds horrible and is nearly a tongue twister. *\"Double underscore init double underscore\"* is a lot better, but the ideal way is *\"dunder init dunder\"* That's why magic methods methods are sometimes called **dunder methods**! \n",
    ">\n",
    "> So what's magic about the `__init__` method? The answer is, you don't have to invoke it directly. The invocation is realized behind the scenes. When you create an instance `x` of a class `A` with the statement `x = A()`, Python will do the necessary calls to `__new__` and `__init__`. \n",
    "> \n",
    ">[Python course][python course]\n",
    "\n",
    "In our case we want to redefine how (list) concatenation works, the usual way of concatenating two lists `A` and `B` is to call `A + B` which return a new list, or by calling `A += B` (which is equivalent to calling `A.extend(B)`):\n",
    "\n",
    "[python course]: https://docs.python.org/3/reference/datamodel.html#emulating-container-types\n",
    "[magic methods]: https://www.python-course.eu/python3_magic_methods.php"
   ]
  },
  {
   "cell_type": "code",
   "execution_count": 60,
   "metadata": {},
   "outputs": [
    {
     "data": {
      "text/plain": [
       "True"
      ]
     },
     "execution_count": 60,
     "metadata": {},
     "output_type": "execute_result"
    }
   ],
   "source": [
    "from copy import copy\n",
    "\n",
    "class Tuple(list):\n",
    "    def __init__(self, iterable=None):\n",
    "        if iterable is None:\n",
    "            iterable = []\n",
    "        super().__init__(iterable)\n",
    "    def __add__(self, other):\n",
    "        return Tuple([*self, *other])\n",
    "    \n",
    "    __radd__ = __add__\n",
    "    __iadd__ = __add__\n",
    "        \n",
    "a = Tuple([1, 2, 3])\n",
    "copy_of_a = copy(a)   # another way to help us decide if `a` is immutable\n",
    "b = a\n",
    "b += Tuple([4, 5, 6])\n",
    "\n",
    "a == copy_of_a        # should be True if concatenation didn't mutate `a`"
   ]
  },
  {
   "cell_type": "markdown",
   "metadata": {},
   "source": [
    "This seems to work as both `a` and its copy have the same value. This is not the most efficient implementation of an immutable sequence, python `tuple` are definitively not implemented in such a naive way, but that's the decent approximation we need here.\n",
    "\n",
    "**dir([object])** <a id='dir_1'></a>\n",
    "[<img src=\"images/py.png\" style=\"display: inline; margin: 0 4px;\" />][dir]\n",
    "\n",
    "Lets now try to hack this first implementation, to this end lets first see what method we can access (we inherited from `list` therefore our `Tuple` has methods we haven't wrote ourselves):\n",
    "\n",
    "[dir]: https://docs.python.org/3.5/library/functions.html#dir"
   ]
  },
  {
   "cell_type": "code",
   "execution_count": 61,
   "metadata": {},
   "outputs": [
    {
     "name": "stdout",
     "output_type": "stream",
     "text": [
      "['__add__', '__class__', '__contains__', '__delattr__', '__delitem__', '__dict__', '__dir__', '__doc__', '__eq__', '__format__', '__ge__', '__getattribute__', '__getitem__', '__gt__', '__hash__', '__iadd__', '__imul__', '__init__', '__init_subclass__', '__iter__', '__le__', '__len__', '__lt__', '__module__', '__mul__', '__ne__', '__new__', '__radd__', '__reduce__', '__reduce_ex__', '__repr__', '__reversed__', '__rmul__', '__setattr__', '__setitem__', '__sizeof__', '__slotnames__', '__str__', '__subclasshook__', '__weakref__', 'append', 'clear', 'copy', 'count', 'extend', 'index', 'insert', 'pop', 'remove', 'reverse', 'sort']\n"
     ]
    }
   ],
   "source": [
    "print(dir(Tuple))"
   ]
  },
  {
   "cell_type": "markdown",
   "metadata": {},
   "source": [
    "We can see that there are a lot of *dunder methods* to define the comportement of lists in regards of built-in operations, for example `__getitem__` is the method called on `some_list[some_index]`. There also is its counterpart `__setitem__` which is called on `some_list[some_index] = some_value`. Do you think this is a problem for us, remember, we don't want to allow any mutation of our `Tuple` instance, lets try it:\n"
   ]
  },
  {
   "cell_type": "code",
   "execution_count": 62,
   "metadata": {},
   "outputs": [
    {
     "data": {
      "text/plain": [
       "[0, 2, 3]"
      ]
     },
     "execution_count": 62,
     "metadata": {},
     "output_type": "execute_result"
    }
   ],
   "source": [
    "a = Tuple([1, 2, 3])\n",
    "a[0] = 0\n",
    "a"
   ]
  },
  {
   "cell_type": "markdown",
   "metadata": {},
   "source": [
    "As you might have guessed before **it is a problem**, how can we solve it? Line 2. `a[0] = 0` calls `a.__setitem__(0, 0)`, what we need to do is to intercept that and do something so `a` is not mutated. We can inspire ourself from how `tuple` react to that attack:  "
   ]
  },
  {
   "cell_type": "code",
   "execution_count": 63,
   "metadata": {},
   "outputs": [
    {
     "ename": "TypeError",
     "evalue": "'tuple' object does not support item assignment",
     "output_type": "error",
     "traceback": [
      "\u001b[0;31m---------------------------------------------------------\u001b[0m",
      "\u001b[0;31mTypeError\u001b[0m               Traceback (most recent call last)",
      "\u001b[0;32m<ipython-input-63-0effaf36e17e>\u001b[0m in \u001b[0;36m<module>\u001b[0;34m\u001b[0m\n\u001b[1;32m      1\u001b[0m \u001b[0mb\u001b[0m \u001b[0;34m=\u001b[0m \u001b[0mtuple\u001b[0m\u001b[0;34m(\u001b[0m\u001b[0;34m[\u001b[0m\u001b[0;36m1\u001b[0m\u001b[0;34m,\u001b[0m \u001b[0;36m2\u001b[0m\u001b[0;34m,\u001b[0m \u001b[0;36m3\u001b[0m\u001b[0;34m]\u001b[0m\u001b[0;34m)\u001b[0m\u001b[0;34m\u001b[0m\u001b[0m\n\u001b[0;32m----> 2\u001b[0;31m \u001b[0mb\u001b[0m\u001b[0;34m[\u001b[0m\u001b[0;36m0\u001b[0m\u001b[0;34m]\u001b[0m \u001b[0;34m=\u001b[0m \u001b[0;36m0\u001b[0m\u001b[0;34m\u001b[0m\u001b[0m\n\u001b[0m",
      "\u001b[0;31mTypeError\u001b[0m: 'tuple' object does not support item assignment"
     ]
    }
   ],
   "source": [
    "b = tuple([1, 2, 3])\n",
    "b[0] = 0"
   ]
  },
  {
   "cell_type": "markdown",
   "metadata": {},
   "source": [
    "That looks like the best solution. Since setting an item in place is not allow, we should throw an error to make sure the client using `Tuple` knows that what he is trying to do will have no effect. This solution is better than just silently ignoring this affectation because it may otherwise lead to bugs in the client code. Lets add that to our `Tuple` by redefining `Tuple`'s [`__setitem__`][__setitem__] method:\n",
    "\n",
    "[__setitem__]: https://docs.python.org/3/reference/datamodel.html#object.__setitem__"
   ]
  },
  {
   "cell_type": "code",
   "execution_count": 64,
   "metadata": {},
   "outputs": [
    {
     "ename": "TypeError",
     "evalue": "'BetterTuple' object does not support item assignment.",
     "output_type": "error",
     "traceback": [
      "\u001b[0;31m---------------------------------------------------------\u001b[0m",
      "\u001b[0;31mTypeError\u001b[0m               Traceback (most recent call last)",
      "\u001b[0;32m<ipython-input-64-07194df93462>\u001b[0m in \u001b[0;36m<module>\u001b[0;34m\u001b[0m\n\u001b[1;32m      4\u001b[0m \u001b[0;34m\u001b[0m\u001b[0m\n\u001b[1;32m      5\u001b[0m \u001b[0ma\u001b[0m \u001b[0;34m=\u001b[0m \u001b[0mBetterTuple\u001b[0m\u001b[0;34m(\u001b[0m\u001b[0;34m[\u001b[0m\u001b[0;36m1\u001b[0m\u001b[0;34m,\u001b[0m \u001b[0;36m2\u001b[0m\u001b[0;34m,\u001b[0m \u001b[0;36m3\u001b[0m\u001b[0;34m]\u001b[0m\u001b[0;34m)\u001b[0m\u001b[0;34m\u001b[0m\u001b[0m\n\u001b[0;32m----> 6\u001b[0;31m \u001b[0ma\u001b[0m\u001b[0;34m[\u001b[0m\u001b[0;36m0\u001b[0m\u001b[0;34m]\u001b[0m \u001b[0;34m=\u001b[0m \u001b[0;36m0\u001b[0m\u001b[0;34m\u001b[0m\u001b[0m\n\u001b[0m",
      "\u001b[0;32m<ipython-input-64-07194df93462>\u001b[0m in \u001b[0;36m__setitem__\u001b[0;34m(self, key, value)\u001b[0m\n\u001b[1;32m      1\u001b[0m \u001b[0;32mclass\u001b[0m \u001b[0mBetterTuple\u001b[0m\u001b[0;34m(\u001b[0m\u001b[0mTuple\u001b[0m\u001b[0;34m)\u001b[0m\u001b[0;34m:\u001b[0m\u001b[0;34m\u001b[0m\u001b[0m\n\u001b[1;32m      2\u001b[0m     \u001b[0;32mdef\u001b[0m \u001b[0m__setitem__\u001b[0m\u001b[0;34m(\u001b[0m\u001b[0mself\u001b[0m\u001b[0;34m,\u001b[0m \u001b[0mkey\u001b[0m\u001b[0;34m,\u001b[0m \u001b[0mvalue\u001b[0m\u001b[0;34m)\u001b[0m\u001b[0;34m:\u001b[0m\u001b[0;34m\u001b[0m\u001b[0m\n\u001b[0;32m----> 3\u001b[0;31m         \u001b[0;32mraise\u001b[0m \u001b[0mTypeError\u001b[0m\u001b[0;34m(\u001b[0m\u001b[0;34mf\"'{type(self).__name__}' object does not support item assignment.\"\u001b[0m\u001b[0;34m)\u001b[0m\u001b[0;34m\u001b[0m\u001b[0m\n\u001b[0m\u001b[1;32m      4\u001b[0m \u001b[0;34m\u001b[0m\u001b[0m\n\u001b[1;32m      5\u001b[0m \u001b[0ma\u001b[0m \u001b[0;34m=\u001b[0m \u001b[0mBetterTuple\u001b[0m\u001b[0;34m(\u001b[0m\u001b[0;34m[\u001b[0m\u001b[0;36m1\u001b[0m\u001b[0;34m,\u001b[0m \u001b[0;36m2\u001b[0m\u001b[0;34m,\u001b[0m \u001b[0;36m3\u001b[0m\u001b[0;34m]\u001b[0m\u001b[0;34m)\u001b[0m\u001b[0;34m\u001b[0m\u001b[0m\n",
      "\u001b[0;31mTypeError\u001b[0m: 'BetterTuple' object does not support item assignment."
     ]
    }
   ],
   "source": [
    "class BetterTuple(Tuple):\n",
    "    def __setitem__(self, key, value):\n",
    "        raise TypeError(f\"'{type(self).__name__}' object does not support item assignment.\")\n",
    "        \n",
    "a = BetterTuple([1, 2, 3])\n",
    "a[0] = 0"
   ]
  },
  {
   "cell_type": "markdown",
   "metadata": {},
   "source": [
    "One small detail of implementation, we may have simply raised the following error: \n",
    "\n",
    "```python\n",
    "raise TypeError(\"'BetterTuple' object does not support item assignment.\")\n",
    "```\n",
    "\n",
    "But what if we later decide to rename `BetterTuple` to simply `Tuple`, say when all clients stoped using the deprecated (broken) `Tuple`, then we would have to change this piece of code in addition to simply renaming the class. This may not be a problem if you class is small, but if you class is big and you do print hardcoded messages in different places, then you'll have to search an replace them, not the funniest thing to do. That's the reason why we instead get the type of `self` using `type(self)` (note that this is [almost equivalent to `self.__class__`][__class__ vs. type()]), in our case this returns a type object `t` which is a class: `<class '__main__.BetterTuple'>`, from which we can retrieve the class' name [`t.__name__`][__name__].\n",
    "\n",
    "Is our `BetterTuple` class still broken (mutable)? I'll leave it as an exercice, have a look back at what `dir` says about our new class. Try to find methods that can be used to mutate instances of `BetterTuple`. We redefined dunder methods but we didn't redefined non-dunder methods from `list`, that's something you can look for. \n",
    "\n",
    "[__class__ vs. type()]: https://stackoverflow.com/a/511059/1720199\n",
    "[__name__]: https://docs.python.org/3/reference/import.html#__name__"
   ]
  },
  {
   "cell_type": "markdown",
   "metadata": {},
   "source": [
    "### Remarks on  concatenation complexity\n",
    "\n",
    "The concatenation implementation of `Tuple` (and therefore of `BetterTuple`) has a complexity of $O(n+m)$. There are several ways of achieving the same thing with a better complexity, for example using [Ropes][wikipedia ropes] in which insertion\\concatenation are in $O(\\log n)$.\n",
    "\n",
    "Lets see how performant this is compared to the real `tuple`. We have two tuples that (in theory) should have the same interfaces (they both share the exact same set of methods). We can use this to make our code a bit simpler than what we did when we compared lists with tuples. In Python both functions are classes are [first-class citizen][wikipedia first-class].\n",
    "\n",
    "\n",
    "[wikipedia ropes]: https://www.wikiwand.com/en/Rope_(data_structure)\n",
    "[wikipedia first-class]: https://www.wikiwand.com/en/First-class_citizen"
   ]
  },
  {
   "cell_type": "markdown",
   "metadata": {},
   "source": [
    "# Metaclasses — first class citizens\n",
    "\n",
    "Being first-class citizen means that classes can be used as object, but how does it work under the hood? \n",
    "\n",
    "In python classes are themselves instances of another class. That look to make no sense, because it doesn't really, you can't make sense of that if you stay inside python. If all classes are instances of another class, then how was the first class instanciated? And what is its type? It's a bit like Chicken-and-egg. But there is a solution to this particular dilema. In python, the base type of a metaclass is called `type`. This class (yes!) is built outside the logic of the python language which allow such a twisted outcome where `type` is of its own type (since its also a class). Basically you just need to have faith in the fact that `type` is well defined and that all classes are of type `type`. You can find an interesting Stackoverflow post about this: [\"How does Cpython implement its type Objects, i.e. type's type is always type?\n",
    "\"][type is of type type]. Just for fun:\n",
    "\n",
    "\n",
    "[type is of type type]: https://stackoverflow.com/questions/18692033/how-does-cpython-implement-its-type-objects-i-e-types-type-is-always-type"
   ]
  },
  {
   "cell_type": "code",
   "execution_count": 65,
   "metadata": {},
   "outputs": [
    {
     "name": "stdout",
     "output_type": "stream",
     "text": [
      "<class 'type'>\n",
      "<class 'type'>\n",
      "<class 'type'>\n"
     ]
    }
   ],
   "source": [
    "print(type(type))\n",
    "print(type(type(type(type))))\n",
    "print(type(type(type(type(type(type(type)))))))"
   ]
  },
  {
   "cell_type": "markdown",
   "metadata": {},
   "source": [
    "Now back to the good part! Now we know that everything in python is an object (an instance of some class), even classes which are instances of `type`. That means we can store classes in variables, pass them as function parameters, return them, etc.. In our particular example, we want to evaluate the performances of two classes that both implement the same methods. Therefore we can pass them as parameter to a test function, which then will instanciate the class (either `tuple` or `Tuple`) and will finally run the test, not knowing which class it has instanciated but:\n",
    "\n",
    "> If it walks like a duck and it quacks like a duck, then it must be a duck — [wikipedia][duck typing]\n",
    "\n",
    "Lets see how the code look like: \n",
    "\n",
    "\n",
    "[duck typing]: https://www.wikiwand.com/en/Duck_typing"
   ]
  },
  {
   "cell_type": "code",
   "execution_count": 66,
   "metadata": {},
   "outputs": [
    {
     "name": "stdout",
     "output_type": "stream",
     "text": [
      "Python tuple: \n",
      "1.15 ms ± 35.3 µs per loop (mean ± std. dev. of 5 runs, 1000 loops each)\n",
      "\n",
      "Our Tuple: \n",
      "4.72 ms ± 149 µs per loop (mean ± std. dev. of 5 runs, 100 loops each)\n",
      "\n",
      "Python tuple: \n",
      "47.2 µs ± 671 ns per loop (mean ± std. dev. of 5 runs, 10000 loops each)\n",
      "\n",
      "Our Tuple: \n",
      "58.9 µs ± 510 ns per loop (mean ± std. dev. of 5 runs, 10000 loops each)\n"
     ]
    }
   ],
   "source": [
    "import timeit\n",
    "\n",
    "# Takes a class as parameter\n",
    "def many_small_increments(ClassName):\n",
    "    # Instanciate the class (we don't need to know its type)\n",
    "    acc = ClassName()\n",
    "    for x in range(n):\n",
    "        # Try to make it \"quack like a duck\":\n",
    "        acc = acc + (x,)\n",
    "    # If it all worked out \"then it must be a duck\"\n",
    "    return acc\n",
    "\n",
    "# Exact same principle:\n",
    "def one_large_increment(ClassName):\n",
    "    prev_state = ClassName(range(n))\n",
    "    update_state_with = ClassName(range(n, 2*n))\n",
    "    return prev_state + update_state_with\n",
    "\n",
    "\n",
    "print(\"Python tuple: \")\n",
    "%timeit -r 5 many_small_increments(tuple)\n",
    "print(\"\\nOur Tuple: \")\n",
    "%timeit -r 5 many_small_increments(Tuple)\n",
    "\n",
    "\n",
    "print(\"\\nPython tuple: \")\n",
    "%timeit -r 5 one_large_increment(tuple)\n",
    "print(\"\\nOur Tuple: \")\n",
    "%timeit -r 5 one_large_increment(Tuple)"
   ]
  },
  {
   "cell_type": "markdown",
   "metadata": {},
   "source": [
    "If you are interested in more complex immutable data structures you can also have a look at [zippers][1], this article explains what zippers are, why/when they are usefull and also how to build one in python.\n",
    "\n",
    "[2]: https://github.com/cglacet/exercism-python/blob/master/zipper/README.md#howwhy-to-implement-zippers"
   ]
  },
  {
   "cell_type": "markdown",
   "metadata": {},
   "source": [
    "---\n",
    "# Async-Await \n",
    "\n",
    "... coming soon"
   ]
  },
  {
   "cell_type": "code",
   "execution_count": null,
   "metadata": {},
   "outputs": [],
   "source": []
  }
 ],
 "metadata": {
  "kernelspec": {
   "display_name": "Python 3",
   "language": "python",
   "name": "python3"
  },
  "language_info": {
   "codemirror_mode": {
    "name": "ipython",
    "version": 3
   },
   "file_extension": ".py",
   "mimetype": "text/x-python",
   "name": "python",
   "nbconvert_exporter": "python",
   "pygments_lexer": "ipython3",
   "version": "3.7.0"
  }
 },
 "nbformat": 4,
 "nbformat_minor": 2
}

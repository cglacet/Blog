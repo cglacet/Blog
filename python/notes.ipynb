{
 "cells": [
  {
   "cell_type": "markdown",
   "metadata": {},
   "source": [
    "# I've been doing it wrong\n",
    "\n",
    "\n",
    "This article presents some python features that everyone should try using. I'll try to be as educational as possible but this is intended for people that already have basic knowledge in computer science. In most cases I'll present a problem with a first implementation and progressively add python flavor to it. In some cases examples will come from code I saw on [stackoverflow][1] or [Exercism.io][2], sometimes the example will be a code of mine and in some other cases the examples will be purely fictional. If by any chance you see a code you wrote here and you want it to be removed then you can ask contact me.\n",
    "\n",
    "Note that everything is more or less in arbitrary order (even though I'll try to maintain a complexity order), you can use the following indexes if you are looking for a specific subject.\n",
    "\n",
    "Everytime you see the python logo somewhere, this means there is a link to the documentation:\n",
    "\n",
    "> **str.lower()** [<img src=\"images/py.png\" style=\"display: inline; margin: 0 4px;\" />][4]\n",
    "\n",
    "\n",
    "## Topics Index\n",
    "\n",
    "* **Built-in functions** [enumerate()](#enumerate_1), \n",
    "* **Built-in types** [set()](#set_1), \n",
    "* **Asynchronous** [async-await](#async-await), [asyncio](#asyncio)\n",
    "\n",
    "## Paradigms/design patterns index\n",
    "\n",
    "* [**Immutability**](#Immutability)\n",
    "\n",
    "\n",
    "## Problems Index\n",
    "\n",
    "* [**Finding vowels in a string**](#Finding-vowels-and-their-position-in-a-string)\n",
    "\n",
    "\n",
    "[1]: https://exercism.io\n",
    "[2]: https://stackoverflow.com/questions/tagged/python\n",
    "[3]: christian.glacet+python@gmail.com\n",
    "[4]: https://docs.python.org/3/library/stdtypes.html#str.lower"
   ]
  },
  {
   "cell_type": "markdown",
   "metadata": {},
   "source": [
    "# Finding vowels and their position in a string\n",
    "\n",
    "The goal of this function is to show, for every vowel in an input string, both the wovel and the index at which it was found in the string."
   ]
  },
  {
   "cell_type": "code",
   "execution_count": 115,
   "metadata": {},
   "outputs": [],
   "source": [
    "user_input = \"Some user input.\"\n",
    "vowels = \"aeiouAEIOU\""
   ]
  },
  {
   "cell_type": "code",
   "execution_count": 116,
   "metadata": {},
   "outputs": [
    {
     "name": "stdout",
     "output_type": "stream",
     "text": [
      "o 1 - e 3 - u 5 - e 7 - i 10 - u 13 - "
     ]
    }
   ],
   "source": [
    "position = 0\n",
    "for char in userInput:\n",
    "    if char in vowels:\n",
    "        print(char, position, end=\" - \")\n",
    "    position += 1"
   ]
  },
  {
   "cell_type": "markdown",
   "metadata": {},
   "source": [
    "**enumerate(iterable, start=0)** \n",
    "<a id='enumerate_1'></a>\n",
    "[<img src=\"images/py.png\" style=\"display: inline; margin: 0 4px;\" />][1]\n",
    "\n",
    "This code can be improved to be a bit more pythonic, using `enumerate` can save you from keeping track of the position by hand:\n",
    "\n",
    "\n",
    "[1]: https://docs.python.org/3.5/library/functions.html#enumerate"
   ]
  },
  {
   "cell_type": "code",
   "execution_count": 117,
   "metadata": {},
   "outputs": [
    {
     "name": "stdout",
     "output_type": "stream",
     "text": [
      "o 1 - e 3 - u 5 - e 7 - i 10 - u 13 - "
     ]
    }
   ],
   "source": [
    "for position, char in enumerate(userInput):\n",
    "    if char in vowels :\n",
    "        print(char, position, end=\" - \")"
   ]
  },
  {
   "cell_type": "markdown",
   "metadata": {},
   "source": [
    "**class set([iterable])** <a id='set_1'></a>\n",
    "[<img src=\"images/py.png\" style=\"display: inline; margin: 0 4px;\" />][1]\n",
    "\n",
    "Another improvement can be made, this time we can improve performances. Time cost of checking `char in vowels` is proportional to the size of the string `vowels`. On the other hand you can change the type of `vowels` from `string` to `set`, checking if an item is part of a set is done in constant time:\n",
    "\n",
    "[1]: https://docs.python.org/3/library/stdtypes.html#set-types-set-frozenset"
   ]
  },
  {
   "cell_type": "code",
   "execution_count": 118,
   "metadata": {},
   "outputs": [
    {
     "name": "stdout",
     "output_type": "stream",
     "text": [
      "o 1 - e 3 - u 5 - e 7 - i 10 - u 13 - "
     ]
    }
   ],
   "source": [
    "vowels = set(vowels)\n",
    "for pos, char in enumerate(userInput):\n",
    "    if char in vowels:\n",
    "        print(char, pos, end=\" - \")"
   ]
  },
  {
   "cell_type": "markdown",
   "metadata": {},
   "source": [
    "Sets are a very common type and you are probably already very used to it. One remark though is that `set()` can not take any iterable as parameter."
   ]
  },
  {
   "cell_type": "code",
   "execution_count": 119,
   "metadata": {},
   "outputs": [
    {
     "ename": "TypeError",
     "evalue": "unhashable type: 'list'",
     "output_type": "error",
     "traceback": [
      "\u001b[0;31m---------------------------------------------------------------------------\u001b[0m",
      "\u001b[0;31mTypeError\u001b[0m                                 Traceback (most recent call last)",
      "\u001b[0;32m<ipython-input-119-ea16244b3429>\u001b[0m in \u001b[0;36m<module>\u001b[0;34m\u001b[0m\n\u001b[0;32m----> 1\u001b[0;31m \u001b[0mitems\u001b[0m \u001b[0;34m=\u001b[0m \u001b[0mset\u001b[0m\u001b[0;34m(\u001b[0m\u001b[0;34m[\u001b[0m\u001b[0;34m[\u001b[0m\u001b[0;36m1\u001b[0m\u001b[0;34m,\u001b[0m \u001b[0;36m2\u001b[0m\u001b[0;34m,\u001b[0m \u001b[0;36m3\u001b[0m\u001b[0;34m]\u001b[0m\u001b[0;34m,\u001b[0m \u001b[0;34m[\u001b[0m\u001b[0;36m4\u001b[0m\u001b[0;34m,\u001b[0m \u001b[0;36m5\u001b[0m\u001b[0;34m]\u001b[0m\u001b[0;34m]\u001b[0m\u001b[0;34m)\u001b[0m\u001b[0;34m\u001b[0m\u001b[0m\n\u001b[0m",
      "\u001b[0;31mTypeError\u001b[0m: unhashable type: 'list'"
     ]
    }
   ],
   "source": [
    "items = set([[1, 2, 3], [4, 5]])"
   ]
  },
  {
   "cell_type": "markdown",
   "metadata": {},
   "source": [
    "This error is raised because both lists `[1, 2, 3]` and `[4, 5]` are unhashable. In fact, any [`list`][3] is unhashable. This is how hashable is defined in Python's documentation:\n",
    "\n",
    "> An object is hashable if it has a hash value which never changes during its lifetime, [[...]][4]\n",
    "\n",
    "Basically, a hashable object must (at least) be immutable (I dedicated a section to explaining what [**immutable?**](#Immutability) means). Python have some hashable types ([`text sequence`][1], [`numerics`][2], ...) and some unhashable types like `list`. On the other hand, in this specific case we could change our lists to tuples to have a set of sequences.\n",
    "\n",
    "[1]: https://docs.python.org/3/library/stdtypes.html#text-sequence-type-str\n",
    "[2]: https://docs.python.org/3/library/stdtypes.html#numeric-types-int-float-complex\n",
    "[3]: https://docs.python.org/3/library/stdtypes.html#list\n",
    "[4]: https://docs.python.org/3/glossary.html#term-hashable"
   ]
  },
  {
   "cell_type": "markdown",
   "metadata": {},
   "source": [
    "**class tuple([iterable])** \n",
    "<a id='type_tuple_1'></a>\n",
    "[<img src=\"images/py.png\" style=\"display: inline; margin: 0 4px;\" />][6]\n",
    "\n",
    "Tuples can roughly be seen as immutable lists. In python, lists tend to be prefered when inner items all share the same type, whereas tuples can be, and usually are, used when items are not of homogeneous type. The only case where tuples are used even on homogeneous items is when a hashable type is needed. Which is precisely the case here: \n",
    "\n",
    "\n",
    "[6]: https://docs.python.org/3/library/stdtypes.html#tuple"
   ]
  },
  {
   "cell_type": "code",
   "execution_count": 120,
   "metadata": {},
   "outputs": [
    {
     "data": {
      "text/plain": [
       "True"
      ]
     },
     "execution_count": 120,
     "metadata": {},
     "output_type": "execute_result"
    }
   ],
   "source": [
    "item_a = (1, 2, 3)\n",
    "item_b = (4, 5)\n",
    "items = set([item_a, item_b])\n",
    "(1, 2, 3) in items"
   ]
  },
  {
   "cell_type": "markdown",
   "metadata": {},
   "source": [
    "Note that since sets items are immutable, if `(1, 2, 3) in items` evaluates to `True` then it will always be evaluated to `True` (unless it is removed from the `items` set of course)."
   ]
  },
  {
   "cell_type": "code",
   "execution_count": 121,
   "metadata": {},
   "outputs": [
    {
     "name": "stdout",
     "output_type": "stream",
     "text": [
      "True\n",
      "True\n"
     ]
    }
   ],
   "source": [
    "print((1, 2, 3) in items)\n",
    "item_a = \"test\"\n",
    "print((1, 2, 3) in items)"
   ]
  },
  {
   "cell_type": "markdown",
   "metadata": {},
   "source": [
    "As always immutability comes with benefits, mainly: *it is safe to use as you know nothing will ever modify your objects*. But it also has its down sides, mainly: *people are usually not used to it*. Just to make sure we agree on what immutability is, I'll talk a little bit about it in the next section (or you can just [skip it](#) if you already know what immutability implies)."
   ]
  },
  {
   "cell_type": "markdown",
   "metadata": {},
   "source": [
    "# Immutability\n",
    "\n",
    "`$ define immutable`\n",
    "\n",
    "> In object-oriented and functional programming, an immutable object (unchangeable object) is an object whose state cannot be modified after it is created. This is in contrast to a mutable object (changeable object), which can be modified after it is created.\n",
    "\n",
    "Eventhough this definition is extremely simple and clear, understanding all the implications of immutability takes some time and practice. You must already be used to immutable objects since most modern languages use immutable objects for simple objects (string, numbers, booleans, ...). Here is an interesting discussion you can read if you want to understand [\"Why are Python strings immutable? Best practices for using them\"][1].\n",
    "\n",
    "It's very easy to check if a type is mutable or immutable and the technique would be the same for every language. For example, we can check that tuples are immutable in python:\n",
    "\n",
    "\n",
    "[1]: https://stackoverflow.com/questions/8680080/why-are-python-strings-immutable-best-practices-for-using-them"
   ]
  },
  {
   "cell_type": "code",
   "execution_count": 122,
   "metadata": {},
   "outputs": [
    {
     "data": {
      "text/plain": [
       "(1, 2, 3)"
      ]
     },
     "execution_count": 122,
     "metadata": {},
     "output_type": "execute_result"
    }
   ],
   "source": [
    "a = (1, 2, 3)\n",
    "b = a\n",
    "b += (4, 5, 6)\n",
    "a"
   ]
  },
  {
   "cell_type": "markdown",
   "metadata": {},
   "source": [
    "Whereas lists can be mutated:"
   ]
  },
  {
   "cell_type": "code",
   "execution_count": 123,
   "metadata": {},
   "outputs": [
    {
     "data": {
      "text/plain": [
       "[1, 2, 3, 4, 5, 6]"
      ]
     },
     "execution_count": 123,
     "metadata": {},
     "output_type": "execute_result"
    }
   ],
   "source": [
    "a = [1, 2, 3]\n",
    "b = a\n",
    "b += [4, 5, 6]\n",
    "a"
   ]
  }
 ],
 "metadata": {
  "kernelspec": {
   "display_name": "Python 3",
   "language": "python",
   "name": "python3"
  },
  "language_info": {
   "codemirror_mode": {
    "name": "ipython",
    "version": 3
   },
   "file_extension": ".py",
   "mimetype": "text/x-python",
   "name": "python",
   "nbconvert_exporter": "python",
   "pygments_lexer": "ipython3",
   "version": "3.7.0"
  }
 },
 "nbformat": 4,
 "nbformat_minor": 2
}

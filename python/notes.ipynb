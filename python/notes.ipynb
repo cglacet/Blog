{
 "cells": [
  {
   "cell_type": "markdown",
   "metadata": {},
   "source": [
    "<a id='begining'></a>\n",
    "[< go back to home](https://github.com/cglacet/Blog#my-publicationsnotes-on-various-subjects)\n",
    "\n",
    "# One step closer to using Python properly\n",
    "\n",
    "**Interactive version** here (it may take a few seconds to load): \n",
    "[![Binder](https://mybinder.org/badge_logo.svg)][interactive]\n",
    "\n",
    "Using the interactive version is strongly advised as you'll be able to add your own test along the way without having to rewrite all the code. Don't worry, your changes do not affect how others will see the file, your changes are visible only to you. \n",
    "\n",
    "\n",
    "## Content\n",
    "\n",
    "I'm always trying to improve my knowledge of python because it's my favorite language, that's the main reason why I'm writting this notes. Feel free to [contact me][mail] or to open an issue if you have any question or if you find something wrong/innacurate/outdated or even if you think I should look at a particular subject.\n",
    "\n",
    "This article presents some python features that everyone should try using, but also covers more fundamental computer science questions on the way. I'll try to be as educational as possible but this is intended for people that already have basic knowledge in computer science. What I think are the prerequisite:\n",
    "\n",
    "* types, typing (static typing and dynamic type checking)\n",
    "* control structures if, for, while\n",
    "* complexity analysis: being able to compute asymptotic complexities (for simple examples).\n",
    "* computer architecture: in particular memory management,  \n",
    "* ...\n",
    "\n",
    "\n",
    "In most cases I'll present a problem, give a first implementation and progressively add python flavor to it. In some cases examples will come from code I saw on [Stackoverflow][stackoverflow] or [Exercism.io][exercism], sometimes the example will be a code of mine and in many cases the examples will be purely fictional. If by any chance you see a code you wrote here and you want it to be removed then you can [contact me][mail]. I'll always try to go as deep as I can in the explanations every piece of code will be an excuse to discuss implementation details and fundamental aspects.\n",
    "\n",
    "Everytime you see the python logo somewhere, this means there is a link to the documentation of that particular function/method/class:\n",
    "\n",
    "> **str.lower()** [<img src=\"images/py.png\" style=\"display: inline; margin: 0 4px;\" />][strlower]\n",
    "\n",
    "Finally I'll answer the question **\"Why is this all in one page?\"** before you ask, it's because I find it so much easier to search for a topic in a single page using CTRL+F (or ⌘+F) instead of having to rely on a navigation system that would eventually fail.\n",
    "\n",
    "Note that everything is more or less in arbitrary order (even though I'll try to maintain a complexity order, but this is mostly subjective), you can use the following indexes if you are looking for a specific subject.\n",
    "\n",
    "## Topics Index\n",
    "\n",
    "* **Built-in functions** [enumerate()](#enumerate_1), [map()](#map_1)\n",
    "* **Built-in types** [range()](#range_1), [set()](#set_1), [tuple()](#type_tuple_1)\n",
    "* **Itertools module** [takewhile()](#takewhile_1)\n",
    "* **Asynchronous modules (coming next)** [async-await](#async-await), [asyncio](#asyncio)\n",
    "* **Other modules** [timeit](#timeit_1)\n",
    "\n",
    "## Paradigms/design patterns index\n",
    "\n",
    "* [**Immutability**](#Immutability)\n",
    "\n",
    "\n",
    "## Problems Index\n",
    "\n",
    "* [**Statistics on population**](#Statistics-on-population)\n",
    "* [**Finding vowels in a string**](#problem_vowels)\n",
    "\n",
    "\n",
    "[exercism]: https://exercism.io\n",
    "[stackoverflow]: https://stackoverflow.com/questions/tagged/python\n",
    "[mail]: mailto:christian.glacet+python@gmail.com\n",
    "[strlower]: https://docs.python.org/3/library/stdtypes.html#str.lower\n",
    "[interactive]: https://mybinder.org/v2/gh/cglacet/Blog/master?filepath=python%2Fnotes.ipynb"
   ]
  },
  {
   "cell_type": "markdown",
   "metadata": {},
   "source": [
    "### Some imports \n",
    "\n",
    "This is unrelated to python, these are just imports that I will use to make this Jupyter notebook able to display some markdown."
   ]
  },
  {
   "cell_type": "code",
   "execution_count": 1,
   "metadata": {},
   "outputs": [],
   "source": [
    "from IPython.display import display, Markdown"
   ]
  },
  {
   "cell_type": "markdown",
   "metadata": {},
   "source": [
    "# Statistics on population\n",
    "\n",
    "**Topics** Object Oriented Programming (OOP); Lists/Generators/Iterators ; ploting (coming next)\n",
    "\n",
    "**Problem definition** Implement a population class that will act as a list of people (name/age). We will supose that we have different kind of users for our API, but we will focus on one particular user that is only interested in making statisticall analysis over our populations ages. \n",
    "\n",
    "**Constraints we will try to uphold are** performances, reusability and of course producing clean code. \n",
    "\n",
    "\n",
    "## Our first Python class — Person\n",
    "\n",
    "Lets start by defining a `Person` type that we will not modify and use for the rest of the section."
   ]
  },
  {
   "cell_type": "code",
   "execution_count": 2,
   "metadata": {},
   "outputs": [
    {
     "name": "stdout",
     "output_type": "stream",
     "text": [
      "Christian is 32 years old.\n"
     ]
    }
   ],
   "source": [
    "from datetime import datetime\n",
    "\n",
    "date_fmt = \"%d/%m/%Y\"\n",
    "\n",
    "class Person:\n",
    "    def __init__(self, name, birth_date):\n",
    "        self.name = name\n",
    "        self.birth = birth_date\n",
    "\n",
    "    def age(self):\n",
    "        return (datetime.today() - self.birth).days//365\n",
    "    \n",
    "    def __str__(self):\n",
    "        return f\"{self.name} is {self.age()} years old.\"\n",
    "    \n",
    "birth = datetime.strptime(\"31/07/1986\", date_fmt)\n",
    "chris = Person(\"Christian\", birth)\n",
    "print(chris)"
   ]
  },
  {
   "cell_type": "markdown",
   "metadata": {},
   "source": [
    "Several things are maybe a bit unusual compared to other languages:\n",
    "\n",
    "1. The constructor will not be called explicitely.\n",
    "2. We rarely interfere in the instanciation (therefore we rarely redefine the default constructor).\n",
    "3. Attributes can be added to any existing instance, by anyone, at any time.\n",
    "\n",
    "To understand that better here is (roughly) what's going on under the hood when you call `Person(name, birth_date)`:"
   ]
  },
  {
   "cell_type": "code",
   "execution_count": 3,
   "metadata": {},
   "outputs": [
    {
     "name": "stdout",
     "output_type": "stream",
     "text": [
      "Christian is 32 years old.\n"
     ]
    }
   ],
   "source": [
    "# Simulate how a call to `Person(*args)` work:\n",
    "def new_person(*args):\n",
    "    # A) a new instance is created using the static method __new__\n",
    "    instance = Person.__new__(Person, *args)\n",
    "    # B) the instance is initialized (set attributes)\n",
    "    instance.__init__(*args)\n",
    "    # C) the initialized instance is returned to the caller\n",
    "    return instance\n",
    "\n",
    "# This is equivalent to calling `Person(\"Christian\", birth)`:\n",
    "chris = new_person(\"Christian\", birth)\n",
    "print(chris)"
   ]
  },
  {
   "cell_type": "markdown",
   "metadata": {},
   "source": [
    "What does that says: \n",
    "\n",
    "1. `Person.__new__` is the constructor of `Person`, in our case this constructor is unmodified and therefore inherited from the parent class `object` (note that in python 3 when you write `class Person` what it really means is `class Person(object)`, not having to explicitely state that we inherit from `object` is just [syntactic sugar][syntactic sugar]). Like in every inheritance case since `Person` doesn't redefine the constructor (neither overriding/overloading it) the inherited one will be used (ie. `object.__new__`).\n",
    "2. Redefining `__new__` is somehting that you will rarely have to do as most of the time you don't need any control on how to instanciate new object of a given type. Exception could be when creating metaclasses, but we will talk about that later).\n",
    "\n",
    "Now concerning point 3., here is a code that might surprise you depending on what language you come from:\n",
    "\n",
    "[syntactic sugar]: https://www.wikiwand.com/en/Syntactic_sugar"
   ]
  },
  {
   "cell_type": "code",
   "execution_count": 4,
   "metadata": {},
   "outputs": [
    {
     "name": "stdout",
     "output_type": "stream",
     "text": [
      "Christian has no last name.\n",
      "Glacet\n"
     ]
    },
    {
     "ename": "AttributeError",
     "evalue": "'Person' object has no attribute 'last_name'",
     "output_type": "error",
     "traceback": [
      "\u001b[0;31m---------------------------------------------------------------------------\u001b[0m",
      "\u001b[0;31mAttributeError\u001b[0m                            Traceback (most recent call last)",
      "\u001b[0;32m<ipython-input-4-49a7f3535ce0>\u001b[0m in \u001b[0;36m<module>\u001b[0;34m\u001b[0m\n\u001b[1;32m      9\u001b[0m \u001b[0mchris\u001b[0m\u001b[0;34m.\u001b[0m\u001b[0mlast_name\u001b[0m \u001b[0;34m=\u001b[0m \u001b[0;34m\"Glacet\"\u001b[0m\u001b[0;34m\u001b[0m\u001b[0m\n\u001b[1;32m     10\u001b[0m \u001b[0mprint\u001b[0m\u001b[0;34m(\u001b[0m\u001b[0mchris\u001b[0m\u001b[0;34m.\u001b[0m\u001b[0mlast_name\u001b[0m\u001b[0;34m)\u001b[0m\u001b[0;34m\u001b[0m\u001b[0m\n\u001b[0;32m---> 11\u001b[0;31m \u001b[0mprint\u001b[0m\u001b[0;34m(\u001b[0m\u001b[0mtom\u001b[0m\u001b[0;34m.\u001b[0m\u001b[0mlast_name\u001b[0m\u001b[0;34m)\u001b[0m\u001b[0;34m\u001b[0m\u001b[0m\n\u001b[0m",
      "\u001b[0;31mAttributeError\u001b[0m: 'Person' object has no attribute 'last_name'"
     ]
    }
   ],
   "source": [
    "# We will try to access an undefined attribute `last_name`\n",
    "try:\n",
    "    print(chris.last_name)\n",
    "except:\n",
    "    print(chris.name, \"has no last name.\")\n",
    "\n",
    "tom = Person(\"Thomas\", birth)\n",
    "\n",
    "chris.last_name = \"Glacet\"\n",
    "print(chris.last_name)\n",
    "print(tom.last_name)"
   ]
  },
  {
   "cell_type": "markdown",
   "metadata": {},
   "source": [
    "The `last_name` attribute is attached to the `chris` instance, other instances like `tom` are not aware of this and still raise an exception when trying to access this attribute: `AttributeError` is raised.\n",
    "\n",
    "In python you can add attributes to existing instances, it's a choice that is probably related to [duck typing][duck typing wiki]. Since adding attributes to an instances doesn't supress any capability from it we can do it safely. This construction is what allow us to write the `__init__` method. Otherwise we wouldn't be able to add attributes to `self` inside this method like we did in `Person`:\n",
    "\n",
    "```python\n",
    "class Person:\n",
    "    # This adds attributes to self:\n",
    "    def __init__(self, name, birth_date):\n",
    "        # at that point, the instance as \"no attribute\" (none of ours)\n",
    "        self.name = name\n",
    "        # now it has a `name` attribute\n",
    "        self.birth = birth_date\n",
    "        # now it has both `name` and `birth_date`\n",
    "```\n",
    "\n",
    "Since python call sucessively `__new__` and `__init__` every time `Person()` is called, all instances will have both attributes `name` and `birth_date`, that's the reason why we will assume everywhere else that these two exist. For example in the `__str__` method:\n",
    "\n",
    "\n",
    "```python\n",
    "    def __str__(self):\n",
    "        return f\"{self.name} is {self.age()} years old.\"\n",
    "```\n",
    "\n",
    "Note that this method is a special method that every class can define, it can be called in three different ways:\n",
    "\n",
    "\n",
    "[duck typing wiki]: https://www.wikiwand.com/de/Duck-Typing"
   ]
  },
  {
   "cell_type": "code",
   "execution_count": 5,
   "metadata": {},
   "outputs": [
    {
     "name": "stdout",
     "output_type": "stream",
     "text": [
      "Christian is 32 years old.\n",
      "Christian is 32 years old.\n"
     ]
    },
    {
     "data": {
      "text/plain": [
       "True"
      ]
     },
     "execution_count": 5,
     "metadata": {},
     "output_type": "execute_result"
    }
   ],
   "source": [
    "text_1 = chris.__str__()     # Explicitely (rarely useful)\n",
    "text_2 = str(chris)          # Indirectly by using str()\n",
    "text_3 = f\"{chris}\"          # Implicitely in formated strings\n",
    "text_4 = \"{}\".format(chris)  # Implicitely in formated strings (2nd form)\n",
    "\n",
    "print(chris)                 # print also calls str() on non-strings objects you pass to it\n",
    "print(text_1)                # will print the same exact thing\n",
    "\n",
    "text_1 == text_2 and text_2 == text_3 and text_3 == text_4"
   ]
  },
  {
   "cell_type": "markdown",
   "metadata": {},
   "source": [
    "**Remark** we know we can add attributes to existing instances in python, but you can also:\n",
    "\n",
    "* bind new method to existing classes ;\n",
    "* and even bind new method to existing instances: [how do to that?][binding instance methods] ;\n",
    "\n",
    "But this is not really something you should use unless more classic approach are not sufficient (inheritance, class decorators, ...).\n",
    "\n",
    "\n",
    "[binding instance methods]: https://stackoverflow.com/a/2982/1720199"
   ]
  },
  {
   "cell_type": "markdown",
   "metadata": {},
   "source": [
    "## Our second Python class — Population\n",
    "\n",
    "We will start with the following class definition for `Population`:"
   ]
  },
  {
   "cell_type": "code",
   "execution_count": 6,
   "metadata": {},
   "outputs": [
    {
     "name": "stdout",
     "output_type": "stream",
     "text": [
      "This population contains 5 people:\n",
      "\t- Person 0 is 61 years old.\n",
      "\t- Person 1 is 67 years old.\n",
      "\t- Person 2 is 7 years old.\n",
      "\t- Person 3 is 41 years old.\n",
      "\t- Person 4 is 81 years old.\n"
     ]
    }
   ],
   "source": [
    "from datetime import timedelta\n",
    "import random\n",
    "\n",
    "random.seed(0)\n",
    "\n",
    "class Population:\n",
    "    def __init__(self, people=None):\n",
    "        self.people = people or []\n",
    "    \n",
    "    def append(self, person):\n",
    "        self.people.append(person)\n",
    "        return self\n",
    "    \n",
    "    def __iadd__(self, person):\n",
    "        return self.append(person)\n",
    "        \n",
    "    def __str__(self):\n",
    "        text = f\"This population contains {len(self.people)} people:\"\n",
    "        for person in self.people:\n",
    "            text += f\"\\n\\t- {str(person)}\"\n",
    "        return text\n",
    "    \n",
    "def random_population(n=10):\n",
    "    today = datetime.today()\n",
    "    people = Population()\n",
    "    for index in range(n):\n",
    "        weeks = random.randint(50, 5000)\n",
    "        birth = datetime.today() - timedelta(weeks=weeks)\n",
    "        people.append(Person(f\"Person {index}\", birth))\n",
    "    return people\n",
    "        \n",
    "        \n",
    "my_people = random_population(5)\n",
    "print(my_people)"
   ]
  },
  {
   "cell_type": "markdown",
   "metadata": {},
   "source": [
    "Now, imagine that you have some cases where you just want the ages of a population, for statistics. You will need that accessible in several places and you don't want to write a for loop every time you need it. One way to do that is to write a function that you'll call everytime you need that particular information about your population:"
   ]
  },
  {
   "cell_type": "code",
   "execution_count": 7,
   "metadata": {},
   "outputs": [],
   "source": [
    "def population_ages(population):\n",
    "    ages = []\n",
    "    for person in population.people:\n",
    "        ages.append(person.age())\n",
    "    return ages"
   ]
  },
  {
   "cell_type": "markdown",
   "metadata": {},
   "source": [
    "Which in this case would return:"
   ]
  },
  {
   "cell_type": "code",
   "execution_count": 8,
   "metadata": {},
   "outputs": [
    {
     "data": {
      "text/plain": [
       "[61, 67, 7, 41, 81]"
      ]
     },
     "execution_count": 8,
     "metadata": {},
     "output_type": "execute_result"
    }
   ],
   "source": [
    "population_ages(my_people)"
   ]
  },
  {
   "cell_type": "markdown",
   "metadata": {},
   "source": [
    "This is the expected result but what if sometimes you only need to find the maximum age from your population. You could use this list and then iterate over it to find the `max` inside it. But this could be improved in two ways, since you woulc:\n",
    "\n",
    "1. iterate over a list of size |my_people| twice. Once in `population_ages` and once to compute the max.\n",
    "2. have two lists of size |my_people| in memory: `my_people` and the return value from `population_ages`.\n",
    "\n",
    "Many languages come with a nice solution to this using **generators**: \n",
    "\n",
    "> Generator is a special routine that can be used to control the iteration behaviour of a loop. In fact, all generators are iterators. A generator is very similar to a function that returns an array, in that a generator has parameters, can be called, and generates a sequence of values. However, instead of building an array containing all the values and returning them all at once, a generator yields the values one at a time, which requires less memory and allows the caller to get started processing the first few values immediately.\n",
    ">\n",
    "> [Wikipedia — generator][generator]\n",
    "\n",
    "Simplified version: \"A generator gives you values one by one instead of all together encaspulated in a sequence\". In python this can be achieved using the `yield` keyword inside a function. For example: \n",
    "\n",
    "[generator]: https://www.wikiwand.com/en/Generator_(computer_programming)"
   ]
  },
  {
   "cell_type": "code",
   "execution_count": 9,
   "metadata": {},
   "outputs": [],
   "source": [
    "def my_first_generator():\n",
    "    yield \"Hello\"\n",
    "    yield \"beautiful\"\n",
    "    yield \"world!\""
   ]
  },
  {
   "cell_type": "markdown",
   "metadata": {},
   "source": [
    "This generator can then be used extactly like iterators in any other language you know. In python there is a special module, named `itertools`, made to help you with iterators: **itertools module** \n",
    "<a id='itertools_1'></a>\n",
    "[<img src=\"images/py.png\" style=\"display: inline; margin: 0 4px;\" />][itertools]\n",
    "\n",
    "[itertools]: https://docs.python.org/3.7/library/itertools.html"
   ]
  },
  {
   "cell_type": "code",
   "execution_count": 10,
   "metadata": {},
   "outputs": [
    {
     "name": "stdout",
     "output_type": "stream",
     "text": [
      "Hello\n"
     ]
    }
   ],
   "source": [
    "it = my_first_generator()\n",
    "print(next(it))"
   ]
  },
  {
   "cell_type": "markdown",
   "metadata": {},
   "source": [
    "Or implicitely using iteration control struture, like a `for`:"
   ]
  },
  {
   "cell_type": "code",
   "execution_count": 11,
   "metadata": {},
   "outputs": [
    {
     "name": "stdout",
     "output_type": "stream",
     "text": [
      "beautiful\n",
      "world!\n"
     ]
    }
   ],
   "source": [
    "for value in it:\n",
    "    print(value)"
   ]
  },
  {
   "cell_type": "markdown",
   "metadata": {},
   "source": [
    "Of course `yield` can be used as any other instruction, for example it can be used inside a `while`:"
   ]
  },
  {
   "cell_type": "code",
   "execution_count": 12,
   "metadata": {},
   "outputs": [],
   "source": [
    "def generate_numbers():\n",
    "    number = 0\n",
    "    while True:\n",
    "        yield number\n",
    "        number += 1"
   ]
  },
  {
   "cell_type": "markdown",
   "metadata": {},
   "source": [
    "This generates an infinite number of values, or rather an unbonded number of values. Here are two equivalent ways of iterating over this infinite generator by adding a control:\n",
    "\n",
    "**itertools.takewhile(predicate, iterable)**\n",
    "<a id='takewhile_1'></a>\n",
    "[<img src=\"images/py.png\" style=\"display: inline; margin: 0 4px;\" />][itertools.takewhile]\n",
    "\n",
    "[itertools.takewhile]: https://docs.python.org/3.7/library/itertools.html#itertools.takewhile"
   ]
  },
  {
   "cell_type": "code",
   "execution_count": 13,
   "metadata": {},
   "outputs": [
    {
     "name": "stdout",
     "output_type": "stream",
     "text": [
      "0 1 2 3 4 \n",
      "0 1 2 3 4 \n"
     ]
    }
   ],
   "source": [
    "import itertools\n",
    "\n",
    "limit = 4\n",
    "\n",
    "for value in generate_numbers():\n",
    "    if value > limit:\n",
    "        break\n",
    "    print(value, end=\" \")\n",
    "print()\n",
    "    \n",
    "# Or equivalently:\n",
    "def leq(x):\n",
    "    return x <= limit\n",
    "\n",
    "for value in itertools.takewhile(leq, generate_numbers()):\n",
    "    print(value, end=\" \")\n",
    "print()"
   ]
  },
  {
   "cell_type": "markdown",
   "metadata": {},
   "source": [
    "In our case we can build a generator that will yield ages from a population:"
   ]
  },
  {
   "cell_type": "code",
   "execution_count": 14,
   "metadata": {},
   "outputs": [],
   "source": [
    "def population_ages(population):\n",
    "    for person in population.people:\n",
    "        yield person.age()"
   ]
  },
  {
   "cell_type": "markdown",
   "metadata": {},
   "source": [
    "Which returns:"
   ]
  },
  {
   "cell_type": "code",
   "execution_count": 15,
   "metadata": {},
   "outputs": [
    {
     "data": {
      "text/plain": [
       "<generator object population_ages at 0x110086a20>"
      ]
     },
     "execution_count": 15,
     "metadata": {},
     "output_type": "execute_result"
    }
   ],
   "source": [
    "population_ages(my_people)"
   ]
  },
  {
   "cell_type": "markdown",
   "metadata": {},
   "source": [
    "As observed before, this generator allows us to do (almost) everything we would do with lists, for example, many built-in functions that take `list` as argument also take `generator`, in fact they take a more abstract type called [`iterable`][iterable ABC]. An example of such a function is `map`.\n",
    "\n",
    "**map(function, iterable, ...)** \n",
    "<a id='map_1'></a>\n",
    "[<img src=\"images/py.png\" style=\"display: inline; margin: 0 4px;\" />][map function]\n",
    "\n",
    "As the documentations says, this returns an iterator that applies `function` to every item of `iterable`, yielding the results. It's very common to see lambda function passed as the first parameter to `map`, that usually the case when the function is extremely simple (\"adding one\" for example). In python, lambda functions are simply defined this way: `lambda <params>: <return value>`. Here is an example using our `population_ages` generator and some `map` functions:\n",
    "\n",
    "[map function]: https://docs.python.org/3.7/library/functions.html#map\n",
    "[iterable ABC]: https://docs.python.org/3.7/library/collections.abc.html#collections.abc.Iterable"
   ]
  },
  {
   "cell_type": "code",
   "execution_count": 28,
   "metadata": {},
   "outputs": [
    {
     "name": "stdout",
     "output_type": "stream",
     "text": [
      "Ages: 61, 67, 7, 41, 81, \n",
      "Next year people will have ages: 62, 68, 8, 42, 82, \n",
      "Next year people will have ages: 62, 68, 8, 42, 82\n",
      "Max age is 81\n"
     ]
    },
    {
     "ename": "TypeError",
     "evalue": "object of type 'generator' has no len()",
     "output_type": "error",
     "traceback": [
      "\u001b[0;31m---------------------------------------------------------------------------\u001b[0m",
      "\u001b[0;31mTypeError\u001b[0m                                 Traceback (most recent call last)",
      "\u001b[0;32m<ipython-input-28-56352efb5df1>\u001b[0m in \u001b[0;36m<module>\u001b[0;34m\u001b[0m\n\u001b[1;32m     21\u001b[0m \u001b[0;31m# because by definition, we don't have any idea what an iterable\u001b[0m\u001b[0;34m\u001b[0m\u001b[0;34m\u001b[0m\u001b[0m\n\u001b[1;32m     22\u001b[0m \u001b[0;31m# contains before we consume it. It's not in memory!\u001b[0m\u001b[0;34m\u001b[0m\u001b[0;34m\u001b[0m\u001b[0m\n\u001b[0;32m---> 23\u001b[0;31m \u001b[0mprint\u001b[0m\u001b[0;34m(\u001b[0m\u001b[0mlen\u001b[0m\u001b[0;34m(\u001b[0m\u001b[0mpopulation_ages\u001b[0m\u001b[0;34m(\u001b[0m\u001b[0mmy_people\u001b[0m\u001b[0;34m)\u001b[0m\u001b[0;34m)\u001b[0m\u001b[0;34m)\u001b[0m\u001b[0;34m\u001b[0m\u001b[0m\n\u001b[0m",
      "\u001b[0;31mTypeError\u001b[0m: object of type 'generator' has no len()"
     ]
    }
   ],
   "source": [
    "# We can iterate over the generator (=> it's iterable):\n",
    "print(\"Ages:\", end=\" \")\n",
    "for age in population_ages(my_people):\n",
    "    print(age, end=\", \")\n",
    "print()\n",
    "\n",
    "# Therefore we can use map() on it:\n",
    "print(\"Next year people will have ages:\", end=\" \")\n",
    "for age_str in map(lambda x: x+1, population_ages(my_people)):\n",
    "    print(age_str, end=\", \")\n",
    "print()\n",
    "\n",
    "# We can chain functions on iterables:\n",
    "next_ages = \", \".join(map(str, map(lambda x: x+1, population_ages(my_people))))\n",
    "print(\"Next year people will have ages:\", next_ages)\n",
    "\n",
    "# And of course you can apply max on it:\n",
    "print(f\"Max age is {max(population_ages(my_people))}\")\n",
    "\n",
    "# On the other hand, you can't know the size of an iterable \n",
    "# because by definition, we don't have any idea what an iterable \n",
    "# contains before we consume it. It's not in memory!\n",
    "print(len(population_ages(my_people)))"
   ]
  },
  {
   "cell_type": "markdown",
   "metadata": {},
   "source": [
    "Note that if our client want to have a list instead of the generator (going back to the old version), he can simply do the following: "
   ]
  },
  {
   "cell_type": "code",
   "execution_count": 29,
   "metadata": {},
   "outputs": [
    {
     "data": {
      "text/plain": [
       "[61, 67, 7, 41, 81]"
      ]
     },
     "execution_count": 29,
     "metadata": {},
     "output_type": "execute_result"
    }
   ],
   "source": [
    "list(population_ages(my_people)) # list() also takes any iterable as argument"
   ]
  },
  {
   "cell_type": "markdown",
   "metadata": {},
   "source": [
    "If we look at the `map` function signature: `map(function, iterable, ...)` we can notice these `...` that's used in python's documentation to say that it take from 1 to any number of iterable. You'll often see another notation, like in `zip(*iterables)` this means from 0 to any number of iterable. This means that map can for example take 2 iterables as parameter:"
   ]
  },
  {
   "cell_type": "code",
   "execution_count": 30,
   "metadata": {},
   "outputs": [
    {
     "name": "stdout",
     "output_type": "stream",
     "text": [
      "from age 61 to age 62.\n",
      "from age 67 to age 68.\n",
      "from age 7 to age 8.\n",
      "from age 41 to age 42.\n",
      "from age 81 to age 82.\n"
     ]
    }
   ],
   "source": [
    "population_next_ages = map(lambda x: x+1, population_ages(my_people))\n",
    "\n",
    "def aging_text(from_age, to_age):\n",
    "    return f\"from age {from_age} to age {to_age}.\"\n",
    "\n",
    "for text in map(aging_text, population_ages(my_people), population_next_ages):\n",
    "    print(text)"
   ]
  },
  {
   "cell_type": "markdown",
   "metadata": {},
   "source": [
    "All iterables passed to `map` will be iterated through simultaneously and values will be used as inputs for the `function`. For example with an input `map(f, [1, 2], ['a', 'b'])`, the returned iterator will procude `f(1, 'a')` then `f(2, 'b')` and will finally stop. \n",
    "\n",
    "In the case where one iterable is longer than the other, `map(f, [1, 2], ['a', 'b', 'c'])`, the maping will stop as soon as the first iterable is consumed, here it would return the same as before: `f(1, 'a')` then `f(2, 'b')`."
   ]
  },
  {
   "cell_type": "markdown",
   "metadata": {},
   "source": [
    "Lets go back to the `Population` class, even if we keep adding functionalities to it over time, it can be described as a list of people to which we will attach other kinds of information (for example a population `name`). When we iterate over people from a population, it's a bit frustrating to have to write something like `for person in population.people:`. The population itself could defined as a `list` using inheritance, in python this look like this:"
   ]
  },
  {
   "cell_type": "code",
   "execution_count": 31,
   "metadata": {},
   "outputs": [
    {
     "name": "stdout",
     "output_type": "stream",
     "text": [
      "This population contains 5 people:\n",
      "\t- Person 0 is 77 years old.\n",
      "\t- Person 1 is 64 years old.\n",
      "\t- Person 0 is 48 years old.\n",
      "\t- Person 1 is 75 years old.\n",
      "\t- Person 2 is 57 years old.\n"
     ]
    }
   ],
   "source": [
    "class Population(list):\n",
    "\n",
    "    def ages(self):\n",
    "        for person in self:\n",
    "            yield person.age()\n",
    "    \n",
    "    # We need to redefine that, otherwise it would return a list: \n",
    "    def __add__(self, other):\n",
    "        # As `list.__add__` do something that look like:\n",
    "        #   return [*self, *other]\n",
    "        # If we want a Population, we need to return that instead: \n",
    "        return Population([*self, *other])\n",
    "        \n",
    "    def __str__(self):\n",
    "        text = f\"This population contains {len(self)} people:\"\n",
    "        for person in self:\n",
    "            text += f\"\\n\\t- {str(person)}\"\n",
    "        return text\n",
    "    \n",
    "\n",
    "my_people = random_population(2)\n",
    "some_other_people = random_population(3)\n",
    "\n",
    "union_of_people = my_people + some_other_people\n",
    "print(union_of_people)"
   ]
  },
  {
   "cell_type": "markdown",
   "metadata": {},
   "source": [
    "This is very practical, but in some occurences you'll need more control about what you want to offer. If you don't want **ALL** features that lists offer but you still want to have some, you'll need to implement something that not only a delegation (like we did the 1st time) neither a simple inheritance. The best solution you can have in this case would be to do both! Python offers a list of [abstract classes][collection.abc] you can inherit from to give you the guidlines on how to implement you class (ie., [template method][template method]). In our case you would need to inherit from `collections.abc.MutableSequence` and delegate the work to list when we want to:\n",
    "\n",
    "[collection.abc]: https://docs.python.org/3.5/library/collections.abc.html\n",
    "[template method]: https://www.wikiwand.com/en/Template_method_pattern"
   ]
  },
  {
   "cell_type": "code",
   "execution_count": 32,
   "metadata": {},
   "outputs": [
    {
     "ename": "TypeError",
     "evalue": "Can't instantiate abstract class Population with abstract methods __delitem__, __getitem__, __len__, __setitem__, insert",
     "output_type": "error",
     "traceback": [
      "\u001b[0;31m---------------------------------------------------------------------------\u001b[0m",
      "\u001b[0;31mTypeError\u001b[0m                                 Traceback (most recent call last)",
      "\u001b[0;32m<ipython-input-32-ce54d847c464>\u001b[0m in \u001b[0;36m<module>\u001b[0;34m\u001b[0m\n\u001b[1;32m      4\u001b[0m     \u001b[0;32mpass\u001b[0m\u001b[0;34m\u001b[0m\u001b[0m\n\u001b[1;32m      5\u001b[0m \u001b[0;34m\u001b[0m\u001b[0m\n\u001b[0;32m----> 6\u001b[0;31m \u001b[0mp\u001b[0m \u001b[0;34m=\u001b[0m \u001b[0mPopulation\u001b[0m\u001b[0;34m(\u001b[0m\u001b[0;34m)\u001b[0m\u001b[0;34m\u001b[0m\u001b[0m\n\u001b[0m",
      "\u001b[0;31mTypeError\u001b[0m: Can't instantiate abstract class Population with abstract methods __delitem__, __getitem__, __len__, __setitem__, insert"
     ]
    }
   ],
   "source": [
    "import collections\n",
    "\n",
    "class Population(collections.abc.MutableSequence):\n",
    "    pass\n",
    "\n",
    "p = Population()"
   ]
  },
  {
   "cell_type": "markdown",
   "metadata": {},
   "source": [
    "That exception tells you what you need to implement, I wont implement those and I'll let this as an exercise."
   ]
  },
  {
   "cell_type": "markdown",
   "metadata": {},
   "source": [
    "---- \n",
    "<a id='problem_vowels'></a> <a id='problem_2'></a>\n",
    "[< back to index](#Topics-Index)  — [next topic (async-await) >](#problem_3)\n",
    "\n",
    "# Finding vowels and their positions in a string\n",
    "\n",
    "**Topics** list/tuple/set ; Immutability ; Performance measures tools ; Complexity analysis\n",
    "\n",
    "**Problem definition** The goal of this function is to show, for every vowel in an input string, both the wovel and the index at which it was found in the string."
   ]
  },
  {
   "cell_type": "code",
   "execution_count": 33,
   "metadata": {},
   "outputs": [],
   "source": [
    "user_input = \"Some user input.\"\n",
    "vowels = \"aeiouAEIOU\""
   ]
  },
  {
   "cell_type": "code",
   "execution_count": 34,
   "metadata": {},
   "outputs": [
    {
     "name": "stdout",
     "output_type": "stream",
     "text": [
      "o 1 - e 3 - u 5 - e 7 - i 10 - u 13 - "
     ]
    }
   ],
   "source": [
    "position = 0\n",
    "for char in user_input:\n",
    "    if char in vowels:\n",
    "        print(char, position, end=\" - \")\n",
    "    position += 1"
   ]
  },
  {
   "cell_type": "markdown",
   "metadata": {},
   "source": [
    "**enumerate(iterable, start=0)** \n",
    "<a id='enumerate_1'></a>\n",
    "[<img src=\"images/py.png\" style=\"display: inline; margin: 0 4px;\" />][enumerate]\n",
    "\n",
    "This code can be improved to be a bit more pythonic, using `enumerate` can save you from keeping track of the position by hand:\n",
    "\n",
    "\n",
    "[enumerate]: https://docs.python.org/3.5/library/functions.html#enumerate"
   ]
  },
  {
   "cell_type": "code",
   "execution_count": 35,
   "metadata": {},
   "outputs": [
    {
     "name": "stdout",
     "output_type": "stream",
     "text": [
      "o 1 - e 3 - u 5 - e 7 - i 10 - u 13 - "
     ]
    }
   ],
   "source": [
    "for position, char in enumerate(user_input):\n",
    "    if char in vowels :\n",
    "        print(char, position, end=\" - \")"
   ]
  },
  {
   "cell_type": "markdown",
   "metadata": {},
   "source": [
    "**class set([iterable])** <a id='set_1'></a>\n",
    "[<img src=\"images/py.png\" style=\"display: inline; margin: 0 4px;\" />][set]\n",
    "\n",
    "Another improvement can be made, this time we can improve performances. Time cost of checking `char in vowels` is proportional to the size of the string `vowels`. On the other hand you can change the type of `vowels` from `string` to `set`, checking if an item is part of a set is done in constant time:\n",
    "\n",
    "[set]: https://docs.python.org/3/library/stdtypes.html#set-types-set-frozenset"
   ]
  },
  {
   "cell_type": "code",
   "execution_count": 36,
   "metadata": {},
   "outputs": [
    {
     "name": "stdout",
     "output_type": "stream",
     "text": [
      "o 1 - e 3 - u 5 - e 7 - i 10 - u 13 - "
     ]
    }
   ],
   "source": [
    "vowels = set(vowels)\n",
    "for pos, char in enumerate(user_input):\n",
    "    if char in vowels:\n",
    "        print(char, pos, end=\" - \")"
   ]
  },
  {
   "cell_type": "markdown",
   "metadata": {},
   "source": [
    "Sets are a very common type and you are probably already very used to it. One remark though is that `set()` can not take any iterable as parameter."
   ]
  },
  {
   "cell_type": "code",
   "execution_count": 37,
   "metadata": {},
   "outputs": [
    {
     "ename": "TypeError",
     "evalue": "unhashable type: 'list'",
     "output_type": "error",
     "traceback": [
      "\u001b[0;31m---------------------------------------------------------------------------\u001b[0m",
      "\u001b[0;31mTypeError\u001b[0m                                 Traceback (most recent call last)",
      "\u001b[0;32m<ipython-input-37-ea16244b3429>\u001b[0m in \u001b[0;36m<module>\u001b[0;34m\u001b[0m\n\u001b[0;32m----> 1\u001b[0;31m \u001b[0mitems\u001b[0m \u001b[0;34m=\u001b[0m \u001b[0mset\u001b[0m\u001b[0;34m(\u001b[0m\u001b[0;34m[\u001b[0m\u001b[0;34m[\u001b[0m\u001b[0;36m1\u001b[0m\u001b[0;34m,\u001b[0m \u001b[0;36m2\u001b[0m\u001b[0;34m,\u001b[0m \u001b[0;36m3\u001b[0m\u001b[0;34m]\u001b[0m\u001b[0;34m,\u001b[0m \u001b[0;34m[\u001b[0m\u001b[0;36m4\u001b[0m\u001b[0;34m,\u001b[0m \u001b[0;36m5\u001b[0m\u001b[0;34m]\u001b[0m\u001b[0;34m]\u001b[0m\u001b[0;34m)\u001b[0m\u001b[0;34m\u001b[0m\u001b[0m\n\u001b[0m",
      "\u001b[0;31mTypeError\u001b[0m: unhashable type: 'list'"
     ]
    }
   ],
   "source": [
    "items = set([[1, 2, 3], [4, 5]])"
   ]
  },
  {
   "cell_type": "markdown",
   "metadata": {},
   "source": [
    "This error is raised because both lists `[1, 2, 3]` and `[4, 5]` are unhashable. In fact, any [`list`][pydoclist] is unhashable. This is how hashable is defined in Python's documentation:\n",
    "\n",
    "> An object is hashable if it has a hash value which never changes during its lifetime, [[...]][term-hashable]\n",
    "\n",
    "Basically, a hashable object must (at least) be immutable (I dedicated a section to explaining what [**immutable?**](#Immutability) means). Python have some hashable types ([`text sequence`][text sequence], [`numerics`][numerics], ...) and some unhashable types like `list`. On the other hand, in this specific case we could change our lists to tuples to have a set of sequences. Note that if your favorite set or map objects do not throw this error, [this could be a problem][identity mutability]. \n",
    "\n",
    "[text sequence]: https://docs.python.org/3/library/stdtypes.html#text-sequence-type-str\n",
    "[numerics]: https://docs.python.org/3/library/stdtypes.html#numeric-types-int-float-complex\n",
    "[pydoclist]: https://docs.python.org/3/library/stdtypes.html#list\n",
    "[term-hashable]: https://docs.python.org/3/glossary.html#term-hashable\n",
    "[identity mutability]: https://www.yegor256.com/2014/06/09/objects-should-be-immutable.html#avoiding-identity-mutability"
   ]
  },
  {
   "cell_type": "markdown",
   "metadata": {},
   "source": [
    "**class tuple([iterable])** \n",
    "<a id='type_tuple_1'></a>\n",
    "[<img src=\"images/py.png\" style=\"display: inline; margin: 0 4px;\" />][tuple]\n",
    "\n",
    "Tuples can roughly be seen as immutable lists. In python, lists tend to be prefered when inner items all share the same type, whereas tuples can be, and usually are, used when items are not of homogeneous type. The only case where tuples are used even on homogeneous items is when a hashable type is needed. Which is precisely the case here: \n",
    "\n",
    "\n",
    "[tuple]: https://docs.python.org/3/library/stdtypes.html#tuple"
   ]
  },
  {
   "cell_type": "code",
   "execution_count": 38,
   "metadata": {},
   "outputs": [
    {
     "data": {
      "text/plain": [
       "True"
      ]
     },
     "execution_count": 38,
     "metadata": {},
     "output_type": "execute_result"
    }
   ],
   "source": [
    "item_a = (1, 2, 3)\n",
    "item_b = (4, 5)\n",
    "items = set([item_a, item_b])\n",
    "(1, 2, 3) in items"
   ]
  },
  {
   "cell_type": "markdown",
   "metadata": {},
   "source": [
    "Note that since sets items are immutable, if `(1, 2, 3) in items` evaluates to `True` then it will *ALWAYS* be evaluated to `True` (unless it is removed from the `items` set of course)."
   ]
  },
  {
   "cell_type": "markdown",
   "metadata": {},
   "source": [
    "As always immutability comes with benefits, mainly: *it is safe to use as you know nothing will ever modify your objects*. But it also has its down sides, mainly: *people are usually not used to it* and *in some cases it's less performant*. Just to make sure we agree on what immutability is, I'll talk a little bit about it in the next section (or you can just [skip it](#Immutable-sequence-implementation) if you already know what immutability implies)."
   ]
  },
  {
   "cell_type": "markdown",
   "metadata": {},
   "source": [
    "# Immutability\n",
    "\n",
    "`$ define immutable`\n",
    "\n",
    "> In object-oriented and functional programming, an immutable object (unchangeable object) is an object whose state cannot be modified after it is created. This is in contrast to a mutable object (changeable object), which can be modified after it is created.\n",
    "\n",
    "Eventhough this definition is extremely simple and clear, understanding all the implications of immutability takes some time and practice. You must already be used to immutable objects since most modern languages use immutable objects for simple objects (string, numbers, booleans, ...). Here is an interesting discussion you can read if you want to understand [\"Why are Python strings immutable?\"][why string immutable].\n",
    "\n",
    "It's very easy to check if a type is mutable or immutable and the technique would be the same for every language. For example, we can check that tuples are immutable in python:\n",
    "\n",
    "\n",
    "[why string immutable]: https://stackoverflow.com/questions/8680080/why-are-python-strings-immutable-best-practices-for-using-them"
   ]
  },
  {
   "cell_type": "code",
   "execution_count": 39,
   "metadata": {},
   "outputs": [
    {
     "data": {
      "text/plain": [
       "(1, 2, 3)"
      ]
     },
     "execution_count": 39,
     "metadata": {},
     "output_type": "execute_result"
    }
   ],
   "source": [
    "a = (1, 2, 3)\n",
    "b = a\n",
    "b += (4, 5, 6)\n",
    "a"
   ]
  },
  {
   "cell_type": "markdown",
   "metadata": {},
   "source": [
    "Whereas lists can be mutated:"
   ]
  },
  {
   "cell_type": "code",
   "execution_count": 40,
   "metadata": {},
   "outputs": [
    {
     "data": {
      "text/plain": [
       "[1, 2, 3, 4, 5, 6]"
      ]
     },
     "execution_count": 40,
     "metadata": {},
     "output_type": "execute_result"
    }
   ],
   "source": [
    "a = [1, 2, 3]\n",
    "b = a\n",
    "b += [4, 5, 6]\n",
    "a"
   ]
  },
  {
   "cell_type": "markdown",
   "metadata": {},
   "source": [
    "We can go a bit further to obvserve a concrete implication of this fact. Lets build an library that offers to print the `vowels` from an `user_input`. We know that people will tend to forgot uppercase version of their vowels so we also decide that we will add these automatically for them.\n",
    "\n",
    "We will present our code first, then we will show how the user can experience bugs.\n",
    "\n",
    "### The library\n",
    "\n",
    "We couldn't decide whether we wanted `vowels` to be a list or a tuple, so we decided to delegate that decision to our client and implement both versions:"
   ]
  },
  {
   "cell_type": "code",
   "execution_count": 41,
   "metadata": {},
   "outputs": [],
   "source": [
    "def print_using_wovel_list(user_input, vowels):\n",
    "    print(\"List:\", end=\" \\t \")\n",
    "    vowels += list(c.upper() for c in vowels)\n",
    "    for c in user_input:\n",
    "        if c in vowels:\n",
    "            print(c, end=\" \")\n",
    "    print()\n",
    "            \n",
    "def print_using_wovel_tuple(user_input, vowels):\n",
    "    print(\"Tuple:\", end=\" \\t \")\n",
    "    vowels += tuple(c.upper() for c in vowels)\n",
    "    for c in user_input:\n",
    "        if c in vowels:\n",
    "            print(c, end=\" \")\n",
    "    print()"
   ]
  },
  {
   "cell_type": "markdown",
   "metadata": {},
   "source": [
    "### The client\n",
    "\n",
    "Lets now see how our client will use these two functions. The client simply wants to:\n",
    "\n",
    "1. define some vowels\n",
    "2. print the vowels from an `user_input`\n",
    "3. remove the first vowels defined in 1.\n",
    "4. print the vowels from an `user_input` again\n",
    "\n",
    "The client want to make this with both lists and tuples. For a `user_input` set to `\"I AM an input, are YOU?\"`, his expected result is to have (for 2. and 4.) the following outputs (for both list and tuple versions):\n",
    "\n",
    "```python\n",
    "I A a i u a e O U     # All vowels from `user_input`\n",
    "I i u e O U           # Same without a's or A's\n",
    "```\n"
   ]
  },
  {
   "cell_type": "code",
   "execution_count": 42,
   "metadata": {},
   "outputs": [
    {
     "name": "stdout",
     "output_type": "stream",
     "text": [
      "List: \t vowels are ['a', 'e', 'i', 'o', 'u']\n",
      "Tuple: \t vowels are ('a', 'e', 'i', 'o', 'u')\n",
      "-----\n",
      "List: \t I A a i u a e O U \n",
      "Tuple: \t I A a i u a e O U \n",
      "-----\n",
      "List: \t removing vowel a\n",
      "Tuple: \t removing vowel a\n",
      "-----\n",
      "List: \t I A i u e O U \n",
      "Tuple: \t I i u e O U \n"
     ]
    }
   ],
   "source": [
    "user_input = \"I AM an input, are YOU?\"\n",
    "lower_vowel_l = list(\"aeiou\")\n",
    "lower_vowel_t = tuple(\"aeiou\")\n",
    "\n",
    "print(\"List: \\t vowels are\", lower_vowel_l)\n",
    "print(\"Tuple: \\t vowels are\", lower_vowel_t)\n",
    "\n",
    "print(\"-----\")\n",
    "\n",
    "print_using_wovel_list(user_input, lower_vowel_l)\n",
    "print_using_wovel_tuple(user_input, lower_vowel_t)\n",
    "\n",
    "print(\"-----\")\n",
    "print(\"List: \\t removing vowel\", lower_vowel_l[0])\n",
    "print(\"Tuple: \\t removing vowel\", lower_vowel_t[0])\n",
    "lower_vowel_l.pop(0)\n",
    "lower_vowel_t = lower_vowel_t[1:]\n",
    "\n",
    "print(\"-----\")\n",
    "print_using_wovel_list(user_input, lower_vowel_l)\n",
    "print_using_wovel_tuple(user_input, lower_vowel_t)"
   ]
  },
  {
   "cell_type": "markdown",
   "metadata": {},
   "source": [
    "We can see here that the second output is different for lists and tuples, the tuple result is the expected one whereas the list result contains an unwanted `A`. The client can't have any idea where that bug comes from in his code, for good a reason since **the bug doesn't come from his code, but from ours**.\n",
    "\n",
    "The error we made is to modify the clients input `vowels` inside `print_using_wovel_list`. When working with mutable objects, **there are things we can do** (raising no exceptions) **but that we shouldn't be doing**. For example, like in this case, when handed an object we should never modify it in place (mutate it), never. You could ask whats the problem then, once we know we shouldn't do it we should just be careful with that. But are you sure we will **always** remember that? Maybe you will, but eventually someone wont. And when it happens, not only that it will create bugs but it will create very hard to find bugs. We will have an object that will change form without us noticing it. Debugging this will basically mean observing the faulty object until we find the place where its mutated.\n",
    "\n",
    "### Should we use immutable objects?\n",
    "\n",
    "**Having immutable objects is the guarantee for us that this will NEVER happen**, and never is really important because that what allow us to have no fear and focus on the important stuff instead of wondering how things could eventually turn bad. Immutability is an insurance to make your code safer, to give you control over your instances' values (in particular when instances are accessed concurently, we will see an example of that in the [async-await](#async-await) section). At that point you're probably asking yourself why isn't everyone using immutable objects everywhere? The main reason is performances issues, depending on what you want to do with your objects, making them immutable can have a big cost. Like always, when picking a data structure you need to chose it carefully depending on what you plan to do with it.\n",
    "\n",
    "\n",
    "Here is a python example in which using tuples instead of lists is very costly. In this example we will use a very useful function (generator) called `range` together with `timeit`.\n",
    "\n",
    "**class range(stop) — class range(start, stop[, step])** \n",
    "<a id='range_1'></a>\n",
    "[<img src=\"images/py.png\" style=\"display: inline; margin: 0 4px;\" />][range]\n",
    "\n",
    "**timeit.timeit(stmt='pass', setup='pass', timer=<default timer>, number=1000000, globals=None)**\n",
    "<a id='timeit_1'></a>\n",
    "[<img src=\"images/py.png\" style=\"display: inline; margin: 0 4px;\" />][timeit]\n",
    "    \n",
    "\n",
    "*The `timeit` function will not be used directly here as Jupyter offers a tool that interact better with our notebook here, but the principle is the same.*\n",
    "\n",
    "[range]: https://docs.python.org/3.5/library/stdtypes.html#range\n",
    "[timeit]: https://docs.python.org/3.5/library/timeit.html"
   ]
  },
  {
   "cell_type": "code",
   "execution_count": 43,
   "metadata": {},
   "outputs": [
    {
     "name": "stdout",
     "output_type": "stream",
     "text": [
      "List: \n",
      "1.04 ms ± 10.7 µs per loop (mean ± std. dev. of 5 runs, 1000 loops each)\n",
      "\n",
      "Tuple: \n",
      "163 ms ± 5.32 ms per loop (mean ± std. dev. of 5 runs, 10 loops each)\n"
     ]
    }
   ],
   "source": [
    "import timeit\n",
    "\n",
    "n = 10000\n",
    "\n",
    "def list_test_case():\n",
    "    acc = []\n",
    "    for x in range(n):\n",
    "        acc += [x]\n",
    "    return acc\n",
    "\n",
    "def tuple_test_case():\n",
    "    acc = ()\n",
    "    for x in range(n):\n",
    "        acc = acc + (x,)\n",
    "    return acc\n",
    "\n",
    "print(\"List: \")\n",
    "%timeit -r 5 list_test_case()\n",
    "\n",
    "print(\"\\nTuple: \")\n",
    "%timeit -r 5 tuple_test_case()"
   ]
  },
  {
   "cell_type": "markdown",
   "metadata": {},
   "source": [
    "On the flip side, a use case in which using tuples (or \"any\" immutable object) has almost no cost is when dealing with a \"few\" number of arbitrary sized updates. This is for example well suited to maitaining a global state that reacts on calls from an API or a evel slowers calls from a humain interacting with you application. That's the reason why libraries like [React Native.js][react-native] are using immutable [states][react-native state]. Here is what a python utility for updating states could look like in two cases, where the application state is either a `list` or a `tuple`: \n",
    "\n",
    "[react-native]: https://facebook.github.io/react-native/\n",
    "[react-native state]: https://facebook.github.io/react-native/docs/state.html"
   ]
  },
  {
   "cell_type": "code",
   "execution_count": 44,
   "metadata": {},
   "outputs": [
    {
     "name": "stdout",
     "output_type": "stream",
     "text": [
      "List: updating state\n",
      "45.8 µs ± 2.35 µs per loop (mean ± std. dev. of 5 runs, 10000 loops each)\n",
      "\n",
      "Tuple: updating state\n",
      "50.2 µs ± 767 ns per loop (mean ± std. dev. of 5 runs, 10000 loops each)\n"
     ]
    }
   ],
   "source": [
    "n = 1000\n",
    "\n",
    "def list_state_update(prev_state, update_state_with):\n",
    "    prev_state = list(prev_state)\n",
    "    update_state_with = list(update_state_with)\n",
    "    prev_state += update_state_with\n",
    "    return prev_state\n",
    "\n",
    "def tuple_state_update(prev_state, update_state_with):\n",
    "    prev_state = tuple(prev_state)\n",
    "    update_state_with = tuple(update_state_with)\n",
    "    return prev_state + update_state_with\n",
    "\n",
    "prev_state = range(n)\n",
    "update_state_with = range(n, 2*n)\n",
    "\n",
    "print(\"List: updating state\")\n",
    "%timeit -r 5 list_state_update(prev_state, update_state_with)\n",
    "\n",
    "print(\"\\nTuple: updating state\")\n",
    "%timeit -r 5 tuple_state_update(prev_state, update_state_with)"
   ]
  },
  {
   "cell_type": "markdown",
   "metadata": {},
   "source": [
    "### Concluding remarks\n",
    "\n",
    "Notice how these two pieces of code almost take the same time to execute. When that's the case there is no real argument against using immutable objects, the only disavantage being that \"_people are sometimes not used to immutability_\". But the good thing is, they can't screw up even if they don't know what they are doing.\n",
    "\n",
    "A final remark on this could be a quote from Oracle:\n",
    "\n",
    "> Programmers are often reluctant to employ immutable objects, because they worry about the cost of creating a new object as opposed to updating an object in place. The impact of object creation is often overestimated, and can be offset by some of the efficiencies associated with immutable objects. These include decreased overhead due to garbage collection, and the elimination of code needed to protect mutable objects from corruption.\n",
    "\n",
    "\n",
    "We are also here to talk about python, not only abstract concepts, so, how is immutability achievable in python? The language itself doesn't garantee immutability of all objects as we now know, so can we really do it? We will try to answer these question by implementing a class that produces (sort of) immutable sequences and we will analyse the performances of different solutions."
   ]
  },
  {
   "cell_type": "markdown",
   "metadata": {},
   "source": [
    "# Immutable sequence implementation\n",
    "\n",
    "As an exercise we will implement a `Tuple` class built on top of the existing `list` class. We will only do this for the example, therfore we won't implement all methods from `list` but just some to demonstrate the basic idea.\n",
    "\n",
    "We will use python's \"[**\\_\\_magic_methods\\_\\_**][magic methods]\" which can roughly be described this way:\n",
    "\n",
    "> The so-called magic methods have nothing to do with wizardry. You have already seen them in previous chapters of our tutorial. They are special methods with fixed names. They are the methods with this clumsy syntax, i.e. the double underscores at the beginning and the end. They are also hard to talk about. How do you pronounce or say a method name like `__init__`? *\"Underscore underscore init underscore underscore\"* sounds horrible and is nearly a tongue twister. *\"Double underscore init double underscore\"* is a lot better, but the ideal way is *\"dunder init dunder\"* That's why magic methods methods are sometimes called **dunder methods**! \n",
    ">\n",
    "> So what's magic about the `__init__` method? The answer is, you don't have to invoke it directly. The invocation is realized behind the scenes. When you create an instance `x` of a class `A` with the statement `x = A()`, Python will do the necessary calls to `__new__` and `__init__`. \n",
    "> \n",
    ">[Python course][python course]\n",
    "\n",
    "In our case we want to redefine how (list) concatenation works, the usual way of concatenating two lists `A` and `B` is to call `A + B` which return a new list, or by calling `A += B` (which is equivalent to calling `A.extend(B)`):\n",
    "\n",
    "[python course]: https://docs.python.org/3/reference/datamodel.html#emulating-container-types\n",
    "[magic methods]: https://www.python-course.eu/python3_magic_methods.php"
   ]
  },
  {
   "cell_type": "code",
   "execution_count": 45,
   "metadata": {},
   "outputs": [
    {
     "data": {
      "text/plain": [
       "True"
      ]
     },
     "execution_count": 45,
     "metadata": {},
     "output_type": "execute_result"
    }
   ],
   "source": [
    "from copy import copy\n",
    "\n",
    "class Tuple(list):\n",
    "    def __init__(self, iterable=None):\n",
    "        if iterable is None:\n",
    "            iterable = []\n",
    "        super().__init__(iterable)\n",
    "    def __add__(self, other):\n",
    "        return Tuple([*self, *other])\n",
    "    \n",
    "    __radd__ = __add__\n",
    "    __iadd__ = __add__\n",
    "        \n",
    "a = Tuple([1, 2, 3])\n",
    "copy_of_a = copy(a)   # another way to help us decide if `a` is immutable\n",
    "b = a\n",
    "b += Tuple([4, 5, 6])\n",
    "\n",
    "a == copy_of_a        # should be True if concatenation didn't mutate `a`"
   ]
  },
  {
   "cell_type": "markdown",
   "metadata": {},
   "source": [
    "This seems to work as both `a` and its copy have the same value. This is not the most efficient implementation of an immutable sequence, python `tuple` are definitively not implemented in such a naive way, but that's the decent approximation we need here.\n",
    "\n",
    "**dir([object])** <a id='dir_1'></a>\n",
    "[<img src=\"images/py.png\" style=\"display: inline; margin: 0 4px;\" />][dir]\n",
    "\n",
    "Lets now try to hack this first implementation, to this end lets first see what method we can access (we inherited from `list` therefore our `Tuple` has methods we haven't wrote ourselves):\n",
    "\n",
    "[dir]: https://docs.python.org/3.5/library/functions.html#dir"
   ]
  },
  {
   "cell_type": "code",
   "execution_count": 46,
   "metadata": {},
   "outputs": [
    {
     "name": "stdout",
     "output_type": "stream",
     "text": [
      "['__add__', '__class__', '__contains__', '__delattr__', '__delitem__', '__dict__', '__dir__', '__doc__', '__eq__', '__format__', '__ge__', '__getattribute__', '__getitem__', '__gt__', '__hash__', '__iadd__', '__imul__', '__init__', '__init_subclass__', '__iter__', '__le__', '__len__', '__lt__', '__module__', '__mul__', '__ne__', '__new__', '__radd__', '__reduce__', '__reduce_ex__', '__repr__', '__reversed__', '__rmul__', '__setattr__', '__setitem__', '__sizeof__', '__slotnames__', '__str__', '__subclasshook__', '__weakref__', 'append', 'clear', 'copy', 'count', 'extend', 'index', 'insert', 'pop', 'remove', 'reverse', 'sort']\n"
     ]
    }
   ],
   "source": [
    "print(dir(Tuple))"
   ]
  },
  {
   "cell_type": "markdown",
   "metadata": {},
   "source": [
    "We can see that there are a lot of *dunder methods* to define the comportement of lists in regards of built-in operations, for example `__getitem__` is the method called on `some_list[some_index]`. There also is its counterpart `__setitem__` which is called on `some_list[some_index] = some_value`. Do you think this is a problem for us, remember, we don't want to allow any mutation of our `Tuple` instance, lets try it:\n"
   ]
  },
  {
   "cell_type": "code",
   "execution_count": 47,
   "metadata": {},
   "outputs": [
    {
     "data": {
      "text/plain": [
       "[0, 2, 3]"
      ]
     },
     "execution_count": 47,
     "metadata": {},
     "output_type": "execute_result"
    }
   ],
   "source": [
    "a = Tuple([1, 2, 3])\n",
    "a[0] = 0\n",
    "a"
   ]
  },
  {
   "cell_type": "markdown",
   "metadata": {},
   "source": [
    "As you might have guessed before **it is a problem**, how can we solve it? Line 2. `a[0] = 0` calls `a.__setitem__(0, 0)`, what we need to do is to intercept that and do something so `a` is not mutated. We can inspire ourself from how `tuple` react to that attack:  "
   ]
  },
  {
   "cell_type": "code",
   "execution_count": 48,
   "metadata": {},
   "outputs": [
    {
     "ename": "TypeError",
     "evalue": "'tuple' object does not support item assignment",
     "output_type": "error",
     "traceback": [
      "\u001b[0;31m---------------------------------------------------------------------------\u001b[0m",
      "\u001b[0;31mTypeError\u001b[0m                                 Traceback (most recent call last)",
      "\u001b[0;32m<ipython-input-48-0effaf36e17e>\u001b[0m in \u001b[0;36m<module>\u001b[0;34m\u001b[0m\n\u001b[1;32m      1\u001b[0m \u001b[0mb\u001b[0m \u001b[0;34m=\u001b[0m \u001b[0mtuple\u001b[0m\u001b[0;34m(\u001b[0m\u001b[0;34m[\u001b[0m\u001b[0;36m1\u001b[0m\u001b[0;34m,\u001b[0m \u001b[0;36m2\u001b[0m\u001b[0;34m,\u001b[0m \u001b[0;36m3\u001b[0m\u001b[0;34m]\u001b[0m\u001b[0;34m)\u001b[0m\u001b[0;34m\u001b[0m\u001b[0m\n\u001b[0;32m----> 2\u001b[0;31m \u001b[0mb\u001b[0m\u001b[0;34m[\u001b[0m\u001b[0;36m0\u001b[0m\u001b[0;34m]\u001b[0m \u001b[0;34m=\u001b[0m \u001b[0;36m0\u001b[0m\u001b[0;34m\u001b[0m\u001b[0m\n\u001b[0m",
      "\u001b[0;31mTypeError\u001b[0m: 'tuple' object does not support item assignment"
     ]
    }
   ],
   "source": [
    "b = tuple([1, 2, 3])\n",
    "b[0] = 0"
   ]
  },
  {
   "cell_type": "markdown",
   "metadata": {},
   "source": [
    "That looks like the best solution. Since setting an item in place is not allow, we should throw an error to make sure the client using `Tuple` knows that what he is trying to do will have no effect. This solution is better than just silently ignoring this affectation because it may otherwise lead to bugs in the client code. Lets add that to our `Tuple` by redefining `Tuple`'s [`__setitem__`][__setitem__] method:\n",
    "\n",
    "[__setitem__]: https://docs.python.org/3/reference/datamodel.html#object.__setitem__"
   ]
  },
  {
   "cell_type": "code",
   "execution_count": 49,
   "metadata": {},
   "outputs": [
    {
     "ename": "TypeError",
     "evalue": "'BetterTuple' object does not support item assignment.",
     "output_type": "error",
     "traceback": [
      "\u001b[0;31m---------------------------------------------------------------------------\u001b[0m",
      "\u001b[0;31mTypeError\u001b[0m                                 Traceback (most recent call last)",
      "\u001b[0;32m<ipython-input-49-07194df93462>\u001b[0m in \u001b[0;36m<module>\u001b[0;34m\u001b[0m\n\u001b[1;32m      4\u001b[0m \u001b[0;34m\u001b[0m\u001b[0m\n\u001b[1;32m      5\u001b[0m \u001b[0ma\u001b[0m \u001b[0;34m=\u001b[0m \u001b[0mBetterTuple\u001b[0m\u001b[0;34m(\u001b[0m\u001b[0;34m[\u001b[0m\u001b[0;36m1\u001b[0m\u001b[0;34m,\u001b[0m \u001b[0;36m2\u001b[0m\u001b[0;34m,\u001b[0m \u001b[0;36m3\u001b[0m\u001b[0;34m]\u001b[0m\u001b[0;34m)\u001b[0m\u001b[0;34m\u001b[0m\u001b[0m\n\u001b[0;32m----> 6\u001b[0;31m \u001b[0ma\u001b[0m\u001b[0;34m[\u001b[0m\u001b[0;36m0\u001b[0m\u001b[0;34m]\u001b[0m \u001b[0;34m=\u001b[0m \u001b[0;36m0\u001b[0m\u001b[0;34m\u001b[0m\u001b[0m\n\u001b[0m",
      "\u001b[0;32m<ipython-input-49-07194df93462>\u001b[0m in \u001b[0;36m__setitem__\u001b[0;34m(self, key, value)\u001b[0m\n\u001b[1;32m      1\u001b[0m \u001b[0;32mclass\u001b[0m \u001b[0mBetterTuple\u001b[0m\u001b[0;34m(\u001b[0m\u001b[0mTuple\u001b[0m\u001b[0;34m)\u001b[0m\u001b[0;34m:\u001b[0m\u001b[0;34m\u001b[0m\u001b[0m\n\u001b[1;32m      2\u001b[0m     \u001b[0;32mdef\u001b[0m \u001b[0m__setitem__\u001b[0m\u001b[0;34m(\u001b[0m\u001b[0mself\u001b[0m\u001b[0;34m,\u001b[0m \u001b[0mkey\u001b[0m\u001b[0;34m,\u001b[0m \u001b[0mvalue\u001b[0m\u001b[0;34m)\u001b[0m\u001b[0;34m:\u001b[0m\u001b[0;34m\u001b[0m\u001b[0m\n\u001b[0;32m----> 3\u001b[0;31m         \u001b[0;32mraise\u001b[0m \u001b[0mTypeError\u001b[0m\u001b[0;34m(\u001b[0m\u001b[0;34mf\"'{type(self).__name__}' object does not support item assignment.\"\u001b[0m\u001b[0;34m)\u001b[0m\u001b[0;34m\u001b[0m\u001b[0m\n\u001b[0m\u001b[1;32m      4\u001b[0m \u001b[0;34m\u001b[0m\u001b[0m\n\u001b[1;32m      5\u001b[0m \u001b[0ma\u001b[0m \u001b[0;34m=\u001b[0m \u001b[0mBetterTuple\u001b[0m\u001b[0;34m(\u001b[0m\u001b[0;34m[\u001b[0m\u001b[0;36m1\u001b[0m\u001b[0;34m,\u001b[0m \u001b[0;36m2\u001b[0m\u001b[0;34m,\u001b[0m \u001b[0;36m3\u001b[0m\u001b[0;34m]\u001b[0m\u001b[0;34m)\u001b[0m\u001b[0;34m\u001b[0m\u001b[0m\n",
      "\u001b[0;31mTypeError\u001b[0m: 'BetterTuple' object does not support item assignment."
     ]
    }
   ],
   "source": [
    "class BetterTuple(Tuple):\n",
    "    def __setitem__(self, key, value):\n",
    "        raise TypeError(f\"'{type(self).__name__}' object does not support item assignment.\")\n",
    "        \n",
    "a = BetterTuple([1, 2, 3])\n",
    "a[0] = 0"
   ]
  },
  {
   "cell_type": "markdown",
   "metadata": {},
   "source": [
    "One small detail of implementation, we may have simply raised the following error: \n",
    "\n",
    "```python\n",
    "raise TypeError(\"'BetterTuple' object does not support item assignment.\")\n",
    "```\n",
    "\n",
    "But what if we later decide to rename `BetterTuple` to simply `Tuple`, say when all clients stoped using the deprecated (broken) `Tuple`, then we would have to change this piece of code in addition to simply renaming the class. This may not be a problem if you class is small, but if you class is big and you do print hardcoded messages in different places, then you'll have to search an replace them, not the funniest thing to do. That's the reason why we instead get the type of `self` using `type(self)` (note that this is [almost equivalent to `self.__class__`][__class__ vs. type()]), in our case this returns a type object `t` which is a class: `<class '__main__.BetterTuple'>`, from which we can retrieve the class' name [`t.__name__`][__name__].\n",
    "\n",
    "Is our `BetterTuple` class still broken (mutable)? I'll leave it as an exercice, have a look back at what `dir` says about our new class. Try to find methods that can be used to mutate instances of `BetterTuple`. We redefined dunder methods but we didn't redefined non-dunder methods from `list`, that's something you can look for. \n",
    "\n",
    "[__class__ vs. type()]: https://stackoverflow.com/a/511059/1720199\n",
    "[__name__]: https://docs.python.org/3/reference/import.html#__name__"
   ]
  },
  {
   "cell_type": "markdown",
   "metadata": {},
   "source": [
    "### Remarks on  concatenation complexity\n",
    "\n",
    "The concatenation implementation of `Tuple` (and therefore of `BetterTuple`) has a complexity of $O(n+m)$. There are several ways of achieving the same thing with a better complexity, for example using [Ropes][wikipedia ropes] in which insertion\\concatenation are in $O(\\log n)$.\n",
    "\n",
    "Lets see how performant this is compared to the real `tuple`. We have two tuples that (in theory) should have the same interfaces (they both share the exact same set of methods). We can use this to make our code a bit simpler than what we did when we compared lists with tuples. In Python both functions are classes are [first-class citizen][wikipedia first-class].\n",
    "\n",
    "\n",
    "[wikipedia ropes]: https://www.wikiwand.com/en/Rope_(data_structure)\n",
    "[wikipedia first-class]: https://www.wikiwand.com/en/First-class_citizen"
   ]
  },
  {
   "cell_type": "markdown",
   "metadata": {},
   "source": [
    "# Metaclasses — first class citizens\n",
    "\n",
    "Being first-class citizen means that classes can be used as object, but how does it work under the hood? \n",
    "\n",
    "In python classes are themselves instances of another class. That look to make no sense, because it doesn't really, you can't make sense of that if you stay inside python. If all classes are instances of another class, then how was the first class instanciated? And what is its type? It's a bit like Chicken-and-egg. But there is a solution to this particular dilema. In python, the base type of a metaclass is called `type`. This class (yes!) is built outside the logic of the python language which allow such a twisted outcome where `type` is of its own type (since its also a class). Basically you just need to have faith in the fact that `type` is well defined and that all classes are of type `type`. You can find an interesting Stackoverflow post about this: [\"How does Cpython implement its type Objects, i.e. type's type is always type?\n",
    "\"][type is of type type]. Just for fun:\n",
    "\n",
    "\n",
    "[type is of type type]: https://stackoverflow.com/questions/18692033/how-does-cpython-implement-its-type-objects-i-e-types-type-is-always-type"
   ]
  },
  {
   "cell_type": "code",
   "execution_count": 50,
   "metadata": {},
   "outputs": [
    {
     "name": "stdout",
     "output_type": "stream",
     "text": [
      "<class 'type'>\n",
      "<class 'type'>\n",
      "<class 'type'>\n"
     ]
    }
   ],
   "source": [
    "print(type(type))\n",
    "print(type(type(type(type))))\n",
    "print(type(type(type(type(type(type(type)))))))"
   ]
  },
  {
   "cell_type": "markdown",
   "metadata": {},
   "source": [
    "Now back to the good part! Now we know that everything in python is an object (an instance of some class), even classes which are instances of `type`. That means we can store classes in variables, pass them as function parameters, return them, etc.. In our particular example, we want to evaluate the performances of two classes that both implement the same methods. Therefore we can pass them as parameter to a test function, which then will instanciate the class (either `tuple` or `Tuple`) and will finally run the test, not knowing which class it has instanciated but:\n",
    "\n",
    "> If it walks like a duck and it quacks like a duck, then it must be a duck — [wikipedia][duck typing]\n",
    "\n",
    "Lets see how the code look like: \n",
    "\n",
    "\n",
    "[duck typing]: https://www.wikiwand.com/en/Duck_typing"
   ]
  },
  {
   "cell_type": "code",
   "execution_count": 51,
   "metadata": {},
   "outputs": [
    {
     "name": "stdout",
     "output_type": "stream",
     "text": [
      "Python tuple: \n",
      "1.16 ms ± 14.3 µs per loop (mean ± std. dev. of 5 runs, 1000 loops each)\n",
      "\n",
      "Our Tuple: \n",
      "4.82 ms ± 38.5 µs per loop (mean ± std. dev. of 5 runs, 100 loops each)\n",
      "\n",
      "Python tuple: \n",
      "51 µs ± 780 ns per loop (mean ± std. dev. of 5 runs, 10000 loops each)\n",
      "\n",
      "Our Tuple: \n",
      "60.5 µs ± 511 ns per loop (mean ± std. dev. of 5 runs, 10000 loops each)\n"
     ]
    }
   ],
   "source": [
    "import timeit\n",
    "\n",
    "# Takes a class as parameter\n",
    "def many_small_increments(ClassName):\n",
    "    # Instanciate the class (we don't need to know its type)\n",
    "    acc = ClassName()\n",
    "    for x in range(n):\n",
    "        # Try to make it \"quack like a duck\":\n",
    "        acc = acc + (x,)\n",
    "    # If it all worked out \"then it must be a duck\"\n",
    "    return acc\n",
    "\n",
    "# Exact same principle:\n",
    "def one_large_increment(ClassName):\n",
    "    prev_state = ClassName(range(n))\n",
    "    update_state_with = ClassName(range(n, 2*n))\n",
    "    return prev_state + update_state_with\n",
    "\n",
    "\n",
    "print(\"Python tuple: \")\n",
    "%timeit -r 5 many_small_increments(tuple)\n",
    "print(\"\\nOur Tuple: \")\n",
    "%timeit -r 5 many_small_increments(Tuple)\n",
    "\n",
    "\n",
    "print(\"\\nPython tuple: \")\n",
    "%timeit -r 5 one_large_increment(tuple)\n",
    "print(\"\\nOur Tuple: \")\n",
    "%timeit -r 5 one_large_increment(Tuple)"
   ]
  },
  {
   "cell_type": "markdown",
   "metadata": {},
   "source": [
    "If you are interested in more complex immutable data structures you can also have a look at [zippers][1], this article explains what zippers are, why/when they are usefull and also how to build one in python.\n",
    "\n",
    "[2]: https://github.com/cglacet/exercism-python/blob/master/zipper/README.md#howwhy-to-implement-zippers"
   ]
  },
  {
   "cell_type": "markdown",
   "metadata": {},
   "source": [
    "<a id='problem_flatten_nested_lists'></a> <a id='problem_3'></a>\n",
    "[< back to index](#Topics-Index)  — [next topic (async-await) >](#problem_4)\n",
    "\n",
    "# Flattening nested list with indices\n",
    "#### EN cours …\n",
    "\n",
    "Suppose we have an input list that is nesteed and has an unbounded depth. We want to have a function `f` that will flatten that list and also return a list of indexes in the main list.\n",
    "\n",
    "```python\n",
    ">>> nested = ['', '', '', ['', [['a', 'b'], ['c']]], [[['a', 'b'], ['c']]], [[['d']]]]\n",
    ">>> item_indexes, flat_list = flat_indexes(nested)\n",
    ">>> print(item_indexes)\n",
    "[0, 1, 2, 3, 3, 3, 3, 4, 4, 4, 5]\n",
    ">>> print(flat_list)\n",
    "['', '', '', '', 'a', 'b', 'c', 'a', 'b', 'c', 'd']\n",
    "```\n",
    "\n",
    "Here is a first naïve implementation of `flat_indexes(nested)`:"
   ]
  },
  {
   "cell_type": "code",
   "execution_count": 57,
   "metadata": {},
   "outputs": [],
   "source": [
    "def flat_indexes(nested, current_index=None):\n",
    "    \"\"\"Return a flat version of `nested` together with a list of indexes at which \n",
    "    each item was found in the original list (independently of how deep it was found).\"\"\"\n",
    "    flattened_list = []\n",
    "    indexes = []\n",
    "    if not isinstance(nested, list):\n",
    "        flattened_list.append(nested)\n",
    "        indexes.append(current_index)\n",
    "    else:\n",
    "        for i, sub_list in enumerate(nested):\n",
    "            if current_index is None:\n",
    "                sub_indexes, sub_list = flat_indexes(sub_list, i)\n",
    "            else:\n",
    "                sub_indexes, sub_list = flat_indexes(sub_list, current_index)\n",
    "            flattened_list.extend(sub_list)\n",
    "            indexes.extend(sub_indexes)\n",
    "    return indexes, flattened_list"
   ]
  },
  {
   "cell_type": "code",
   "execution_count": 58,
   "metadata": {},
   "outputs": [
    {
     "name": "stdout",
     "output_type": "stream",
     "text": [
      "[0, 1, 2, 3, 3, 3, 3, 4, 4, 4, 5]\n",
      "['', '', '', '', 'a', 'b', 'c', 'a', 'b', 'c', 'd']\n"
     ]
    }
   ],
   "source": [
    "nested = ['', '', '', ['', [['a', 'b'], ['c']]], [[['a', 'b'], ['c']]], [[['d']]]]\n",
    "item_indexes, flat_list = flat_indexes(nested)\n",
    "print(item_indexes)\n",
    "print(flat_list)"
   ]
  },
  {
   "cell_type": "markdown",
   "metadata": {},
   "source": [
    "That looks good, we don't look to have any performance issue here as we only perform two insertions per item in the input list. On this other hand, there is a **hidden bug** in this code. The main problem here is the docstring, it says that it will flaten any nested list passed a parameter. Which we will see is not true. Let's build a test case that will demonstrate why:"
   ]
  },
  {
   "cell_type": "code",
   "execution_count": 59,
   "metadata": {},
   "outputs": [
    {
     "name": "stdout",
     "output_type": "stream",
     "text": [
      "For example:  [0, [1, [2, [3, [4]]]]]\n"
     ]
    }
   ],
   "source": [
    "def build_nested_list(max_depth):\n",
    "    sub_list = [max_depth]\n",
    "    for distance in range(max_depth):\n",
    "        sub_list = [max_depth-distance-1, sub_list]\n",
    "    return sub_list\n",
    "\n",
    "print(\"For example: \", build_nested_list(4))"
   ]
  },
  {
   "cell_type": "markdown",
   "metadata": {},
   "source": [
    "Lets now try to see how our implementation reacts to deeply nested lists:"
   ]
  },
  {
   "cell_type": "code",
   "execution_count": 60,
   "metadata": {},
   "outputs": [
    {
     "name": "stdout",
     "output_type": "stream",
     "text": [
      "Exception:  maximum recursion depth exceeded while calling a Python object\n"
     ]
    }
   ],
   "source": [
    "try:\n",
    "    item_indexes, flat_list = flat_indexes(build_nested_list(3000))\n",
    "except RecursionError as e:\n",
    "    print(\"Exception: \", e)"
   ]
  },
  {
   "cell_type": "markdown",
   "metadata": {},
   "source": [
    "\n",
    "\n",
    "**Important remark** unless you are certain your lists will not be nested too deeply, you shouldn't use any recursion-based solution. Otherwise as soon as you'll have a nested list with depth greater than 1000, your code will crash. I explain this [here][1]. Note that a simple call to `str(list)` will crash on a test case with `depth > 1000`. The typical exception you'll have when using recursion-based solutions is (this in short is due to how python call stack works): \n",
    "\n",
    "```python\n",
    "RecursionError: maximum recursion depth exceeded ... \n",
    "```\n",
    "\n",
    "## Implementation details\n",
    "\n",
    "I'll go step by step, first we will flatten a list, then we will output both the flattened list and the depth of all items, and finally we will output both the list and the corresponding item indexes in the \"main list\". \n",
    "\n",
    "\n",
    "### Flattening list\n",
    "\n",
    "That being said, this is actually quite interesting as the iterative solution is perfectly designed for that, you can take a simple (non-recursive) list flattening algorithm:\n",
    "\n",
    "```python\n",
    "def flatten(iterable):\n",
    "    return list(items_from(iterable))\n",
    "\n",
    "def items_from(iterable):\n",
    "    cursor_stack = [iter(iterable)]\n",
    "    while cursor_stack:\n",
    "        sub_iterable = cursor_stack[-1]\n",
    "        try:\n",
    "            item = next(sub_iterable)\n",
    "        except StopIteration:       # post-order\n",
    "            cursor_stack.pop()\n",
    "            continue\n",
    "        if isinstance(item, list):  # pre-order\n",
    "            cursor_stack.append(iter(item))\n",
    "        else:\n",
    "            yield item              # in-order\n",
    "```\n",
    "\n",
    "### Computing depth\n",
    "\n",
    "We can have access to the depth by looking at the stack size, `depth = len(cursor_stack) - 1`\n",
    "\n",
    "```python\n",
    "        else:\n",
    "            yield item, len(cursor_stack) - 1      # in-order\n",
    "```\n",
    "\n",
    "Once you've done that, your function will return a generator of pairs (item, depth), we will thus need to split this in two different sequences to have the desired output:\n",
    "\n",
    "```python\n",
    ">>> a = [1,  2,  3, [4 , [[5, 6], [7]]], [[[8, 9], [10]]], [[[11]]]]\n",
    ">>> pair_list = flatten(a)\n",
    ">>> print(pair_list)\n",
    "[(1, 0), (2, 0), (3, 0), (4, 1), (5, 3), (6, 3), (7, 3), (8, 3), (9, 3), (10, 3), (11, 3)]\n",
    ">>> flat_list, depths = zip(*pair_list)\n",
    ">>> print(flat_list)\n",
    "(1, 2, 3, 4, 5, 6, 7, 8, 9, 10, 11)\n",
    ">>> print(depths)\n",
    "(0, 0, 0, 1, 3, 3, 3, 3, 3, 3, 3)\n",
    "```\n",
    "\n",
    "We will now do something similar to have item indexes instead of the depth. \n",
    "\n",
    "### Solution — computing item indexes \n",
    "\n",
    "To instead compute item indexes (in the main list), you'll need to count the number of items you've seen so far, which can be done by adding 1 to an `item_index` every time we iterate over an item that is at depth 0 (when the stack size is equal to 1):  \n",
    "\n",
    "```python\n",
    "def flatten(iterable):\n",
    "    return list(items_from(iterable))\n",
    "\n",
    "def items_from(iterable):\n",
    "    cursor_stack = [iter(iterable)]\n",
    "    item_index = -1\n",
    "    while cursor_stack:\n",
    "        sub_iterable = cursor_stack[-1]\n",
    "        try:\n",
    "            item = next(sub_iterable)\n",
    "        except StopIteration:             # post-order\n",
    "            cursor_stack.pop()\n",
    "            continue\n",
    "        if len(cursor_stack) == 1:        # If current item is in \"main\" list\n",
    "            item_index += 1               \n",
    "        if isinstance(item, list):        # pre-order\n",
    "            cursor_stack.append(iter(item))\n",
    "        else:\n",
    "            yield item, item_index        # in-order\n",
    "```\n",
    "\n",
    "This would print the following:\n",
    "\n",
    "```python\n",
    ">>> a = [1,  2,  3, [4 , [[5, 6], [7]]], [[[8, 9], [10]]], [[[11]]]]\n",
    ">>> flat_list, item_indexes = map(list, zip(*flatten(a)))\n",
    ">>> print(flat_list)\n",
    "[1, 2, 3, 4, 5, 6, 7, 8, 9, 10, 11]\n",
    ">>> print(item_indexes)\n",
    "[0, 1, 2, 3, 3, 3, 3, 4, 4, 4, 5]\n",
    "```\n",
    "\n",
    "### Handling iterable inputs\n",
    "\n",
    "Being able to take a broader palette of nested iterables as input could be desirable (especially if you build this for others to use). For example, the current implementation doesn't work as expected if we have nested iterables as input, for example: \n",
    "\n",
    "```python\n",
    ">>> a = iter([1, '2',  3, iter([4, [[5, 6], [7]]])])\n",
    ">>> flat_list, item_indexes = map(list, zip(*flatten(a)))\n",
    ">>> print(flat_list)\n",
    "[1, '2', 3, <list_iterator object at 0x100f6a390>]\n",
    ">>> print(item_indexes)\n",
    "[0, 1, 2, 3]\n",
    "```\n",
    "\n",
    "If we want this to work we need to be a bit careful because strings are iterable but we want them to be considered as atomic items (not a as lists of characters). Instead of \n",
    "\n",
    "```python\n",
    "        if isinstance(item, list):        # pre-order\n",
    "            cursor_stack.append(iter(item))\n",
    "        else:\n",
    "            yield item, item_index        # in-order\n",
    "````\n",
    "\n",
    "We can replace this by: \n",
    "\n",
    "```python\n",
    "       if not isinstance(item, str):\n",
    "            try:\n",
    "                cursor_stack.append(iter(item))\n",
    "                continue\n",
    "            except TypeError:\n",
    "                pass\n",
    "        yield item, item_index\n",
    "```\n",
    "\n",
    "The idea here is that if `iter` works, that means that `item` is an iterable, if it fails `TypeError` then we can assume that we are working on an atomic item, we can therefore yield it.\n",
    "\n",
    "With this implementation, we have: \n",
    "\n",
    "```python\n",
    ">>> a = iter([1, 2,  3, iter([4, [[5, 6], [7]]])])\n",
    ">>> flat_list, item_indexes = map(list, zip(*flatten(a)))\n",
    ">>> print(flat_list)\n",
    "[1, '2', 3, 4, 5, 6, 7]\n",
    ">>> print(item_indexes)\n",
    "[0, 1, 2, 3, 3, 3, 3]\n",
    "```\n",
    "\n",
    "### Building test cases\n",
    "\n",
    "If you need to generate tests cases with large depths, you can use this piece of code: \n",
    "\n",
    "```python\n",
    "def build_deep_list(depth):\n",
    "    \"\"\"Returns a list of the form $l_{depth} = [depth-1, l_{depth-1}]$\n",
    "    with $depth > 1$ and $l_0 = [0]$.\n",
    "    \"\"\"\n",
    "    sub_list = [0]\n",
    "    for d in range(1, depth):\n",
    "        sub_list = [d, sub_list]\n",
    "    return sub_list\n",
    "```\n",
    "\n",
    "You can use this to make sure my implementation doesn't crash when the depth is large: \n",
    "\n",
    "```python\n",
    "a = build_deep_list(1200)\n",
    "flat_list, item_indexes = map(list, zip(*flatten(a)))\n",
    "```\n",
    "\n",
    "We can also check that we can't print such a list by using the `str` function: \n",
    "\n",
    "```python\n",
    ">>> a = build_deep_list(1200)\n",
    ">>> str(a)\n",
    "RecursionError: maximum recursion depth exceeded while getting the repr of an object\n",
    "```\n",
    "\n",
    "Function `repr` is called by `str(list)` on every element from the input `list`. \n",
    "\n",
    "### Concluding remarks\n",
    "\n",
    "In the end I agree that recursive implementations are way easier to read (as the call stack does half the hard work for us), but when implementing low level function like that I think it is a good investment to have a code that works in all cases (or at least all the cases you can think of). Especially when the solution is not that hard. That's also a way not to forget how to write non-recursive code working on tree-like structures (which may not happen a lot unless you are implementing data structures yourself, but that's a good exercise). \n",
    "\n",
    "Note that everything I say against recursion is only true because python doesn't optimize call stack usage when facing recursion: [_Tail Recursion Elimination in Python_](http://neopythonic.blogspot.com/2009/04/tail-recursion-elimination.html). Whereas many compiled languages do [Tail Call recursion Optimization (TCO)](https://stackoverflow.com/questions/310974/what-is-tail-call-optimization). Which means that even if you write the perfect [tail-recursive](https://stackoverflow.com/questions/33923/what-is-tail-recursion) function in python, it will crash on deeply nested lists. \n",
    "\n",
    "If you need more details on the list flattening algorithm you can refer to the post I linked. But that's basically a tree traversal algorithm to which we added a counter to keep track of the current depth. \n",
    "\n",
    "\n",
    "[1]: https://stackoverflow.com/a/51649649/1720199"
   ]
  },
  {
   "cell_type": "markdown",
   "metadata": {},
   "source": [
    "Let's now go back to a piece of code that we wrote before to address the topices of closures and decorators.\n",
    "\n",
    "## Closures\n",
    "#### En cours de construction ... \n",
    "\n",
    "Let's go back on the original library code we had for finding vowels in a user input:"
   ]
  },
  {
   "cell_type": "code",
   "execution_count": 56,
   "metadata": {},
   "outputs": [],
   "source": [
    "def print_using_wovel_list(user_input, vowels):\n",
    "    print(\"List:\", end=\" \\t \")\n",
    "    vowels += list(c.upper() for c in vowels)\n",
    "    for c in user_input:\n",
    "        if c in vowels:\n",
    "            print(c, end=\" \")\n",
    "    print()\n",
    "            \n",
    "def print_using_wovel_tuple(user_input, vowels):\n",
    "    print(\"Tuple:\", end=\" \\t \")\n",
    "    vowels += tuple(c.upper() for c in vowels)\n",
    "    for c in user_input:\n",
    "        if c in vowels:\n",
    "            print(c, end=\" \")\n",
    "    print()"
   ]
  },
  {
   "cell_type": "markdown",
   "metadata": {},
   "source": [
    "The only differences we have in these two functions are (i) the print statements, one prints \"Tuple\" the other prints \"List\", (ii) the constructor which in one case is `tuple()` and `list()` in the other. We can obviously improve this. Here is a first solution:"
   ]
  },
  {
   "cell_type": "code",
   "execution_count": null,
   "metadata": {},
   "outputs": [],
   "source": [
    "def print_vowels(sequence_type, title, user_input, vowels):\n",
    "    print(f\"{title}:\", end=\" \\t \")\n",
    "    vowels += sequence_type(c.upper() for c in vowels)\n",
    "    for c in user_input:\n",
    "        if c in vowels:\n",
    "            print(c, end=\" \")\n",
    "    print()"
   ]
  },
  {
   "cell_type": "markdown",
   "metadata": {},
   "source": [
    "\n",
    "The first problem of this solution is that the user's code will need to be updated after this change happened. The second problem is that the user will now have an ugglier call to make:"
   ]
  },
  {
   "cell_type": "code",
   "execution_count": null,
   "metadata": {},
   "outputs": [],
   "source": [
    "vowels = list(\"aeiou\")\n",
    "user_input = \"this is A test.\"\n",
    "\n",
    "# Before:\n",
    "print_using_wovel_list(user_input, vowels)\n",
    "\n",
    "# Now: \n",
    "print_vowels(list, 'List', user_input, vowels)"
   ]
  },
  {
   "cell_type": "markdown",
   "metadata": {},
   "source": [
    "This is not a good solution at all, what can we do? Maybe we can try to guess the type using the type of the `vowels` argument:"
   ]
  },
  {
   "cell_type": "code",
   "execution_count": null,
   "metadata": {},
   "outputs": [],
   "source": [
    "def print_vowels(user_input, vowels):\n",
    "    # Finding the type:\n",
    "    sequence_type = list\n",
    "    if isinstance(vowels, tuple):\n",
    "        sequence_type = tuple\n",
    "\n",
    "    print(f\"{sequence_type.__name__.capitalize()}:\", end=\" \\t \")\n",
    "    vowels += sequence_type(c.upper() for c in vowels)\n",
    "    for c in user_input:\n",
    "        if c in vowels:\n",
    "            print(c, end=\" \")\n",
    "    print()\n",
    "    \n",
    "# Backward compatibility: \n",
    "print_using_wovel_list = print_vowels\n",
    "print_using_wovel_tuple = print_vowels"
   ]
  },
  {
   "cell_type": "markdown",
   "metadata": {},
   "source": [
    "Our user can now use the same call as before:"
   ]
  },
  {
   "cell_type": "code",
   "execution_count": null,
   "metadata": {},
   "outputs": [],
   "source": [
    "print_using_wovel_list(user_input, vowels)"
   ]
  },
  {
   "cell_type": "markdown",
   "metadata": {},
   "source": [
    "This solution also has issues: (i) for every call to `print_using_wovel_list` (resp. `print_using_wovel_tuple`) we need to check the type of vowels, which makes the client code slower than it was before — not by a lot, but still slower, (ii) most importantly, the name of the function is not representative of what it does anymore, our user could call `print_using_wovel_list(user_input, vowels)` with a `set` of `vowels` and everything would run just fine. That's a big issue as this may lead to bug that would be nearly impossible to find, especially if the user is used to the older version of this function (which he always trusted). \n",
    "\n",
    "So, we want to be explicit but we also want modulability and we want to avoid code duplication. There is a very elegant solution to this kind of problems that uses the fact that function are first-class citizens. The solution is to write a function that will produce the two functions we present to our user. With this solution, we will just write less code, but in the end, our user will have access to the exact same code as in the first version and will still use two separate functions. This \"function builder\" will look like: \n",
    "\n",
    "```python\n",
    "# this code is not part of the public API:\n",
    "def _print_vowels(sequence_type):\n",
    "    ### Some code\n",
    "    return function_that_work_on_sequence_type\n",
    "\n",
    "# These two functions will be part of the public API: \n",
    "print_using_wovel_list = _print_vowels(list)\n",
    "print_using_wovel_tuple = _print_vowels(tuple)\n",
    "```\n",
    "\n",
    "The question now is: how do we build function `function_that_work_on_sequence_type` and how will it access the sequence type. In Python this is fairly simple as the inner function can access the variables/arguments of the outer function, in this case, both `sequence_type` and `title` will be accessible in the inner function:"
   ]
  },
  {
   "cell_type": "code",
   "execution_count": null,
   "metadata": {},
   "outputs": [],
   "source": [
    "def print_vowels(sequence_type):\n",
    "    title = sequence_type.__name__.capitalize()\n",
    "\n",
    "    def print_vowels_with_type(user_input, vowels):\n",
    "        print(f\"{title}:\", end=\" \\t \")\n",
    "        vowels += sequence_type(c.upper() for c in vowels)\n",
    "        for c in user_input:\n",
    "            if c in vowels:\n",
    "                print(c, end=\" \")\n",
    "        print()\n",
    "    \n",
    "    return print_vowels_with_type\n",
    "\n",
    "\n",
    "print_using_wovel_list = print_vowels(list)\n",
    "print_using_wovel_tuple = print_vowels(tuple)"
   ]
  },
  {
   "cell_type": "markdown",
   "metadata": {},
   "source": [
    "The user code will once again remain unchanged:"
   ]
  },
  {
   "cell_type": "code",
   "execution_count": null,
   "metadata": {},
   "outputs": [],
   "source": [
    "print_using_wovel_list(user_input, vowels)"
   ]
  },
  {
   "cell_type": "markdown",
   "metadata": {},
   "source": [
    "The difference is that the user will now call a function that look a lot like the one he used to call before:"
   ]
  },
  {
   "cell_type": "code",
   "execution_count": null,
   "metadata": {},
   "outputs": [],
   "source": [
    "import inspect\n",
    "\n",
    "print(inspect.getsource(print_using_wovel_list))"
   ]
  },
  {
   "cell_type": "markdown",
   "metadata": {},
   "source": [
    "The only difference is that this function makes no sense by itself as it contains [_free variables_][freevars] (variables that are not attached to a value). In order to be clearly defined, it needs an environement (or context) which will attach values to the free variables.\n",
    "\n",
    "If we were to execute and call the function on its own, it would raise an error `NameError: name 'title' is not defined`. But we just executed this function and it worked, why is that? How can python execute that function if the function code is not sufficient? The answer is as simple as you could imagine, it builds what is usually refered as a _closure_! Don't be affraid yet, a closure simply is a structure that stores both a **function** and an **environement**, and that's it. In our case, the environement will map (_bind_) values to both names `title` and `sequence_type`.\n",
    "\n",
    "In python we can have a look at what's inside a given closure using the `inspect` module again. For example we can print the non-locals _closure variables_ (ie. _free variables_):\n",
    "\n",
    "[freevars]: https://www.wikiwand.com/en/Free_variables_and_bound_variables"
   ]
  },
  {
   "cell_type": "code",
   "execution_count": null,
   "metadata": {},
   "outputs": [],
   "source": [
    "inspect.getclosurevars(print_using_wovel_list).nonlocals"
   ]
  },
  {
   "cell_type": "markdown",
   "metadata": {},
   "source": [
    "Using both this dictionary and the previous function `print_vowels_with_type` the python interpreter can now replace every occurence of `sequence_type` by `list` and every occurence of `title` by `List` which would result in having the exact code of our first version of function `print_using_wovel_list`. \n",
    "\n",
    "\n",
    "So remember, when you see this kind of code: \n",
    "\n",
    "```python\n",
    "def print_vowels(sequence_type):\n",
    "    def some_function():\n",
    "        pass\n",
    "    return some_function\n",
    "```\n",
    "\n",
    "It means that `print_vowels` doesn't return a function, but a function together with an environement, in other words, it returns a **closure**. If we go a bit further in the exploration by disassembling such a function we can see how the interpreter builds closures.\n",
    "\n",
    "### Disasembling Python code\n",
    "\n",
    "Python offers a neat module that allow to disasemble code into its corresponding bytecode, this module is called `dis`. We will huse the `dis.dis()` method to print the (formated) bytecode of the following closure:"
   ]
  },
  {
   "cell_type": "code",
   "execution_count": null,
   "metadata": {},
   "outputs": [],
   "source": [
    "def closure_builder(environement):\n",
    "    def some_function(x):\n",
    "        return environement\n",
    "    return some_function"
   ]
  },
  {
   "cell_type": "code",
   "execution_count": null,
   "metadata": {},
   "outputs": [],
   "source": [
    "import dis\n",
    "\n",
    "display(Markdown(\"Bydecode of function `closure_builder`: \\n\\n---\"))\n",
    "dis.dis(closure_builder, depth=0)\n",
    "display(Markdown(\"---\"))\n",
    "display(Markdown(\"Bytecode of the inner function `some_function`:  \\n\\n---\"))\n",
    "dis.dis(closure_builder(\"some string\"))\n",
    "display(Markdown(\"---\"))"
   ]
  },
  {
   "cell_type": "markdown",
   "metadata": {},
   "source": [
    "That seems like lot to understand, but we will only go over the important things in details. First how to read this: \n",
    "\n",
    "```\n",
    "4           0 LOAD_CLOSURE             0 (environement)\n",
    "            … \n",
    "            8 MAKE_FUNCTION            8\n",
    "```\n",
    "\n",
    "The top-left `4` is the line number at which the function body starts, the first line of its body is a function declaration `def some_function(x)` (which will be used in a closure). The corresponding byte code of this function declaration is 6 instructions long, the first being `0 LOAD_CLOSURE 0 (environement)`. The `0` represents the position of the instruction in the byte code of `closure_builder`. Note that in Python3 all instructions use exactly 2 bytes, therefore the 5th instruction of a function will always be at positions `8`-`10`. Here the 5th instruction is `MAKE_FUNCTION  8`, it is composed of the op-code `MAKE_FUNCTION` and a flag `8` that specifies which kind of function this instruction is _making_.\n",
    "\n",
    "Lets now look at the details of three notable instructions that allow to (i) load the environement in some memory cells, (ii) building a closure that will refer these cells, (iii) retrieving values from the memory cells inside the closure's function:\n",
    "\n",
    "(i) **`LOAD_CLOSURE(i)`** \n",
    "[<img src=\"images/py.png\" style=\"display: inline; margin: 0 4px;\" />][LOAD_CLOSURE]\n",
    "> Pushes a reference to the cell contained in slot `i` of the cell and free variable storage …\n",
    "\n",
    "(ii) **`MAKE_FUNCTION(argc)`** \n",
    "[<img src=\"images/py.png\" style=\"display: inline; margin: 0 4px;\" />][MAKE_FUNCTION]\n",
    "> Pushes a new function object on the stack […] if the argument carries a specified flag value:\n",
    "> * `0x08` a tuple containing cells for free variables, making a closure\n",
    "\n",
    "(iii) **`LOAD_DEREF(i)`**\n",
    "[<img src=\"images/py.png\" style=\"display: inline; margin: 0 4px;\" />][LOAD_DEREF]\n",
    "> Loads the cell contained in slot `i` of the cell and free variable storage. Pushes a reference to the object the cell contains on the stack.\n",
    "\n",
    "[LOAD_CLOSURE]: https://docs.python.org/3.7/library/dis.html#opcode-LOAD_CLOSURE\n",
    "[MAKE_FUNCTION]: https://docs.python.org/3.7/library/dis.html#opcode-MAKE_FUNCTION\n",
    "[LOAD_DEREF]: https://docs.python.org/3.7/library/dis.html#opcode-LOAD_DEREF"
   ]
  },
  {
   "cell_type": "markdown",
   "metadata": {},
   "source": [
    "## Async-Await \n",
    "\n",
    "For this example, we will use a fake http-request protocol defined as such:"
   ]
  },
  {
   "cell_type": "code",
   "execution_count": 41,
   "metadata": {},
   "outputs": [],
   "source": [
    "import time\n",
    "\n",
    "def request(url, latency):\n",
    "    time.sleep(latency/10**3)\n",
    "    return url"
   ]
  },
  {
   "cell_type": "markdown",
   "metadata": {},
   "source": [
    "Here are some requests that we will work with during this whole section, each tuple is request address with an optional latency."
   ]
  },
  {
   "cell_type": "code",
   "execution_count": 42,
   "metadata": {},
   "outputs": [],
   "source": [
    "test_tasks = [\n",
    "    (\"www.google.fr\", 50), \n",
    "    (\"www.facebook.com\", 200),\n",
    "    (\"docs.python.org/3.7/library/re.html\", 100),\n",
    "    (\"kune.tech\", 50),\n",
    "    (\"github.com/cglacet/Blog\", 300),\n",
    "    (\"github.com/norvig/pytudes/blob/master/ipynb/TSP.ipynb\", 100)\n",
    "]\n",
    "\n",
    "def time_since(start_time):\n",
    "    duration = (time.time() - start_time)*10**3\n",
    "    return f\"{duration:.0f}ms\""
   ]
  },
  {
   "cell_type": "markdown",
   "metadata": {},
   "source": [
    "Let's now run all theses tasks sequentially:"
   ]
  },
  {
   "cell_type": "code",
   "execution_count": 43,
   "metadata": {},
   "outputs": [
    {
     "name": "stdout",
     "output_type": "stream",
     "text": [
      "0ms \t —> \t www.google.fr\n",
      "54ms \t <— \t www.google.fr\n",
      "54ms \t —> \t www.facebook.com\n",
      "256ms \t <— \t www.facebook.com\n",
      "256ms \t —> \t docs.python.org/3.7/library/re.html\n",
      "361ms \t <— \t docs.python.org/3.7/library/re.html\n",
      "362ms \t —> \t kune.tech\n",
      "413ms \t <— \t kune.tech\n",
      "413ms \t —> \t github.com/cglacet/Blog\n",
      "713ms \t <— \t github.com/cglacet/Blog\n",
      "713ms \t —> \t github.com/norvig/pytudes/blob/master/ipynb/TSP.ipynb\n",
      "816ms \t <— \t github.com/norvig/pytudes/blob/master/ipynb/TSP.ipynb\n",
      "Total duration 816ms.\n"
     ]
    }
   ],
   "source": [
    "def request_one(task, t0):\n",
    "    print(f\"{time_since(t0)} \\t —> \\t {task[0]}\")\n",
    "    results = request(*task)\n",
    "    print(f\"{time_since(t0)} \\t <— \\t {results}\")\n",
    "\n",
    "def request_all(tasks):\n",
    "    t0 = time.time()\n",
    "    for task in tasks:\n",
    "        request_one(task, t0)\n",
    "    print(f\"Total duration {time_since(t0)}.\")\n",
    "\n",
    "request_all(test_tasks)"
   ]
  },
  {
   "cell_type": "markdown",
   "metadata": {},
   "source": [
    "The total time for requesting all our test addresses is mainly occupied by waiting time, we send a request, then we wait for the response, then we send the next request. If we add all the latencies together we have almost the same value as the total duration we observe as the end user.\n",
    "\n",
    "In other words, ...\n",
    "\n",
    "\n",
    "**Observation** We could use all the time we spend waiting to do other things. That's the philosophy behind asynchronous computing. In python the module responsible for this kind of computation is [`asyncio`][asyncio]. The base idea is to have an execution feed in which _coroutines_ (pieces of asynchrnous code) will use the processing power when they need to and release it as soon as they are waiting for something, usually Input/Output.\n",
    "\n",
    "* A coroutine can be declared using the `async` keyword.\n",
    "* Waiting is triggered manually by calling the `await` keyword, specifying to the scheduler that the current coroutine is waiting for some result that doesn't depend on it.\n",
    "\n",
    "The python `asyncio` module provides tools to execute coroutines/tasks concurently such as `asyncio.gather` ...\n",
    "\n",
    "Here is how we can use that module in our request/response toy example:\n",
    "\n",
    "[asyncio]: https://docs.python.org/3.7/library/asyncio.html"
   ]
  },
  {
   "cell_type": "code",
   "execution_count": 44,
   "metadata": {},
   "outputs": [
    {
     "name": "stdout",
     "output_type": "stream",
     "text": [
      "0ms \t —> \t www.google.fr\n",
      "55ms \t <— \t www.google.fr\n",
      "55ms \t —> \t www.facebook.com\n",
      "257ms \t <— \t www.facebook.com\n",
      "257ms \t —> \t docs.python.org/3.7/library/re.html\n",
      "359ms \t <— \t docs.python.org/3.7/library/re.html\n",
      "359ms \t —> \t kune.tech\n",
      "413ms \t <— \t kune.tech\n",
      "413ms \t —> \t github.com/cglacet/Blog\n",
      "715ms \t <— \t github.com/cglacet/Blog\n",
      "715ms \t —> \t github.com/norvig/pytudes/blob/master/ipynb/TSP.ipynb\n",
      "816ms \t <— \t github.com/norvig/pytudes/blob/master/ipynb/TSP.ipynb\n",
      "Total duration 817ms.\n"
     ]
    }
   ],
   "source": [
    "import asyncio\n",
    "\n",
    "async def request_one(task, t0):\n",
    "    print(f\"{time_since(t0)} \\t —> \\t {task[0]}\")\n",
    "    results = request(*task)\n",
    "    print(f\"{time_since(t0)} \\t <— \\t {results}\")\n",
    "\n",
    "async def request_all(tasks):\n",
    "    t0 = time.time()\n",
    "    await asyncio.gather(*[request_one(task, t0) for task in tasks])\n",
    "    print(f\"Total duration {time_since(t0)}.\")\n",
    "\n",
    "await request_all(test_tasks)"
   ]
  },
  {
   "cell_type": "markdown",
   "metadata": {},
   "source": [
    "The total duration is larger than it was before, that seems odd, we added all the tasks at once, then executed all of them using the `asyncio` module. The problem here is that we still have some **blocking** pieces of code, some function that are not computing anything but do not release the access to the execution feed. In other word, there is some corountine that forget to signify that it's waiting for something using the `await` keyword. \n",
    "\n",
    "This function is the `request` itsel, we can see that the call to `request` is blocking the other coroutines by the absence of `await` in `results = request(*task)` (this is a syncrhonous call). But we can't just add an `await` here: "
   ]
  },
  {
   "cell_type": "code",
   "execution_count": 45,
   "metadata": {},
   "outputs": [
    {
     "name": "stdout",
     "output_type": "stream",
     "text": [
      "1ms \t —> \t www.google.fr\n",
      "56ms \t —> \t www.facebook.com\n",
      "257ms \t —> \t docs.python.org/3.7/library/re.html\n",
      "360ms \t —> \t kune.tech\n",
      "411ms \t —> \t github.com/cglacet/Blog\n",
      "712ms \t —> \t github.com/norvig/pytudes/blob/master/ipynb/TSP.ipynb\n",
      "\n",
      "ERROR: object str can't be used in 'await' expression\n"
     ]
    }
   ],
   "source": [
    "import asyncio\n",
    "\n",
    "async def request_one(task, t0):\n",
    "    print(f\"{time_since(t0)} \\t —> \\t {task[0]}\")\n",
    "    results = await request(*task)\n",
    "    print(f\"{time_since(t0)} \\t <— \\t {results}\")\n",
    "\n",
    "async def request_all(tasks):\n",
    "    t0 = time.time()\n",
    "    await asyncio.gather(*[request_one(task, t0) for task in tasks])\n",
    "    print(f\"Total duration {time_since(t0)}.\")\n",
    "\n",
    "try:\n",
    "    await request_all(test_tasks)\n",
    "except TypeError as e:\n",
    "    print(f\"\\nERROR: {e}\")"
   ]
  },
  {
   "cell_type": "markdown",
   "metadata": {},
   "source": [
    "This error is raised because the `await` keyword is used on the value returned by `request` that is a string (the `url` we passed as parameter). We can modify the request function to make it asynchronous:"
   ]
  },
  {
   "cell_type": "code",
   "execution_count": 46,
   "metadata": {},
   "outputs": [],
   "source": [
    "async def arequest(url, latency):\n",
    "    time.sleep(latency/10**3)\n",
    "    return url"
   ]
  },
  {
   "cell_type": "markdown",
   "metadata": {},
   "source": [
    "The object we create by adding the `async` keyword is the same as before:"
   ]
  },
  {
   "cell_type": "code",
   "execution_count": 47,
   "metadata": {},
   "outputs": [
    {
     "name": "stdout",
     "output_type": "stream",
     "text": [
      "<class 'function'>\n",
      "<class 'function'>\n"
     ]
    }
   ],
   "source": [
    "print(type(request))\n",
    "print(type(arequest))"
   ]
  },
  {
   "cell_type": "markdown",
   "metadata": {},
   "source": [
    "But this function doesn't return a string anymore, it now return a _coroutine object_:  "
   ]
  },
  {
   "cell_type": "code",
   "execution_count": 48,
   "metadata": {},
   "outputs": [
    {
     "name": "stdout",
     "output_type": "stream",
     "text": [
      "<class 'str'>\n",
      "<class 'coroutine'>\n"
     ]
    },
    {
     "name": "stderr",
     "output_type": "stream",
     "text": [
      "/Users/cglacet/Blog/python/lib/python3.7/site-packages/ipykernel/__main__.py:2: RuntimeWarning: coroutine 'arequest' was never awaited\n",
      "  from ipykernel import kernelapp as app\n"
     ]
    }
   ],
   "source": [
    "print(type(request(\"some url\", 0)))\n",
    "print(type(arequest(\"some url\", 0)))"
   ]
  },
  {
   "cell_type": "markdown",
   "metadata": {},
   "source": [
    "**So when does the call `arequest()` return string?** \n",
    "\n",
    "Never, this call will always return a coroutine object, as the documentation states this:\n",
    "\n",
    "> Calling a coroutine does not start its code running – the coroutine object returned by the call doesn’t do anything until you schedule its execution. \n",
    "\n",
    "On the other hand, you can schedule an executtion by calling `await <coroutine>`:"
   ]
  },
  {
   "cell_type": "code",
   "execution_count": 49,
   "metadata": {},
   "outputs": [
    {
     "name": "stdout",
     "output_type": "stream",
     "text": [
      "<class 'str'>\n"
     ]
    }
   ],
   "source": [
    "print(type(await arequest(\"some url\", 0)))"
   ]
  },
  {
   "cell_type": "markdown",
   "metadata": {},
   "source": [
    "To sumup, `arequest` is a function, `arequest()` returns a coroutine which, when awaited returns the result of the function, here a string. Note that `await` does two things, it suspend the current coroutine from running until it receives a result and also schedule another coroutine for being run. \n",
    "\n",
    "All coroutines are scheduled by a single entity named _event loop_. Don't forget that asynchronous **doesn't mean parallel execution** all the code executed in asynchronous mode is executed instruction by instruction, the difference with a sequential execution is that successive instructions executed are not necessarily consecutive in the code. That's probably not clear yet, I'll use an analogy to clarify what asynchronous scheduling means.\n",
    "\n",
    "\n",
    "### Asyncio and the construction workers analogy 🔧\n",
    "\n",
    "Imagine you have a some construction workers `a, b, d` that work together to accomplish a project `A, B, D`. Each worker `x` needs a wrench to complete his task `X`. To make this a bit more realistic, lets add some constraints:\n",
    "\n",
    "* `A` must be completed before `D`\n",
    "* worker `a` works during **day time** only\n",
    "* while `b` and `d` work during **night time** only\n",
    "* task `A` requires **2 shifts** to be completed\n",
    "* while tasks `B` and `D` only require **1 shift**\n",
    "\n",
    "\n",
    "Now imagine that we only have one wrench: 🔧. A sequential approach to finish the project is the following:\n",
    "\n",
    "```\n",
    "Day 1       a    b    d           Worker a is active 🔧\n",
    "            🔧\n",
    "         \n",
    "Night 1     a    b    d           Worker a is sleeping, but A is not over yet\n",
    "            🛌        \n",
    "                      \n",
    "Day 2       a    b    d           Worker a finishes A\n",
    "            🔧     \n",
    "                      \n",
    "Night 2     A    b    d           Worker b starts B\n",
    "                 🔧\n",
    "                   \n",
    "Day 3       A    B    d           Worker d could start D, but he is sleeping\n",
    "                      🛌\n",
    "                      \n",
    "Night 3     A    b    d           Worker d starts D\n",
    "                      🔧\n",
    " \n",
    "Done!       A    B    D           All tasks are completed\n",
    "```\n",
    "\n",
    "This execution of tasks is said to be sequential as once a worker starts a tasks he has to finish it before handing the wrench to another worker. If you have a close look at the constraints you'll notice that `b` could work during any of the 3 nights (not days, it's not in his contract). In particular, instead of working during night 2, `b` could work during night 1 while `a` is resting (with the wrench!). This would be against the principles of the sequential scheduler we employed, but we know for a fact that this is what asynchronous schedulers do! \n",
    "\n",
    "Lets say we now hire an asynchronous scheduler. In this case, our new scheduler would notice that `a` is resting during night 1 and he would look for someone to work during that idle/waiting time (the wrench is unused). He is not aware of worker `d` as he hasn't asked for work yet (`d` knows he can't work until `A` is done). On the other hand, the async scheduler notices that `b` is ready for work (asking for the wrench)! Therefore our new scheduler will hand the wrench to `b` as soon as `a` ends his shift:\n",
    "\n",
    "\n",
    "```\n",
    "Day 1       a    b    d\n",
    "            🔧\n",
    "         \n",
    "Night 1     a    b    d      (b works while a is idle)\n",
    "            🛌   🔧      \n",
    "                      \n",
    "Day 2       a    B    d      (A is done at the same time as before)\n",
    "            🔧     \n",
    "                      \n",
    "Night 2     A    b    d\n",
    "                      🔧\n",
    " \n",
    "Done!       A    B    D\n",
    "```\n",
    "\n",
    "Notice how we saved a whole day of work! That's exactly how the asynchronous scheduler work compared to the classical sequential approach. All the async-philosophy is to use idle time to actually work on something else. In the end, the ideal scheduling is to have zero effective idle time, which is for example the case in the construction workers example. In real use cases the idle time comes from Input/Ouput as for example reading the disk, sending/receiving an HTTP request, etc. This is why the python module is named asyncIO (`asyncio`). \n",
    "\n",
    "Aynchronous scheduling should not be confused with parallel or distributed computations for which you basically have several wrenches to work with. \n",
    "\n",
    "\n",
    "**Remark** There could be several event loops (scheduler) that run in parallel (in different threads), but that's not the typical use of the asyncio pattern. Having several loops is considered bad/dangerous in most cases. We will not discuss the case of several event loop further.\n",
    "\n",
    "Lets go back to the toy example of asynchronous requests and see how it works.\n",
    "\n",
    "### Lets run our asynchronous requests!"
   ]
  },
  {
   "cell_type": "code",
   "execution_count": 50,
   "metadata": {},
   "outputs": [
    {
     "name": "stdout",
     "output_type": "stream",
     "text": [
      "0ms \t —> \t www.google.fr\n",
      "54ms \t <— \t www.google.fr\n",
      "54ms \t —> \t www.facebook.com\n",
      "259ms \t <— \t www.facebook.com\n",
      "260ms \t —> \t docs.python.org/3.7/library/re.html\n",
      "363ms \t <— \t docs.python.org/3.7/library/re.html\n",
      "363ms \t —> \t kune.tech\n",
      "417ms \t <— \t kune.tech\n",
      "417ms \t —> \t github.com/cglacet/Blog\n",
      "720ms \t <— \t github.com/cglacet/Blog\n",
      "720ms \t —> \t github.com/norvig/pytudes/blob/master/ipynb/TSP.ipynb\n",
      "822ms \t <— \t github.com/norvig/pytudes/blob/master/ipynb/TSP.ipynb\n",
      "Total duration 822ms.\n"
     ]
    }
   ],
   "source": [
    "import asyncio\n",
    "\n",
    "async def request_one(task, t0):\n",
    "    print(f\"{time_since(t0)} \\t —> \\t {task[0]}\")\n",
    "    results = await arequest(*task)\n",
    "    print(f\"{time_since(t0)} \\t <— \\t {results}\")\n",
    "\n",
    "async def request_all(tasks):\n",
    "    t0 = time.time()\n",
    "    await asyncio.gather(*[request_one(task, t0) for task in tasks])\n",
    "    print(f\"Total duration {time_since(t0)}.\")\n",
    "\n",
    "try:\n",
    "    await request_all(test_tasks)\n",
    "except TypeError as e:\n",
    "    print(f\"\\nERROR: {e}\")"
   ]
  },
  {
   "cell_type": "markdown",
   "metadata": {},
   "source": [
    "Hmm 🤔… This isn't faster and it still looks to be sequential? What happened?? The answer is in the `arequest` code (hint: we already had a similar problem before):\n",
    "\n",
    "```python\n",
    "async def arequest(url, latency):\n",
    "    time.sleep(latency/10**3)\n",
    "    return url\n",
    "```\n",
    "\n",
    "Notice how we call a function that will have (by definition) idle time without releasing the wrench! Lets correct this and run the final version of our toy example:"
   ]
  },
  {
   "cell_type": "code",
   "execution_count": 52,
   "metadata": {},
   "outputs": [
    {
     "name": "stdout",
     "output_type": "stream",
     "text": [
      "0ms \t —> \t www.google.fr\n",
      "0ms \t —> \t www.facebook.com\n",
      "0ms \t —> \t docs.python.org/3.7/library/re.html\n",
      "0ms \t —> \t kune.tech\n",
      "0ms \t —> \t github.com/cglacet/Blog\n",
      "0ms \t —> \t github.com/norvig/pytudes/blob/master/ipynb/TSP.ipynb\n",
      "54ms \t <— \t www.google.fr\n",
      "54ms \t <— \t kune.tech\n",
      "104ms \t <— \t docs.python.org/3.7/library/re.html\n",
      "104ms \t <— \t github.com/norvig/pytudes/blob/master/ipynb/TSP.ipynb\n",
      "205ms \t <— \t www.facebook.com\n",
      "302ms \t <— \t github.com/cglacet/Blog\n",
      "Total duration 302ms.\n"
     ]
    }
   ],
   "source": [
    "import asyncio\n",
    "\n",
    "async def arequest(url, latency):\n",
    "    await asyncio.sleep(latency/10**3)\n",
    "    return url\n",
    "\n",
    "async def request_one(task, t0):\n",
    "    print(f\"{time_since(t0)} \\t —> \\t {task[0]}\")\n",
    "    results = await arequest(*task)\n",
    "    print(f\"{time_since(t0)} \\t <— \\t {results}\")\n",
    "    return results\n",
    "\n",
    "async def request_all(tasks):\n",
    "    t0 = time.time()\n",
    "    await asyncio.gather(*[request_one(task, t0) for task in tasks])\n",
    "    print(f\"Total duration {time_since(t0)}.\")\n",
    "\n",
    "\n",
    "await request_all(test_tasks)"
   ]
  },
  {
   "cell_type": "markdown",
   "metadata": {},
   "source": [
    "**🎉🎉 Finally!**\n",
    "\n",
    "When we want to write asynchronous code, we need to be extremely careful to have **no** blocking I/O calls, otherwise it will prevent any other coroutine from executing.\n",
    "\n",
    "Now if we need to retrieve the results from our request (in order) we can just do this: "
   ]
  },
  {
   "cell_type": "code",
   "execution_count": 59,
   "metadata": {},
   "outputs": [
    {
     "name": "stdout",
     "output_type": "stream",
     "text": [
      "0ms \t —> \t www.google.fr\n",
      "0ms \t —> \t www.facebook.com\n",
      "0ms \t —> \t docs.python.org/3.7/library/re.html\n",
      "0ms \t —> \t kune.tech\n",
      "0ms \t —> \t github.com/cglacet/Blog\n",
      "1ms \t —> \t github.com/norvig/pytudes/blob/master/ipynb/TSP.ipynb\n",
      "52ms \t <— \t www.google.fr\n",
      "52ms \t <— \t kune.tech\n",
      "102ms \t <— \t docs.python.org/3.7/library/re.html\n",
      "102ms \t <— \t github.com/norvig/pytudes/blob/master/ipynb/TSP.ipynb\n",
      "201ms \t <— \t www.facebook.com\n",
      "301ms \t <— \t github.com/cglacet/Blog\n",
      "Total duration 301ms.\n",
      "results = ['www.google.fr', 'www.facebook.com', 'docs.python.org/3.7/library/re.html', 'kune.tech', 'github.com/cglacet/Blog', 'github.com/norvig/pytudes/blob/master/ipynb/TSP.ipynb']\n"
     ]
    }
   ],
   "source": [
    "async def request_all(tasks):\n",
    "    t0 = time.time()\n",
    "    results = await asyncio.gather(*[request_one(task, t0) for task in tasks])\n",
    "    print(f\"Total duration {time_since(t0)}.\")\n",
    "    return results\n",
    "\n",
    "r = await request_all(test_tasks)\n",
    "print(f\"results = {r}\")"
   ]
  },
  {
   "cell_type": "markdown",
   "metadata": {},
   "source": [
    "Notice that `results` are in order eventhough we didn't received the HTTP responses in order. For example, we recieved a response from _kune.tech_ in 2nd and it appears at the 4th position in the results because we queued the task in 4th position when calling `asyncio.gather`."
   ]
  },
  {
   "cell_type": "code",
   "execution_count": 71,
   "metadata": {},
   "outputs": [
    {
     "name": "stdout",
     "output_type": "stream",
     "text": [
      "results = <Task pending coro=<async-def-wrapper.<locals>.request_one() running at <ipython-input-52-8b076279c4e3>:10>>\n",
      "results = <Task pending coro=<async-def-wrapper.<locals>.request_one() running at <ipython-input-52-8b076279c4e3>:10>>\n",
      "results = <Task pending coro=<async-def-wrapper.<locals>.request_one() running at <ipython-input-52-8b076279c4e3>:10>>\n",
      "results = <Task pending coro=<async-def-wrapper.<locals>.request_one() running at <ipython-input-52-8b076279c4e3>:10>>\n",
      "results = <Task pending coro=<async-def-wrapper.<locals>.request_one() running at <ipython-input-52-8b076279c4e3>:10>>\n",
      "results = <Task pending coro=<async-def-wrapper.<locals>.request_one() running at <ipython-input-52-8b076279c4e3>:10>>\n",
      "0ms \t —> \t www.google.fr\n",
      "1ms \t —> \t www.facebook.com\n",
      "1ms \t —> \t docs.python.org/3.7/library/re.html\n",
      "1ms \t —> \t kune.tech\n",
      "1ms \t —> \t github.com/cglacet/Blog\n",
      "1ms \t —> \t github.com/norvig/pytudes/blob/master/ipynb/TSP.ipynb\n",
      "56ms \t <— \t www.google.fr\n",
      "56ms \t <— \t kune.tech\n",
      "104ms \t <— \t docs.python.org/3.7/library/re.html\n",
      "105ms \t <— \t github.com/norvig/pytudes/blob/master/ipynb/TSP.ipynb\n",
      "202ms \t <— \t www.facebook.com\n"
     ]
    }
   ],
   "source": [
    "async def request_all(tasks):\n",
    "    t0 = time.time()\n",
    "    for task in tasks:\n",
    "        yield asyncio.create_task(request_one(task, t0))\n",
    "\n",
    "results = request_all(test_tasks)\n",
    "async for r in results:\n",
    "    print(f\"results = {r}\")"
   ]
  },
  {
   "cell_type": "markdown",
   "metadata": {},
   "source": [
    "## Classmethod \n",
    "\n",
    "Imagine we have a class `P` that we use to represent probabilities, this class can do 4 things, it can apply or/and operations, return a string that represents the probability and finally it can return a random probability:"
   ]
  },
  {
   "cell_type": "code",
   "execution_count": null,
   "metadata": {},
   "outputs": [],
   "source": [
    "import random\n",
    "\n",
    "random.seed(0)\n",
    "\n",
    "class P:\n",
    "    \n",
    "    def __init__(self, p):\n",
    "        if p > 1 or p < 0: \n",
    "            raise ValueError(\"Probability should be in [0, 1].\")\n",
    "        self.p = p\n",
    "    \n",
    "    def __or__(self, other):\n",
    "        return self.__class__(self.p + other.p)\n",
    "    \n",
    "    def __and__(self, other):\n",
    "        return self.__class__(self.p * other.p)\n",
    "    \n",
    "    def __str__(self):\n",
    "        return f\"p = {self.p}\"\n",
    "        \n",
    "    def rand():\n",
    "        return P(random.random())\n",
    "    \n",
    "p1 = P(0.2)\n",
    "p2 = P(0.3)\n",
    "p3 = P(0.5)\n",
    "print((p1 | p2) & p3)\n",
    "print(P.rand())"
   ]
  },
  {
   "cell_type": "markdown",
   "metadata": {},
   "source": [
    "Everything works as expected, but on the other hand the `rand()` function is not as cleanly defined as the other. For example, if we later decide to rename `P` we will have to rewrite `rand()` as it makes an explicit call to `P()`. We don't have that problem in `or()`/`and()` because we used the `__class__` attribute of `self` (an instance of `P`). \n",
    "\n",
    "But we can't add an instance argument to `rand()` because we want it to be a static method. But python offers a solution to this by giving us a decorator `classmethod` that will add type `P` to the decorated static method:\n",
    "\n",
    "```python\n",
    "@classmethod\n",
    "def rand(cls):\n",
    "    return cls(random.random())\n",
    "```\n",
    "\n",
    "This mecanism of feeding values to a decorated function is quite common, it even happen when you call a method from an object instance, for example:"
   ]
  },
  {
   "cell_type": "code",
   "execution_count": null,
   "metadata": {},
   "outputs": [],
   "source": [
    "class A: \n",
    "    def __init__(self, v):\n",
    "        self.v = v\n",
    "    def foo(self):\n",
    "        return f\"we have {self.v}\"\n",
    "\n",
    "a = A(2)\n",
    "print(a.foo())"
   ]
  },
  {
   "cell_type": "markdown",
   "metadata": {},
   "source": [
    "The `foo` method takes one argument, but it is called without any argument and the code is valid. \n",
    "\n",
    "That's something that is very surprising when you first come to python, in most languages, the `self` (usually `this`) is rarely explicitely passed as input parameter to the methods. For example, in `java` you would just have access to the object instance inside every method, the work is done implicitely and give you access to the instance via a reserved keyword: `this`. From the user's perspective this is just a magical mechanism that you will rely on.\n",
    "\n",
    "In python it is a bit different, there is a bit less magic happening. The signature of the method contains an argument that make reference to the caller instance. This argument is always the first and can take any name you desire, however there is a very strong convention that this argument should be named `self`. \n",
    "\n",
    "The magic part of python is that you don't have to explicitely pass this argument everytime you call a method, ie. fortunately we don't have to call `a.foo(a)` or `A.foo(a)`. In what is happening behind the scene is not even magic, that just hidden. Lets now try to understand what is happening when we call `a.foo()`. \n",
    "\n",
    "First we can have a look at what's inside `a.foo`:"
   ]
  },
  {
   "cell_type": "code",
   "execution_count": null,
   "metadata": {},
   "outputs": [],
   "source": [
    "print(a.foo)"
   ]
  },
  {
   "cell_type": "markdown",
   "metadata": {},
   "source": [
    "It's a `bound method` of class `<__main__.A ...>`. We can have a look in python data model documentation to have more information about this. Here is what it says about calling **instance methods**: \n",
    "\n",
    "> When an instance method object is called, the underlying function `__func__` is called, inserting the class instance `__self__` in front of the argument list. For instance, when `C` is a class which contains a definition for a function `f()`, and `x` is an instance of `C`, calling `x.f(1)` is equivalent to calling `C.f(x, 1)`.\n",
    "\n",
    "In other words, calling `a.foo()` executes in the background a code that look like: "
   ]
  },
  {
   "cell_type": "code",
   "execution_count": null,
   "metadata": {},
   "outputs": [],
   "source": [
    "def call_method(m):\n",
    "    return m.__func__(m.__self__)\n",
    "\n",
    "call_method(a.foo)"
   ]
  },
  {
   "cell_type": "markdown",
   "metadata": {},
   "source": [
    "That's a first step, but can we manage to build the real thing ourselves? In order to make sure we managed to modify the existing behaviour, we will change what methods do, our objective is to fill both the instance and the type to all methods."
   ]
  },
  {
   "cell_type": "code",
   "execution_count": null,
   "metadata": {},
   "outputs": [],
   "source": [
    "class A: \n",
    "    def __init__(self, v):\n",
    "        self.v = v\n",
    "        \n",
    "    # That's our new goal, we want this to work when we call `instance.foo()`:\n",
    "    def foo(self, cls):\n",
    "        return f\"we have {self.v} in class {cls.__name__}\"\n",
    "\n",
    "a = A(2)"
   ]
  },
  {
   "cell_type": "markdown",
   "metadata": {},
   "source": [
    "The first step is to use a decorator:"
   ]
  },
  {
   "cell_type": "code",
   "execution_count": null,
   "metadata": {},
   "outputs": [],
   "source": [
    "def transform_to_method(m):\n",
    "    \n",
    "    def decorator(*args, **kwargs):\n",
    "        return m.__func__(m.__self__, type(m.__self__), *args, **kwargs)\n",
    "        \n",
    "    return decorator\n",
    "\n",
    "a.foo = transform_to_method(a.foo)"
   ]
  },
  {
   "cell_type": "markdown",
   "metadata": {},
   "source": [
    "We can now call `a.foo()` and both the instance and the type will be added as argument to `foo()`:"
   ]
  },
  {
   "cell_type": "code",
   "execution_count": null,
   "metadata": {},
   "outputs": [],
   "source": [
    "print(a.foo())"
   ]
  },
  {
   "cell_type": "markdown",
   "metadata": {},
   "source": [
    "We have the first step, but that's not it, we are cheating, we are using the method `a.foo` to build our new method, we need to be able to do the same with the function namelly `A.foo` (or `a.foo.__func__`). \n",
    "\n",
    "Which means we can't use the same kind of technique as we won't have access to `m.__self__` within our decorator. If we don't have access to it, that means we need to write our code inside the class (to have access to the instance):"
   ]
  },
  {
   "cell_type": "code",
   "execution_count": null,
   "metadata": {},
   "outputs": [],
   "source": [
    "import types\n",
    "\n",
    "class A: \n",
    "    def __init__(self, v):\n",
    "        self.v = v\n",
    "        \n",
    "    # To make sure we don't cheat, we warn python that we don't want this \n",
    "    # function to be wrapped in a `method-wrapper`\n",
    "    @staticmethod\n",
    "    # That's our new goal, we want this to work when we call `instance.foo()`:\n",
    "    def foo(self, cls, *args):\n",
    "        return f\"we have {self.v} in class {cls.__name__}\"\n",
    "    \n",
    "    def __getattribute__(self, name):\n",
    "        attr = object.__getattribute__(self, name)\n",
    "        if isinstance(attr, types.FunctionType):\n",
    "            return method_wrapper(attr, self)\n",
    "        return attr\n",
    "    \n",
    "# That will mimic the way function are normally transformed to methods\n",
    "class method_wrapper:\n",
    "            \n",
    "    def __init__(self, function, instance):\n",
    "        self.function = function\n",
    "        self.self = instance\n",
    "        self.cls = type(instance)  # That's not usual, that's our goal here\n",
    "            \n",
    "    def __call__(self, *args, **kwargs):\n",
    "        return self.function(self.self, self.cls , *args, **kwargs)\n",
    "        # The normal __call__ would look like: \n",
    "        # return self.function(self.self, *args, **kwargs)\n",
    "        \n",
    "a = A(2)\n",
    "print(a.foo())"
   ]
  },
  {
   "cell_type": "markdown",
   "metadata": {},
   "source": [
    "There are a lot of interesting things going on here: 1) we can control attribute access via the `__getattribute__` method, 2) function in python are not the only type that can \"look like a function\", all objects that define `__call__`  can behave like functions. \n",
    "\n",
    "**1) Attributes accesses via `__getattribute__`**\n",
    "\n",
    "In python when you write `a.foo` or `a.v` you always make reference to an **instance attribute** (`foo` or `v`) of a given object instance. All objects are treated the same, whether they are classes/functions/methods is irrelevant here. \n",
    "\n",
    "Since classes are instances of `type` (remember, in python, `type` is a type) when we call `type(a).foo` or `A.foo`  we make reference to a **class attribute** `foo`. Internally there is no fundamental difference between these two attribute access. They both use the dunder method `__getattribute__` of their respective instances (`a` of type `A` and `A` of type `type`). Rewriting `__getattribute__` allows us to modify how class/instance attributes are accessed, we could for example deny access to some attributes depending on the internal state of the object.\n",
    "\n",
    "\n",
    "**2) Callable objects and the `__call__`  method** \n",
    "\n",
    "In python any object that has a `__call__` method can behave like a function, ie. it can be called (hence the name). In this case we use a class to serve as a method. Note that we could also use closure to do the exact same thing (the context is stored in the closure's environement instead of being an instance attribute):\n",
    "\n",
    "```python\n",
    "def method_wrapper(function, instance):\n",
    "    def method(*args, **kwargs):\n",
    "        return function(instance, type(instance), *args, **kwargs)\n",
    "    return method\n",
    "```\n",
    "\n",
    "I used a class here for two reasons, first to show that this was possible and secondly because this is closer to what is actually done by the real method-wrapper."
   ]
  },
  {
   "cell_type": "markdown",
   "metadata": {},
   "source": [
    "## Fun with sorts"
   ]
  },
  {
   "cell_type": "code",
   "execution_count": null,
   "metadata": {},
   "outputs": [],
   "source": [
    "def bubble_sort(items):\n",
    "    is_sorted = False\n",
    "    while not is_sorted:\n",
    "        is_sorted = True\n",
    "        for i in range(len(items)-1):\n",
    "            if items[i] > items[i+1]:\n",
    "                is_sorted = False\n",
    "                items[i], items[i+1] = items[i+1], items[i]\n",
    "    return items\n",
    "\n",
    "def my_funky_bin_sort(items, max_nb_bins=1000):\n",
    "    max_value = max(items)\n",
    "    nb_bins = min(max_nb_bins, len(items))\n",
    "    bin_size = max(1, max_value//nb_bins)\n",
    "    bins = [[] for _ in range(nb_bins)]\n",
    "    non_empty_bin_indexes = set()\n",
    "    for v in items:\n",
    "        bin_index = v//bin_size-1\n",
    "        bins[bin_index].append(v)\n",
    "        non_empty_bin_indexes.add(bin_index)\n",
    "    for i in non_empty_bin_indexes:\n",
    "        if len(bins[i]) > 1:\n",
    "            bins[i] = bubble_sort(bins[i])\n",
    "    return [v for b in bins for v in b]\n",
    "\n",
    "\n",
    "import asyncio \n",
    "\n",
    "async def sleep_sort(items, norm=10**4):\n",
    "    \n",
    "    results = []\n",
    "    \n",
    "    async def sleep_and_return(value, t0):\n",
    "        await asyncio.sleep(value/norm-(time.time()-t0))\n",
    "        results.append(value)\n",
    "    \n",
    "    t0 = time.time()\n",
    "    await asyncio.wait([sleep_and_return(v, t0) for v in items])\n",
    "    return bubble_sort(results)\n",
    "\n",
    "def is_sorted(items):\n",
    "    for a, b in zip(items, items[1:]):\n",
    "        if a > b:\n",
    "            return False\n",
    "    return True"
   ]
  },
  {
   "cell_type": "markdown",
   "metadata": {},
   "source": [
    "We will now measure the perfomrances of these two algorithms using the `time` module. What will discuss for now are not the performances but only the code necessary to compare them. "
   ]
  },
  {
   "cell_type": "code",
   "execution_count": null,
   "metadata": {},
   "outputs": [],
   "source": [
    "import random\n",
    "import time\n",
    "random.seed(0)\n",
    "\n",
    "test_list = [random.randint(0, 1000) for _ in range(1000)]\n",
    "t0 = time.time()\n",
    "r1 = my_funky_bin_sort(test_list)\n",
    "t1 = time.time()\n",
    "r2 = sorted(test_list)\n",
    "t2 = time.time()\n",
    "r3 = await sleep_sort(test_list)\n",
    "t3 = time.time()\n",
    "r4 = bubble_sort(test_list)\n",
    "t4 = time.time()\n",
    "\n",
    "print(is_sorted(r3))\n",
    "\n",
    "print(f\"Python sort time {(t2-t1)*10**3:.2f}ms\")\n",
    "print(f\"Funky bin sort {(t1-t0)*10**3:.2f}ms\")\n",
    "print(f\"Sleep sort {(t3-t2)*10**3:.2f}ms\")\n",
    "print(f\"Bubble sort {(t4-t3)*10**3:.2f}ms\")"
   ]
  },
  {
   "cell_type": "markdown",
   "metadata": {},
   "source": [
    "<a id='python_is_slow'></a> <a id='myth_1'></a>\n",
    "## Performances lists iterations\n",
    "#### They say python is slow\n",
    "\n",
    "The main argument against Python very often is that \"_Python is slow_\" and you will usually find concrete examples to support that argument. I love python, so of course I'll discuss this point and convince you that this is not a good argument against Python.\n",
    "\n",
    "### When/why is Python slow?\n",
    "\n",
    "**WHEN** One thing on which python is generally pointed out as slow is: **homogeneous arrays manipulation**. More precisely iterating through such arrays is slow compared to what you can do in lower level/compiled/staticly typed languagess like C. This is, without a shadow of a doubt, true, Python aims at flexibility and therefore it is slow. \n",
    "\n",
    "Python is not statically typed, which means everytime the interpreter needs to manipulate an object (with yet unknwon type) it has to execute some kind of dynamic type checking/resolution/dispatching.\n",
    "\n",
    "In other words, python lists are by nature heterogeneous (ie., they contain objects of different types) and even if a list is filled only with integers, the container is still not dedicated to recieving integers. The reason for that is pretty simple, there is no way for the interpreter to statically guess that all objects that will be (dynamically) inserted in a given list share the same type (python lists are [dynamic arrays][wikipedia dynamic arrays]). Therefore, lists simply are object containers, ie., they are [lists of pointers][python list implementation].\n",
    "\n",
    "\n",
    "### Slow doesn't mean bad\n",
    "\n",
    "The arguments of the form \"language X is slow in slow in case Y\" are in most cases bad arguments against a given language, mainly because this argument gets invalidated as soon as you don't care about task \"Y\". For example, task \"Y\" may only occupy 1% of your total execution time, reducing that to 0.001% wont make a difference. \n",
    "\n",
    "A broader argument that states that \"language X is slow in general\" is not necessarily valid either. What really matters is the bottlenecks you are facing in trying to solve a given problem. These barriers may be of many different sorts, but you wont necessarily know what they are in advance. Python doesn't make any assumption on what this barriers are and simply try to provide tools to write code in a pleasant, elegant and consice way. The whole philosphy is to write functioning code first without even trying to think about what bottlenecks we may encounter in the future. You can find more information on the Python philosophy in the [_Zen of Python ][zen].\n",
    "\n",
    "To understand better why I think that Python speed is not an issue, let's assume that some part of your code is slow, and that this code is what makes your whole system/application slow. I will of course use that as an excuse to present tools that you'll probably need to consider learning at some point: [_NumPy_][numpy] and [_Cython_][cython]. \n",
    "\n",
    "Let's build a scenario on which python will perform poorly, a scenario that is heavily CPU dependant.\n",
    "\n",
    "### How slow Python really is?\n",
    "\n",
    "Like stated before, Python is usually slow in cases where knowing the type of data we are working with in advance can speedup computations. Lets consider a use case where we need to write a function that adds `1` to a list of numbers. Lets also imagine that we don't care wether the input list is mutated or not (so we can explore various options). We will compare different approaches based on execution time only.\n",
    "\n",
    "For this section we will use the following tools to measure and print performances, you can check the content of the file [here][xp tools]:\n",
    "\n",
    "[wikipedia dynamic arrays]: https://www.wikiwand.com/en/Dynamic_array\n",
    "[zen]: https://www.python.org/dev/peps/pep-0020/#the-zen-of-python\n",
    "[python list implementation]: https://docs.python.org/3.7/faq/design.html#how-are-lists-implemented-in-cpython\n",
    "[xp tools]: ./perftests.py\n",
    "[numpy]: http://www.numpy.org/\n",
    "[cython]: https://cython.org/"
   ]
  },
  {
   "cell_type": "code",
   "execution_count": 1,
   "metadata": {},
   "outputs": [],
   "source": [
    "%matplotlib inline\n",
    "%config InlineBackend.figure_formats = {'png', 'retina'}\n",
    "import perftests as pft\n",
    "\n",
    "MAX_VALUE = 100\n",
    "STEP_MUL_RATIO = 2\n",
    "MAX_TEST_SIZE = 2**22\n",
    "INITIAL_TEST_SIZE = 2**6\n",
    "\n",
    "def DEFAULT_STEP_FUNCTION(x):\n",
    "    return x*STEP_MUL_RATIO"
   ]
  },
  {
   "cell_type": "markdown",
   "metadata": {},
   "source": [
    "We will compare the python performances to this [C implementation][c code] (note that this implementation is **not** meant to be optimized, it's just here to serve as a reference):\n",
    "\n",
    "```C\n",
    "void add_one(long* test_arr, unsigned long s){\n",
    "    unsigned long i;\n",
    "    for (i = 0; i < s; i++) {\n",
    "        test_arr[i] = test_arr[i] + 1;\n",
    "    }\n",
    "}\n",
    "```\n",
    "\n",
    "During the tests, I compiled this code with the following flags `-shared -O3 -ffast-math`.\n",
    "\n",
    "\n",
    "Lets now build our test environement:\n",
    "\n",
    "[c code]: ./c_code.ipynb"
   ]
  },
  {
   "cell_type": "code",
   "execution_count": 2,
   "metadata": {},
   "outputs": [],
   "source": [
    "# Here are the existing results generated by the C implementation: \n",
    "c_results = { \"C implementation\": [\n",
    "\t(64, 0.002), (128, 0.000), (256, 0.002), (512, 0.001), \n",
    "\t(1024, 0.001), (2048, 0.002), (4096, 0.002), (8192, 0.003), \n",
    "\t(16384, 0.007), (32768, 0.012), (65536, 0.039), (131072, 0.071), \n",
    "\t(262144, 0.098), (524288, 0.401), (1048576, 0.657), (2097152, 1.475), \n",
    "]}\n",
    "\n",
    "tests_options=dict(\n",
    "    external_results=c_results,\n",
    "    max_value=MAX_VALUE,\n",
    "    start=INITIAL_TEST_SIZE,\n",
    "    steps=DEFAULT_STEP_FUNCTION\n",
    ")\n",
    "\n",
    "run_tests = pft.init_multi_test(MAX_TEST_SIZE, **tests_options)"
   ]
  },
  {
   "cell_type": "markdown",
   "metadata": {},
   "source": [
    "The first implementations are pure python functions, they either use `map`, list comprehension or in-place modification of the input:"
   ]
  },
  {
   "cell_type": "code",
   "execution_count": 3,
   "metadata": {},
   "outputs": [],
   "source": [
    "def comprehension(arr):\n",
    "    return [e + 1 for e in arr]\n",
    "\n",
    "def in_place(arr):\n",
    "    for i in range(len(arr)): \n",
    "        arr[i] += 1\n",
    "        \n",
    "def mapping(arr):\n",
    "    def plus_one(e):\n",
    "        return e + 1\n",
    "    return list(map(plus_one, arr))\n",
    "\n",
    "results = run_tests(comprehension, in_place, mapping)"
   ]
  },
  {
   "cell_type": "code",
   "execution_count": 4,
   "metadata": {},
   "outputs": [
    {
     "data": {
      "text/markdown": [
       "Results for the largest test, n=2097152\n",
       "\n",
       "| Function | Time (ms) | slower by a factor |\n",
       "|----------|-----------|--------------------|\n",
       "| C implementation | **1.48** ms | 1.0 |\n",
       "| comprehension | **181.13** ms | 122.8 |\n",
       "| in_place | **259.15** ms | 175.7 |\n",
       "| mapping | **349.50** ms | 237.0 |\n"
      ],
      "text/plain": [
       "<IPython.core.display.Markdown object>"
      ]
     },
     "metadata": {},
     "output_type": "display_data"
    }
   ],
   "source": [
    "display(Markdown(pft.markdown_multi_results(results)))"
   ]
  },
  {
   "cell_type": "markdown",
   "metadata": {},
   "source": [
    "As planed, the pure python code is slow, very slow. But as I said, Python is not made to be fast, the whole point of Python is to implement things fast, not to run fast.\n",
    "\n",
    "Now imagine our code make use of this `+1` function all around, and that's the reason why our system is so slow. We can now decide to improve the performances of our whole code by simply optimizing this function.\n",
    "\n",
    "We followed the Python philosophy, we developped a first solution that fufill the specification. We now found our bottleneck and we decided that this had to be addressed. We will now invest time to improve the performances on this parts of our code (only). Usually you'll optimize very small portions of your code, that's the reason why this philosophy makes sense (most of the time). On the other hand that's also the reason why you probably don't want to implement a 3D-engine in Python.\n",
    "\n",
    "Once again, the python philosophy drives us to the most simple optimization we could imagine, thus we will use existing tools to improve performances. When dealing with lists of numbers ( arrays), the usual first step is to go for [_NumPy_][numpy] as it provides [data structures][numpy basics] that allow to have huge performances gains for this particular kind of problems (both in speed and memory). Numpy stores lists in a fashion that mimics C-like storage which allow to iterate over arrays way faster than Python iterates over lists of heterogenous types, more information on [what is NumPy?][what is numpy].  \n",
    "\n",
    "In the following I'll use another tool from `perftests`, a decorator that allows to bind an initialisation function to a test function. Having two separate functions is usefull as we don't want to measure the time required for initialisations. Here is how we will use the `perftests.init_with(init_function)` decorator: \n",
    "\n",
    "```python\n",
    "def g(x):\n",
    "    return x + 1\n",
    "\n",
    "@pft.init_with(g)\n",
    "def f(x):\n",
    "    return print(x)\n",
    "```\n",
    "\n",
    "The `perftest` run mechanism will simply run the initialisation function `g` on `f` input before calling it. In other word it will call `f(g(x))` also ensuring that we only measure performances of `f(x')` with `x' = g(x)`. Here function `f` would be tested with input `x+1` instead of `x`. In the following I'll only use that to convert inputs from python lists to numpy 1D-arrays, namely [`ndarray`][numpy.ndarray]\n",
    "\n",
    "\n",
    "Here are several implementations of the `+1` function using numpy:\n",
    "\n",
    "[numpy]: http://www.numpy.org/\n",
    "[numpy basics]: https://docs.scipy.org/doc/numpy/user/quickstart.html#the-basics\n",
    "[numpy.ndarray]: https://docs.scipy.org/doc/numpy/reference/generated/numpy.ndarray.html?highlight=ndarray#numpy.ndarray\n",
    "[what is numpy]: https://docs.scipy.org/doc/numpy/user/whatisnumpy.html"
   ]
  },
  {
   "cell_type": "code",
   "execution_count": 5,
   "metadata": {},
   "outputs": [],
   "source": [
    "import numpy as np\n",
    "\n",
    "@pft.init_with(np.array)\n",
    "def pure_numpy(arr):\n",
    "    return arr + 1\n",
    "\n",
    "def numpy_with_conversion(lst):\n",
    "    return pure_numpy(np.array(lst))\n",
    "\n",
    "@pft.init_with(np.array)\n",
    "def numpy_vectorize(arr):\n",
    "    return np.vectorize(lambda x: x + 1)(arr)\n",
    "\n",
    "@pft.init_with(np.array)\n",
    "def numpy_in_place(arr):\n",
    "    for i in range(arr.shape[0]):\n",
    "        arr[i] += 1 \n",
    "\n",
    "@pft.init_with(np.array)\n",
    "def numpy_comprehension(arr):\n",
    "    return comprehension(arr)"
   ]
  },
  {
   "cell_type": "code",
   "execution_count": 6,
   "metadata": {},
   "outputs": [
    {
     "data": {
      "text/markdown": [
       "Results for the largest test, n=2097152\n",
       "\n",
       "| Function | Time (ms) | slower by a factor |\n",
       "|----------|-----------|--------------------|\n",
       "| C implementation | **1.48** ms | 1.0 |\n",
       "| pure_numpy | **10.48** ms | 7.1 |\n",
       "| numpy_with_conversion | **179.13** ms | 121.4 |\n",
       "| comprehension | **181.13** ms | 122.8 |\n",
       "| in_place | **259.15** ms | 175.7 |\n",
       "| mapping | **349.50** ms | 237.0 |\n",
       "| numpy_vectorize | **536.03** ms | 363.4 |\n",
       "| numpy_comprehension | **594.93** ms | 403.3 |\n",
       "| numpy_in_place | **790.61** ms | 536.0 |\n"
      ],
      "text/plain": [
       "<IPython.core.display.Markdown object>"
      ]
     },
     "metadata": {},
     "output_type": "display_data"
    }
   ],
   "source": [
    "test_cases = [pure_numpy, numpy_with_conversion, numpy_vectorize, \n",
    "              numpy_in_place, numpy_comprehension]\n",
    "results = run_tests(*test_cases)\n",
    "display(Markdown(pft.markdown_multi_results(results)))"
   ]
  },
  {
   "cell_type": "markdown",
   "metadata": {},
   "source": [
    "**Observations**\n",
    "\n",
    "1. Numpy is way faster than the best python implementation\n",
    "2. Numpy is slower when than any of our python implementation when used wrong\n",
    "3. Numpy is a bit slower than the C implementation\n",
    "\n",
    "That means that you need to be careful when using `numpy`. Because if you use a numpy array as it was a python list, then you will have a slow-down factor of about 10. On the other hand, if used correctly this could speed-up your your code (by a factor > 15 in the example). \n",
    "\n",
    "That's very important, when using numpy, you should **only** use numpy's tools to iterate/manipulate your arrays!\n",
    "\n",
    "For many cases the argument could stop here, numpy performances are almost comparable to the C version, it's rare that you'll need to gain a factor 10. But lets suppose we do care about this small multiplicative factor. From here there are several viable solutions, the most radical is to call the C code from python, that's always a possibility. In this case I already wrote the C code, so it would probably be the best idea, but in the general case we probably want to avoid re-writing our code in C to improve it, we want to do that only as a last resort.\n",
    "\n",
    "There is a python extension that allows to write Python-like code that will be compiled to C, this library is called [`Cython`][cython]. Once again, this extension follows the python philosophy by allowing you to compile existing pure python code. That's the first simple/quick solution. While still giving us the possibility to add types annotation to improve performances even more. Adding types help the compiler transform your python code to C code. The more we provide types to cython, the more our output code will contain C instead of python code, which means it will run faster.\n",
    "\n",
    "Cython comes with a tool that annotate compiled code to show you which parts produce the highest proportion of python code. You can follow [this tutorial][cython basics] to see how `cythonize` code using the `annotate=True` option.\n",
    "\n",
    "Lets now compare different implementations using different levels of optimisation (providing more and more types to Cython):\n",
    "\n",
    "[cython]: https://cython.org/\n",
    "[cython basics]: http://docs.cython.org/en/latest/src/tutorial/cython_tutorial.html#the-basics-of-cython"
   ]
  },
  {
   "cell_type": "code",
   "execution_count": 7,
   "metadata": {},
   "outputs": [],
   "source": [
    "%load_ext Cython"
   ]
  },
  {
   "cell_type": "code",
   "execution_count": 8,
   "metadata": {},
   "outputs": [],
   "source": [
    "%%cython\n",
    "\n",
    "cimport cython\n",
    "cimport numpy as np\n",
    "import numpy as np\n",
    "import perftests as pft\n",
    "#ctypedef np.long_t DTYPE_t\n",
    "\n",
    "# Here we don't even bother using homogeneous data type: \n",
    "def cython_list_comprehension(arr):\n",
    "    return [e + 1 for e in arr]\n",
    "\n",
    "@pft.init_with(np.array)\n",
    "def cython_with_numpy(arr):\n",
    "    return arr + 1\n",
    "\n",
    "def pure_cython(arr):\n",
    "    for i in range(len(arr)):\n",
    "        arr[i] += 1\n",
    "    \n",
    "@pft.init_with(np.array)\n",
    "def pure_cython_typed(long[:] arr):\n",
    "    cdef unsigned int i\n",
    "    cdef size_t size = arr.shape[0]\n",
    "    for i in range(size):\n",
    "        arr[i] += 1\n",
    "\n",
    "        \n",
    "# This last version runs in parallel\n",
    "from cython.parallel import prange\n",
    "        \n",
    "# http://docs.cython.org/en/latest/src/userguide/numpy_tutorial.html#tuning-indexing-further\n",
    "@cython.boundscheck(False) # turn off bounds-checking for entire function\n",
    "@cython.wraparound(False)  # turn off negative index wrapping for entire function\n",
    "@pft.init_with(np.array)\n",
    "def cython_optimized(long[:] arr):\n",
    "    cdef Py_ssize_t i\n",
    "    cdef Py_ssize_t size = arr.shape[0]\n",
    "    for i in prange(size, nogil=True):\n",
    "        arr[i] += 1"
   ]
  },
  {
   "cell_type": "code",
   "execution_count": 15,
   "metadata": {},
   "outputs": [
    {
     "data": {
      "text/markdown": [
       "Results for the largest test, n=2097152\n",
       "\n",
       "| Function | Time (ms) | slower by a factor |\n",
       "|----------|-----------|--------------------|\n",
       "| C implementation | **1.48** ms | 1.0 |\n",
       "| cython_optimized | **1.51** ms | 1.0 |\n",
       "| pure_cython_typed | **1.95** ms | 1.3 |\n",
       "| pure_numpy | **10.48** ms | 7.1 |\n",
       "| cython_with_numpy | **11.14** ms | 7.6 |\n",
       "| pure_cython | **78.79** ms | 53.4 |\n",
       "| cython_list_comprehension | **113.87** ms | 77.2 |\n",
       "| numpy_with_conversion | **179.13** ms | 121.4 |\n",
       "| comprehension | **181.13** ms | 122.8 |\n",
       "| in_place | **259.15** ms | 175.7 |\n",
       "| mapping | **349.50** ms | 237.0 |\n",
       "| numpy_vectorize | **536.03** ms | 363.4 |\n",
       "| numpy_comprehension | **594.93** ms | 403.3 |\n",
       "| numpy_in_place | **790.61** ms | 536.0 |\n"
      ],
      "text/plain": [
       "<IPython.core.display.Markdown object>"
      ]
     },
     "metadata": {},
     "output_type": "display_data"
    }
   ],
   "source": [
    "test_cases = [cython_list_comprehension, cython_with_numpy, pure_cython, pure_cython_typed, cython_optimized]\n",
    "\n",
    "results = run_tests(*test_cases)\n",
    "display(Markdown(pft.markdown_multi_results(results)))"
   ]
  },
  {
   "cell_type": "code",
   "execution_count": 26,
   "metadata": {},
   "outputs": [
    {
     "data": {
      "image/png": "[encoded data removed]",
      "text/plain": [
       "<Figure size 720x720 with 1 Axes>"
      ]
     },
     "metadata": {
      "image/png": {
       "height": 598,
       "width": 630
      },
      "needs_background": "dark"
     },
     "output_type": "display_data"
    }
   ],
   "source": [
    "plot_only = {\"C implementation\", \"comprehension\", \"cython_optimized\", \"pure_numpy\"}\n",
    "pft.plot_multi_results(results, plot_only=plot_only)"
   ]
  },
  {
   "cell_type": "markdown",
   "metadata": {},
   "source": [
    "**Observations**\n",
    "\n",
    "* Numpy was faster than C, Cython is even faster, giving the small differences we can't say much more than C/Cython/Numpy have execution times of the same order of magnitude. \n",
    "* The pure cython implementation is more or less equivalent to the numpy with in-place modification of the input array. In both cases we ignore the fact that the array's type and consider it a regular list."
   ]
  },
  {
   "cell_type": "code",
   "execution_count": 17,
   "metadata": {},
   "outputs": [],
   "source": [
    "%%cython \n",
    "\n",
    "def pure_cython_test(arr):\n",
    "    print(type(arr))\n",
    "\n",
    "def typed_cython_test(long[:] arr):\n",
    "    print(type(arr))"
   ]
  },
  {
   "cell_type": "code",
   "execution_count": 18,
   "metadata": {},
   "outputs": [
    {
     "name": "stdout",
     "output_type": "stream",
     "text": [
      "<class 'numpy.ndarray'>\n",
      "<class '_cython_magic_5406aa0df1460c17cb89a838b7cd460c._memoryviewslice'>\n"
     ]
    }
   ],
   "source": [
    "pure_cython_test(np.array([1, 2, 3]))\n",
    "typed_cython_test(np.array([1, 2, 3]))"
   ]
  },
  {
   "cell_type": "markdown",
   "metadata": {},
   "source": [
    "Read more about [memory views][memroyview].\n",
    "\n",
    "[memroyview]: http://docs.cython.org/en/latest/src/userguide/memoryviews.html#view-cython-arrays"
   ]
  },
  {
   "cell_type": "markdown",
   "metadata": {},
   "source": [
    "If you want to re-use the code I used here to compare perfomances, you can save you some efforts by simply calling the following, for the example I'll also add a [`numba`][numba] implementation so we can test how fast it is!\n",
    "\n",
    "[numba]: http://numba.pydata.org"
   ]
  },
  {
   "cell_type": "code",
   "execution_count": 20,
   "metadata": {},
   "outputs": [
    {
     "data": {
      "text/markdown": [
       "Results for the largest test, n=2097152\n",
       "\n",
       "| Function | Time (ms) | slower by a factor |\n",
       "|----------|-----------|--------------------|\n",
       "| C implementation | **1.48** ms | 1.0 |\n",
       "| numba_numpy_in_place | **1.73** ms | 1.2 |\n",
       "| cython_optimized | **1.92** ms | 1.3 |\n",
       "| numba_numpy_in_place_parallel | **2.40** ms | 1.6 |\n",
       "| pure_numpy | **5.34** ms | 3.6 |\n",
       "| numba_numpy | **13.20** ms | 8.9 |\n"
      ],
      "text/plain": [
       "<IPython.core.display.Markdown object>"
      ]
     },
     "metadata": {},
     "output_type": "display_data"
    },
    {
     "data": {
      "image/png": "[encoded data removed]",
      "text/plain": [
       "<Figure size 720x720 with 1 Axes>"
      ]
     },
     "metadata": {
      "image/png": {
       "height": 598,
       "width": 630
      },
      "needs_background": "dark"
     },
     "output_type": "display_data"
    }
   ],
   "source": [
    "import numba\n",
    "import perftests as pft\n",
    "\n",
    "arr = np.array([1, 2, 3])\n",
    "\n",
    "@pft.init_with(np.array)\n",
    "@numba.jit(nopython=True)\n",
    "def numba_numpy(arr):\n",
    "    return arr + 1\n",
    "\n",
    "# The first time we call a numba function, it's compiled to machine code, \n",
    "# If we want to have real execution time we need to call it once\n",
    "numba_numpy(arr)\n",
    "\n",
    "@pft.init_with(np.array)\n",
    "@numba.jit(nopython=True)\n",
    "def numba_numpy_in_place(arr):\n",
    "    for i in range(arr.shape[0]):\n",
    "        arr[i] += 1 \n",
    "\n",
    "# Same as before\n",
    "numba_numpy_in_place(arr)\n",
    "\n",
    "\n",
    "@pft.init_with(np.array)\n",
    "@numba.jit(nopython=True, parallel=True, fastmath=True)\n",
    "def numba_numpy_in_place_parallel(arr):\n",
    "    for i in numba.prange(arr.shape[0]):\n",
    "        arr[i] += 1 \n",
    "        \n",
    "# And again\n",
    "numba_numpy_in_place_parallel(arr)\n",
    "\n",
    "test_cases = [cython_optimized, pure_numpy, \n",
    "              numba_numpy, numba_numpy_in_place, numba_numpy_in_place_parallel]\n",
    "markdown = pft.test_and_plot(MAX_TEST_SIZE, *test_cases, **tests_options)\n",
    "display(Markdown(markdown))"
   ]
  },
  {
   "cell_type": "markdown",
   "metadata": {},
   "source": [
    "### Conclusion\n",
    "\n",
    "Numba seems like the best option so far, we need to try this on more complex examples to see if this holds."
   ]
  },
  {
   "cell_type": "code",
   "execution_count": 25,
   "metadata": {},
   "outputs": [
    {
     "name": "stdout",
     "output_type": "stream",
     "text": [
      "pure python: \n",
      "3.46 µs ± 100 ns per loop (mean ± std. dev. of 7 runs, 100000 loops each)\n",
      "python + numba: \n",
      "586 ns ± 15.2 ns per loop (mean ± std. dev. of 7 runs, 1000000 loops each)\n",
      "588 ns ± 10.7 ns per loop (mean ± std. dev. of 7 runs, 1000000 loops each)\n"
     ]
    },
    {
     "data": {
      "text/plain": [
       "<TimeitResult : 588 ns ± 10.7 ns per loop (mean ± std. dev. of 7 runs, 1000000 loops each)>"
      ]
     },
     "execution_count": 25,
     "metadata": {},
     "output_type": "execute_result"
    }
   ],
   "source": [
    "import numba \n",
    "import numpy as np\n",
    "\n",
    "def sum_1(a,b):\n",
    "    result = 0.0\n",
    "    for i,j in zip(a,b):\n",
    "            result += (i+j)\n",
    "    return result\n",
    "\n",
    "@numba.jit(nopython=True)\n",
    "def sum_2(a,b):\n",
    "    result = 0.0\n",
    "    for i,j in zip(a,b):\n",
    "            result += (i+j)\n",
    "    return result\n",
    "\n",
    "# try 100\n",
    "a = np.linspace(1.0,2.0,5)\n",
    "b = np.linspace(1.0,2.0,5)\n",
    "print(\"pure python: \")\n",
    "%timeit -o sum_1(a,b)\n",
    "print(\"python + numba: \")\n",
    "%timeit -o sum_2(a,b)"
   ]
  },
  {
   "cell_type": "code",
   "execution_count": null,
   "metadata": {},
   "outputs": [],
   "source": []
  }
 ],
 "metadata": {
  "hide_input": false,
  "kernelspec": {
   "display_name": "Python 3",
   "language": "python",
   "name": "python3"
  },
  "language_info": {
   "codemirror_mode": {
    "name": "ipython",
    "version": 3
   },
   "file_extension": ".py",
   "mimetype": "text/x-python",
   "name": "python",
   "nbconvert_exporter": "python",
   "pygments_lexer": "ipython3",
   "version": "3.7.0"
  },
  "latex_envs": {
   "LaTeX_envs_menu_present": true,
   "autoclose": false,
   "autocomplete": true,
   "bibliofile": "biblio.bib",
   "cite_by": "apalike",
   "current_citInitial": 1,
   "eqLabelWithNumbers": true,
   "eqNumInitial": 1,
   "hotkeys": {
    "equation": "Ctrl-E",
    "itemize": "Ctrl-I"
   },
   "labels_anchors": false,
   "latex_user_defs": false,
   "report_style_numbering": false,
   "user_envs_cfg": false
  },
  "varInspector": {
   "cols": {
    "lenName": 16,
    "lenType": 16,
    "lenVar": 40
   },
   "kernels_config": {
    "python": {
     "delete_cmd_postfix": "",
     "delete_cmd_prefix": "del ",
     "library": "var_list.py",
     "varRefreshCmd": "print(var_dic_list())"
    },
    "r": {
     "delete_cmd_postfix": ") ",
     "delete_cmd_prefix": "rm(",
     "library": "var_list.r",
     "varRefreshCmd": "cat(var_dic_list()) "
    }
   },
   "types_to_exclude": [
    "module",
    "function",
    "builtin_function_or_method",
    "instance",
    "_Feature"
   ],
   "window_display": false
  }
 },
 "nbformat": 4,
 "nbformat_minor": 2
}
